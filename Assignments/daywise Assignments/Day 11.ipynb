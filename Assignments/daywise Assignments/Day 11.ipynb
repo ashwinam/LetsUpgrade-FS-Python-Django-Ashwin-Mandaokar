{
 "cells": [
  {
   "cell_type": "markdown",
   "id": "5db6dda6",
   "metadata": {},
   "source": [
    "# CLASS METHODS & STATIC METHOD"
   ]
  },
  {
   "cell_type": "code",
   "execution_count": 24,
   "id": "a0da5d99",
   "metadata": {},
   "outputs": [],
   "source": [
    "class Employee:\n",
    "    num_of_employees=0\n",
    "    raise_amount=1.05\n",
    "    def __init__(self,first,last,pay):\n",
    "        self.first=first\n",
    "        self.last=last\n",
    "        self.email=first+'.'+last+'@ea.com'\n",
    "        self.pay=pay\n",
    "        Employee.num_of_employees +=1\n",
    "    def fullIntro(self):\n",
    "        return f'My name is {self.first} {self.last},i get the {self.pay} p.a. and you can contact me \"{self.email}\" here.'\n",
    "    \n",
    "    def apply_raise(self):\n",
    "        self.pay=int(self.pay*self.raise_amount) \n",
    "        \n",
    "    @classmethod #Decorators\n",
    "    def set_raise_amount(cls,amount):\n",
    "        cls.raise_amount=amount"
   ]
  },
  {
   "cell_type": "code",
   "execution_count": 15,
   "id": "6d74533d",
   "metadata": {},
   "outputs": [],
   "source": [
    "emp_1=Employee('Ashwin','Mandaokar','2500000')"
   ]
  },
  {
   "cell_type": "code",
   "execution_count": 16,
   "id": "54af9066",
   "metadata": {},
   "outputs": [
    {
     "data": {
      "text/plain": [
       "'My name is Ashwin Mandaokar,i get the 2500000 p.a. and you can contact me \"Ashwin.Mandaokar@ea.com\" here.'"
      ]
     },
     "execution_count": 16,
     "metadata": {},
     "output_type": "execute_result"
    }
   ],
   "source": [
    "emp_1.fullIntro()"
   ]
  },
  {
   "cell_type": "code",
   "execution_count": 20,
   "id": "344e3f27",
   "metadata": {},
   "outputs": [],
   "source": [
    "emp_1=Employee('Ashwin','Mandaokar','2500000')\n",
    "emp_2=Employee('ashish','singh','1200000')"
   ]
  },
  {
   "cell_type": "code",
   "execution_count": 21,
   "id": "0cf109a4",
   "metadata": {},
   "outputs": [
    {
     "name": "stdout",
     "output_type": "stream",
     "text": [
      "1.05\n",
      "1.05\n",
      "1.05\n"
     ]
    }
   ],
   "source": [
    "print(Employee.raise_amount)\n",
    "print(emp_1.raise_amount)\n",
    "print(emp_2.raise_amount)"
   ]
  },
  {
   "cell_type": "code",
   "execution_count": 22,
   "id": "3226476b",
   "metadata": {},
   "outputs": [],
   "source": [
    "Employee.set_raise_amount(1.10)\n",
    "# Employee.raise_amount=1.10 ###Both are same"
   ]
  },
  {
   "cell_type": "code",
   "execution_count": 23,
   "id": "e5ef5174",
   "metadata": {},
   "outputs": [
    {
     "name": "stdout",
     "output_type": "stream",
     "text": [
      "1.1\n",
      "1.1\n",
      "1.1\n"
     ]
    }
   ],
   "source": [
    "print(Employee.raise_amount)\n",
    "print(emp_1.raise_amount)\n",
    "print(emp_2.raise_amount)"
   ]
  },
  {
   "cell_type": "code",
   "execution_count": 26,
   "id": "09db190d",
   "metadata": {},
   "outputs": [
    {
     "data": {
      "text/plain": [
       "'ashwin.mandaokar@ea.com'"
      ]
     },
     "execution_count": 26,
     "metadata": {},
     "output_type": "execute_result"
    }
   ],
   "source": [
    "emp_str_1=\"ashwin-mandaokar-1995\"\n",
    "first,last,year=emp_str_1.split(\"-\")\n",
    "emp_3=Employee(first,last,year)\n",
    "emp_3.email"
   ]
  },
  {
   "cell_type": "code",
   "execution_count": 27,
   "id": "3b92fb2f",
   "metadata": {},
   "outputs": [],
   "source": [
    "class Employee:\n",
    "    num_of_employees = 0\n",
    "    raise_amount = 1.05\n",
    "    def __init__(self, first, last, pay):\n",
    "        self.first = first\n",
    "        self.last = last\n",
    "        self.email = first + '.' + last + '@email.com'\n",
    "        self.pay = pay\n",
    "        Employee.num_of_employees +=1\n",
    "\n",
    "    def fullname(self):\n",
    "        return '{} {}'.format(self.first, self.last)\n",
    "    \n",
    "    def apply_raise(self):\n",
    "        self.pay = int(self.pay*self.raise_amount) # self.raise_amount\n",
    "        \n",
    "    @classmethod\n",
    "    def set_raise_amount(cls,amount):\n",
    "        cls.raise_amount  = amount\n",
    "    @classmethod\n",
    "    def from_string(cls,emp_str):\n",
    "        first ,last ,salary = emp_str.split('-')\n",
    "        # alternative constructor\n",
    "        return cls(first,last,salary)\n",
    "        # Employee(first,last ,salary)\n",
    "        \n",
    "        "
   ]
  },
  {
   "cell_type": "code",
   "execution_count": 32,
   "id": "dc720240",
   "metadata": {},
   "outputs": [],
   "source": [
    "newEmp1=Employee.from_string('rahul-durg-256598')"
   ]
  },
  {
   "cell_type": "code",
   "execution_count": 33,
   "id": "5c5dcc5c",
   "metadata": {},
   "outputs": [
    {
     "data": {
      "text/plain": [
       "'rahul durg'"
      ]
     },
     "execution_count": 33,
     "metadata": {},
     "output_type": "execute_result"
    }
   ],
   "source": [
    "newEmp1.fullname()"
   ]
  },
  {
   "cell_type": "code",
   "execution_count": 34,
   "id": "9a639ae1",
   "metadata": {},
   "outputs": [
    {
     "data": {
      "text/plain": [
       "['__class__',\n",
       " '__delattr__',\n",
       " '__dict__',\n",
       " '__dir__',\n",
       " '__doc__',\n",
       " '__eq__',\n",
       " '__format__',\n",
       " '__ge__',\n",
       " '__getattribute__',\n",
       " '__gt__',\n",
       " '__hash__',\n",
       " '__init__',\n",
       " '__init_subclass__',\n",
       " '__le__',\n",
       " '__lt__',\n",
       " '__module__',\n",
       " '__ne__',\n",
       " '__new__',\n",
       " '__reduce__',\n",
       " '__reduce_ex__',\n",
       " '__repr__',\n",
       " '__setattr__',\n",
       " '__sizeof__',\n",
       " '__str__',\n",
       " '__subclasshook__',\n",
       " '__weakref__',\n",
       " 'apply_raise',\n",
       " 'from_string',\n",
       " 'fullname',\n",
       " 'num_of_employees',\n",
       " 'raise_amount',\n",
       " 'set_raise_amount']"
      ]
     },
     "execution_count": 34,
     "metadata": {},
     "output_type": "execute_result"
    }
   ],
   "source": [
    "dir(Employee)"
   ]
  },
  {
   "cell_type": "code",
   "execution_count": 35,
   "id": "6f3e0efd",
   "metadata": {},
   "outputs": [],
   "source": [
    "class Employee:\n",
    "    num_of_employees = 0\n",
    "    raise_amount = 1.05\n",
    "    def __init__(self, first, last, pay):\n",
    "        self.first = first\n",
    "        self.last = last\n",
    "        self.email = first + '.' + last + '@email.com'\n",
    "        self.pay = pay\n",
    "        Employee.num_of_employees +=1\n",
    "\n",
    "    def fullname(self):\n",
    "        return '{} {}'.format(self.first, self.last)\n",
    "    \n",
    "    def apply_raise(self):\n",
    "        self.pay = int(self.pay*self.raise_amount) # self.raise_amount\n",
    "        \n",
    "    @classmethod\n",
    "    def set_raise_amount(cls,amount):\n",
    "        cls.raise_amount  = amount\n",
    "    @classmethod\n",
    "    def from_string(cls,emp_str):\n",
    "        first ,last ,salary = emp_str.split('-')\n",
    "        # alternative constructor\n",
    "        return cls(first,last,salary)\n",
    "    @staticmethod\n",
    "    def is_Workday(day):\n",
    "        if day.weekday()==5 or day.weekday() ==6:\n",
    "            return False\n",
    "        \n",
    "        return True\n",
    "    \n",
    "    @staticmethod\n",
    "    def sum_me(a,b):\n",
    "        return a+b\n",
    "        "
   ]
  },
  {
   "cell_type": "code",
   "execution_count": 37,
   "id": "3a70f379",
   "metadata": {},
   "outputs": [],
   "source": [
    "from datetime import date"
   ]
  },
  {
   "cell_type": "code",
   "execution_count": 38,
   "id": "bdefe9e6",
   "metadata": {},
   "outputs": [
    {
     "data": {
      "text/plain": [
       "datetime.date(2021, 6, 22)"
      ]
     },
     "execution_count": 38,
     "metadata": {},
     "output_type": "execute_result"
    }
   ],
   "source": [
    "date.today()"
   ]
  },
  {
   "cell_type": "code",
   "execution_count": 41,
   "id": "51eeefb1",
   "metadata": {},
   "outputs": [
    {
     "data": {
      "text/plain": [
       "False"
      ]
     },
     "execution_count": 41,
     "metadata": {},
     "output_type": "execute_result"
    }
   ],
   "source": [
    "Employee.is_Workday(date(2021, 6, 26))"
   ]
  },
  {
   "cell_type": "code",
   "execution_count": 42,
   "id": "549f0711",
   "metadata": {},
   "outputs": [],
   "source": [
    "class Employee1:\n",
    "    pass"
   ]
  },
  {
   "cell_type": "code",
   "execution_count": 43,
   "id": "86810159",
   "metadata": {},
   "outputs": [
    {
     "data": {
      "text/plain": [
       "['__class__',\n",
       " '__delattr__',\n",
       " '__dict__',\n",
       " '__dir__',\n",
       " '__doc__',\n",
       " '__eq__',\n",
       " '__format__',\n",
       " '__ge__',\n",
       " '__getattribute__',\n",
       " '__gt__',\n",
       " '__hash__',\n",
       " '__init__',\n",
       " '__init_subclass__',\n",
       " '__le__',\n",
       " '__lt__',\n",
       " '__module__',\n",
       " '__ne__',\n",
       " '__new__',\n",
       " '__reduce__',\n",
       " '__reduce_ex__',\n",
       " '__repr__',\n",
       " '__setattr__',\n",
       " '__sizeof__',\n",
       " '__str__',\n",
       " '__subclasshook__',\n",
       " '__weakref__']"
      ]
     },
     "execution_count": 43,
     "metadata": {},
     "output_type": "execute_result"
    }
   ],
   "source": [
    "dir(Employee1)"
   ]
  },
  {
   "cell_type": "markdown",
   "id": "f155e63d",
   "metadata": {},
   "source": [
    "# <font color='red'>INHERITANCE</str>"
   ]
  },
  {
   "cell_type": "code",
   "execution_count": 44,
   "id": "01b540be",
   "metadata": {},
   "outputs": [],
   "source": [
    "class Employee:\n",
    "    num_of_employees = 0\n",
    "    raise_amount = 1.05\n",
    "    def __init__(self, first, last, pay):\n",
    "        self.first = first\n",
    "        self.last = last\n",
    "        self.email = first + '.' + last + '@email.com'\n",
    "        self.pay = pay\n",
    "        Employee.num_of_employees +=1\n",
    "\n",
    "    def fullname(self):\n",
    "        return '{} {}'.format(self.first, self.last)\n",
    "    \n",
    "    def apply_raise(self):\n",
    "        self.pay = int(self.pay*self.raise_amount) # self.raise_amount"
   ]
  },
  {
   "cell_type": "code",
   "execution_count": 47,
   "id": "142dc228",
   "metadata": {},
   "outputs": [],
   "source": [
    "class Developer(Employee):\n",
    "    pass"
   ]
  },
  {
   "cell_type": "code",
   "execution_count": 49,
   "id": "491360d3",
   "metadata": {},
   "outputs": [
    {
     "data": {
      "text/plain": [
       "True"
      ]
     },
     "execution_count": 49,
     "metadata": {},
     "output_type": "execute_result"
    }
   ],
   "source": [
    "issubclass(Developer,Employee)"
   ]
  },
  {
   "cell_type": "code",
   "execution_count": 50,
   "id": "be6b37b6",
   "metadata": {},
   "outputs": [],
   "source": [
    "abc=Developer(\"ashwin\",'Mandaokar','110000')"
   ]
  },
  {
   "cell_type": "code",
   "execution_count": 51,
   "id": "c71bbcfc",
   "metadata": {},
   "outputs": [
    {
     "data": {
      "text/plain": [
       "'ashwin.Mandaokar@email.com'"
      ]
     },
     "execution_count": 51,
     "metadata": {},
     "output_type": "execute_result"
    }
   ],
   "source": [
    "abc.email"
   ]
  },
  {
   "cell_type": "code",
   "execution_count": 52,
   "id": "3dc28439",
   "metadata": {},
   "outputs": [
    {
     "data": {
      "text/plain": [
       "'110000'"
      ]
     },
     "execution_count": 52,
     "metadata": {},
     "output_type": "execute_result"
    }
   ],
   "source": [
    "abc.pay"
   ]
  },
  {
   "cell_type": "code",
   "execution_count": 53,
   "id": "9631d01c",
   "metadata": {},
   "outputs": [],
   "source": [
    "#method resolution order"
   ]
  },
  {
   "cell_type": "code",
   "execution_count": 54,
   "id": "571afad5",
   "metadata": {},
   "outputs": [
    {
     "data": {
      "text/plain": [
       "[__main__.Employee, object]"
      ]
     },
     "execution_count": 54,
     "metadata": {},
     "output_type": "execute_result"
    }
   ],
   "source": [
    "Employee.mro()"
   ]
  },
  {
   "cell_type": "code",
   "execution_count": 55,
   "id": "152df658",
   "metadata": {},
   "outputs": [
    {
     "data": {
      "text/plain": [
       "[__main__.Developer, __main__.Employee, object]"
      ]
     },
     "execution_count": 55,
     "metadata": {},
     "output_type": "execute_result"
    }
   ],
   "source": [
    "Developer.mro()"
   ]
  },
  {
   "cell_type": "code",
   "execution_count": 56,
   "id": "8471bc12",
   "metadata": {},
   "outputs": [
    {
     "name": "stdout",
     "output_type": "stream",
     "text": [
      "Help on class Developer in module __main__:\n",
      "\n",
      "class Developer(Employee)\n",
      " |  Developer(first, last, pay)\n",
      " |  \n",
      " |  Method resolution order:\n",
      " |      Developer\n",
      " |      Employee\n",
      " |      builtins.object\n",
      " |  \n",
      " |  Methods inherited from Employee:\n",
      " |  \n",
      " |  __init__(self, first, last, pay)\n",
      " |      Initialize self.  See help(type(self)) for accurate signature.\n",
      " |  \n",
      " |  apply_raise(self)\n",
      " |  \n",
      " |  fullname(self)\n",
      " |  \n",
      " |  ----------------------------------------------------------------------\n",
      " |  Data descriptors inherited from Employee:\n",
      " |  \n",
      " |  __dict__\n",
      " |      dictionary for instance variables (if defined)\n",
      " |  \n",
      " |  __weakref__\n",
      " |      list of weak references to the object (if defined)\n",
      " |  \n",
      " |  ----------------------------------------------------------------------\n",
      " |  Data and other attributes inherited from Employee:\n",
      " |  \n",
      " |  num_of_employees = 1\n",
      " |  \n",
      " |  raise_amount = 1.05\n",
      "\n"
     ]
    }
   ],
   "source": [
    "help(Developer)"
   ]
  },
  {
   "cell_type": "code",
   "execution_count": 57,
   "id": "8543c9ba",
   "metadata": {},
   "outputs": [],
   "source": [
    "class Developer(Employee) :\n",
    "    raise_amount =1.10\n",
    "    def __init__(self , first ,last ,pay ,prog_lang,editor):\n",
    "        super().__init__(first,last,pay)\n",
    "        #Employee.__init__(self,first,last,pay) # method 2 \n",
    "\n",
    "        self.prog_lang = prog_lang\n",
    "        self.editor = editor\n",
    "        \n",
    "    @staticmethod\n",
    "    def sub_me(a,b):\n",
    "        return a-b\n",
    "    \n"
   ]
  },
  {
   "cell_type": "code",
   "execution_count": null,
   "id": "96f0bc5e",
   "metadata": {},
   "outputs": [],
   "source": [
    "a=Developer('ashwin','mandaokar','225000','Py')"
   ]
  }
 ],
 "metadata": {
  "kernelspec": {
   "display_name": "Python 3",
   "language": "python",
   "name": "python3"
  },
  "language_info": {
   "codemirror_mode": {
    "name": "ipython",
    "version": 3
   },
   "file_extension": ".py",
   "mimetype": "text/x-python",
   "name": "python",
   "nbconvert_exporter": "python",
   "pygments_lexer": "ipython3",
   "version": "3.9.1"
  }
 },
 "nbformat": 4,
 "nbformat_minor": 5
}
