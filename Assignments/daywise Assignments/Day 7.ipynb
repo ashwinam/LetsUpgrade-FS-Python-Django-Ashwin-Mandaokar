{
 "cells": [
  {
   "cell_type": "markdown",
   "id": "9f3d8107",
   "metadata": {},
   "source": [
    "# Regular expression"
   ]
  },
  {
   "cell_type": "code",
   "execution_count": 1,
   "id": "f06c0e77",
   "metadata": {},
   "outputs": [
    {
     "name": "stdout",
     "output_type": "stream",
     "text": [
      "this is abc abc\n",
      "abc pqr abc\n",
      "abcpqrs abc\n",
      "abc is there abc\n",
      "not found not at all\n"
     ]
    }
   ],
   "source": [
    "search_item='abc'\n",
    "list_of_item=['this is abc','abc pqr','abcpqrs','abc is there','not at all']\n",
    "for item in list_of_item:\n",
    "    if search_item in item:\n",
    "        print(item,search_item)\n",
    "    else:\n",
    "        print(f'not found {item}')"
   ]
  },
  {
   "cell_type": "code",
   "execution_count": 4,
   "id": "846ba470",
   "metadata": {},
   "outputs": [],
   "source": [
    "# search_item=['abc1','abc2','abc3','abc4','abc9']\n",
    "# list_of_item=['this is abc123','abc45 pqr','abcpqrs 456','abc is there 1a4s','not at all']\n",
    "# for item in list_of_item:\n",
    "#     if [i for i in search_item] in item:\n",
    "#         print(item,search_item)\n",
    "#     else:\n",
    "#         print(f'not found {item}')"
   ]
  },
  {
   "cell_type": "code",
   "execution_count": 5,
   "id": "aef2d777",
   "metadata": {},
   "outputs": [],
   "source": [
    "import re"
   ]
  },
  {
   "cell_type": "code",
   "execution_count": 6,
   "id": "37f82e92",
   "metadata": {},
   "outputs": [],
   "source": [
    "s='foo123bar'"
   ]
  },
  {
   "cell_type": "code",
   "execution_count": 7,
   "id": "de19d3d9",
   "metadata": {},
   "outputs": [
    {
     "data": {
      "text/plain": [
       "True"
      ]
     },
     "execution_count": 7,
     "metadata": {},
     "output_type": "execute_result"
    }
   ],
   "source": [
    "'123' in s"
   ]
  },
  {
   "cell_type": "code",
   "execution_count": 8,
   "id": "f2e73f55",
   "metadata": {},
   "outputs": [
    {
     "data": {
      "text/plain": [
       "True"
      ]
     },
     "execution_count": 8,
     "metadata": {},
     "output_type": "execute_result"
    }
   ],
   "source": [
    "'12' in s"
   ]
  },
  {
   "cell_type": "code",
   "execution_count": 9,
   "id": "773d4657",
   "metadata": {},
   "outputs": [
    {
     "data": {
      "text/plain": [
       "3"
      ]
     },
     "execution_count": 9,
     "metadata": {},
     "output_type": "execute_result"
    }
   ],
   "source": [
    "s.find('123')"
   ]
  },
  {
   "cell_type": "code",
   "execution_count": 11,
   "id": "3ea58ba4",
   "metadata": {},
   "outputs": [
    {
     "data": {
      "text/plain": [
       "3"
      ]
     },
     "execution_count": 11,
     "metadata": {},
     "output_type": "execute_result"
    }
   ],
   "source": [
    "s.index('123')"
   ]
  },
  {
   "cell_type": "code",
   "execution_count": 12,
   "id": "f003536e",
   "metadata": {},
   "outputs": [
    {
     "data": {
      "text/plain": [
       "<re.Match object; span=(3, 6), match='123'>"
      ]
     },
     "execution_count": 12,
     "metadata": {},
     "output_type": "execute_result"
    }
   ],
   "source": [
    "re.search('123',s)"
   ]
  },
  {
   "cell_type": "code",
   "execution_count": 15,
   "id": "7ccfc77e",
   "metadata": {},
   "outputs": [
    {
     "name": "stdout",
     "output_type": "stream",
     "text": [
      "Not Found\n"
     ]
    }
   ],
   "source": [
    "if re.search('1223',s):\n",
    "    print('found')\n",
    "else:\n",
    "    print('Not Found')"
   ]
  },
  {
   "cell_type": "code",
   "execution_count": 16,
   "id": "54e9486e",
   "metadata": {},
   "outputs": [
    {
     "data": {
      "text/plain": [
       "<re.Match object; span=(3, 7), match='123b'>"
      ]
     },
     "execution_count": 16,
     "metadata": {},
     "output_type": "execute_result"
    }
   ],
   "source": [
    "re.search('123[a-z]',s)"
   ]
  },
  {
   "cell_type": "code",
   "execution_count": 17,
   "id": "5ce40e15",
   "metadata": {},
   "outputs": [
    {
     "data": {
      "text/plain": [
       "<re.Match object; span=(3, 9), match='123bar'>"
      ]
     },
     "execution_count": 17,
     "metadata": {},
     "output_type": "execute_result"
    }
   ],
   "source": [
    "re.search('123[a-z][a-z][a-z]',s)"
   ]
  },
  {
   "cell_type": "code",
   "execution_count": 25,
   "id": "eb9d265e",
   "metadata": {},
   "outputs": [],
   "source": [
    "s1='foo1A23bar'"
   ]
  },
  {
   "cell_type": "code",
   "execution_count": 20,
   "id": "2127dbc5",
   "metadata": {},
   "outputs": [
    {
     "data": {
      "text/plain": [
       "<re.Match object; span=(0, 9), match='foo123bar'>"
      ]
     },
     "execution_count": 20,
     "metadata": {},
     "output_type": "execute_result"
    }
   ],
   "source": [
    "re.search('[a-z][a-z][a-z][0-9][0-9][0-9][a-z][a-z][a-z]',s1)"
   ]
  },
  {
   "cell_type": "code",
   "execution_count": 26,
   "id": "cc986ba5",
   "metadata": {},
   "outputs": [
    {
     "data": {
      "text/plain": [
       "<re.Match object; span=(0, 10), match='foo1A23bar'>"
      ]
     },
     "execution_count": 26,
     "metadata": {},
     "output_type": "execute_result"
    }
   ],
   "source": [
    "re.search('[a-z][a-z][a-z][0-9][A-Z][0-9][0-9][a-z][a-z][a-z]',s1)"
   ]
  },
  {
   "cell_type": "code",
   "execution_count": 27,
   "id": "c764fb1c",
   "metadata": {},
   "outputs": [],
   "source": [
    "s='ashwin95m@gmail.com'"
   ]
  },
  {
   "cell_type": "code",
   "execution_count": 29,
   "id": "22221885",
   "metadata": {},
   "outputs": [
    {
     "data": {
      "text/plain": [
       "<re.Match object; span=(7, 11), match='5m@g'>"
      ]
     },
     "execution_count": 29,
     "metadata": {},
     "output_type": "execute_result"
    }
   ],
   "source": [
    "re.search('[0-9][a-z][@,.][a-z]',s)"
   ]
  },
  {
   "cell_type": "code",
   "execution_count": 34,
   "id": "0d65e3c7",
   "metadata": {},
   "outputs": [
    {
     "name": "stdout",
     "output_type": "stream",
     "text": [
      "<re.Match object; span=(3, 6), match='005'>\n",
      "<re.Match object; span=(1, 4), match='009'>\n",
      "<re.Match object; span=(4, 7), match='455'>\n"
     ]
    }
   ],
   "source": [
    "print(re.search('[0-9][0-9][0-9]','adf005asd'))\n",
    "print(re.search('[0-9][0-9][0-9]','a009fds554'))\n",
    "print(re.search('[0-9][0-9][0-9]','amnh4558asd'))"
   ]
  },
  {
   "cell_type": "markdown",
   "id": "5410f30a",
   "metadata": {},
   "source": [
    "## dot(.) metacharacter"
   ]
  },
  {
   "cell_type": "code",
   "execution_count": 44,
   "id": "f95a1b8b",
   "metadata": {},
   "outputs": [],
   "source": [
    "s='foo1aa233bar'"
   ]
  },
  {
   "cell_type": "code",
   "execution_count": 36,
   "id": "70660c71",
   "metadata": {},
   "outputs": [
    {
     "data": {
      "text/plain": [
       "<re.Match object; span=(3, 6), match='123'>"
      ]
     },
     "execution_count": 36,
     "metadata": {},
     "output_type": "execute_result"
    }
   ],
   "source": [
    "re.search('1.3',s)"
   ]
  },
  {
   "cell_type": "code",
   "execution_count": 38,
   "id": "103996a8",
   "metadata": {},
   "outputs": [
    {
     "data": {
      "text/plain": [
       "<re.Match object; span=(3, 6), match='1a3'>"
      ]
     },
     "execution_count": 38,
     "metadata": {},
     "output_type": "execute_result"
    }
   ],
   "source": [
    "re.search('1.3',s)"
   ]
  },
  {
   "cell_type": "code",
   "execution_count": 41,
   "id": "5be3c061",
   "metadata": {},
   "outputs": [
    {
     "data": {
      "text/plain": [
       "<re.Match object; span=(3, 7), match='1aa3'>"
      ]
     },
     "execution_count": 41,
     "metadata": {},
     "output_type": "execute_result"
    }
   ],
   "source": [
    "re.search('1..3',s)"
   ]
  },
  {
   "cell_type": "code",
   "execution_count": 46,
   "id": "7c4a2143",
   "metadata": {},
   "outputs": [
    {
     "data": {
      "text/plain": [
       "<re.Match object; span=(3, 9), match='1aa233'>"
      ]
     },
     "execution_count": 46,
     "metadata": {},
     "output_type": "execute_result"
    }
   ],
   "source": [
    "re.search('1....3',s)"
   ]
  },
  {
   "cell_type": "code",
   "execution_count": 47,
   "id": "48f6146a",
   "metadata": {},
   "outputs": [
    {
     "data": {
      "text/plain": [
       "<re.Match object; span=(0, 12), match='foo1aa233bar'>"
      ]
     },
     "execution_count": 47,
     "metadata": {},
     "output_type": "execute_result"
    }
   ],
   "source": [
    "re.search('f..........r',s)"
   ]
  },
  {
   "cell_type": "code",
   "execution_count": 48,
   "id": "2ea9cc1d",
   "metadata": {},
   "outputs": [],
   "source": [
    "s='foo123bar'\n"
   ]
  },
  {
   "cell_type": "code",
   "execution_count": 50,
   "id": "4163cb28",
   "metadata": {},
   "outputs": [
    {
     "data": {
      "text/plain": [
       "<re.Match object; span=(0, 4), match='foo1'>"
      ]
     },
     "execution_count": 50,
     "metadata": {},
     "output_type": "execute_result"
    }
   ],
   "source": [
    "re.search('^[a-z][a-z][a-z][0-9]',s) # '^' start of the string"
   ]
  },
  {
   "cell_type": "code",
   "execution_count": 53,
   "id": "aaa6a765",
   "metadata": {},
   "outputs": [
    {
     "data": {
      "text/plain": [
       "<re.Match object; span=(5, 9), match='3bar'>"
      ]
     },
     "execution_count": 53,
     "metadata": {},
     "output_type": "execute_result"
    }
   ],
   "source": [
    "re.search('[0-9][a-z][a-z][a-z]$',s) # '$' end of the string"
   ]
  },
  {
   "cell_type": "markdown",
   "id": "eeb52910",
   "metadata": {},
   "source": [
    "### ([]) Character Class"
   ]
  },
  {
   "cell_type": "code",
   "execution_count": 54,
   "id": "ac80de16",
   "metadata": {},
   "outputs": [
    {
     "data": {
      "text/plain": [
       "<re.Match object; span=(3, 6), match='bar'>"
      ]
     },
     "execution_count": 54,
     "metadata": {},
     "output_type": "execute_result"
    }
   ],
   "source": [
    "re.search('ba[artz]','f00bartzqux')\n",
    "'''\n",
    "baa\n",
    "bar\n",
    "bat\n",
    "baz\n",
    "'''"
   ]
  },
  {
   "cell_type": "code",
   "execution_count": 56,
   "id": "8ba94004",
   "metadata": {},
   "outputs": [
    {
     "data": {
      "text/plain": [
       "<re.Match object; span=(0, 3), match='kam'>"
      ]
     },
     "execution_count": 56,
     "metadata": {},
     "output_type": "execute_result"
    }
   ],
   "source": [
    "re.search('ka[ma]','kams')"
   ]
  },
  {
   "cell_type": "code",
   "execution_count": 58,
   "id": "be5dc8f2",
   "metadata": {},
   "outputs": [
    {
     "data": {
      "text/plain": [
       "<re.Match object; span=(3, 4), match='b'>"
      ]
     },
     "execution_count": 58,
     "metadata": {},
     "output_type": "execute_result"
    }
   ],
   "source": [
    "re.search('[a-z]','F00bar')"
   ]
  },
  {
   "cell_type": "code",
   "execution_count": 62,
   "id": "add04694",
   "metadata": {},
   "outputs": [
    {
     "data": {
      "text/plain": [
       "<re.Match object; span=(0, 2), match='Fa'>"
      ]
     },
     "execution_count": 62,
     "metadata": {},
     "output_type": "execute_result"
    }
   ],
   "source": [
    "re.search('[A-Z][a-z]','Fa00bar')"
   ]
  },
  {
   "cell_type": "code",
   "execution_count": 63,
   "id": "3b8d9d88",
   "metadata": {},
   "outputs": [
    {
     "data": {
      "text/plain": [
       "<re.Match object; span=(3, 5), match='0b'>"
      ]
     },
     "execution_count": 63,
     "metadata": {},
     "output_type": "execute_result"
    }
   ],
   "source": [
    "re.search('[0-9][a-z]','Fa00bar')"
   ]
  },
  {
   "cell_type": "code",
   "execution_count": 65,
   "id": "73ff1744",
   "metadata": {},
   "outputs": [
    {
     "data": {
      "text/plain": [
       "<re.Match object; span=(1, 3), match='sh'>"
      ]
     },
     "execution_count": 65,
     "metadata": {},
     "output_type": "execute_result"
    }
   ],
   "source": [
    "re.search('[^aeiou][^aeiou]','ashwin')"
   ]
  },
  {
   "cell_type": "code",
   "execution_count": null,
   "id": "ec1723ad",
   "metadata": {},
   "outputs": [],
   "source": []
  }
 ],
 "metadata": {
  "kernelspec": {
   "display_name": "Python 3",
   "language": "python",
   "name": "python3"
  },
  "language_info": {
   "codemirror_mode": {
    "name": "ipython",
    "version": 3
   },
   "file_extension": ".py",
   "mimetype": "text/x-python",
   "name": "python",
   "nbconvert_exporter": "python",
   "pygments_lexer": "ipython3",
   "version": "3.9.1"
  }
 },
 "nbformat": 4,
 "nbformat_minor": 5
}
