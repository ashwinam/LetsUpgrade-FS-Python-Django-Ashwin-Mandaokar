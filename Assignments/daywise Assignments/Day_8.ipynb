{
 "cells": [
  {
   "cell_type": "markdown",
   "id": "c7ba0ebb",
   "metadata": {},
   "source": [
    "# <font color='darkgrey'>OBJECT ORIENTED PROGRAMING</str>"
   ]
  },
  {
   "cell_type": "code",
   "execution_count": 1,
   "id": "e9b26825",
   "metadata": {},
   "outputs": [],
   "source": [
    "import re"
   ]
  },
  {
   "cell_type": "code",
   "execution_count": 2,
   "id": "523ee3e7",
   "metadata": {},
   "outputs": [
    {
     "data": {
      "text/plain": [
       "<module 're' from 'c:\\\\users\\\\a_man\\\\appdata\\\\local\\\\programs\\\\python\\\\python39\\\\lib\\\\re.py'>"
      ]
     },
     "execution_count": 2,
     "metadata": {},
     "output_type": "execute_result"
    }
   ],
   "source": [
    "re"
   ]
  },
  {
   "cell_type": "code",
   "execution_count": 4,
   "id": "1e15ab1d",
   "metadata": {},
   "outputs": [
    {
     "name": "stdout",
     "output_type": "stream",
     "text": [
      "Support for regular expressions (RE).\n",
      "\n",
      "This module provides regular expression matching operations similar to\n",
      "those found in Perl.  It supports both 8-bit and Unicode strings; both\n",
      "the pattern and the strings being processed can contain null bytes and\n",
      "characters outside the US ASCII range.\n",
      "\n",
      "Regular expressions can contain both special and ordinary characters.\n",
      "Most ordinary characters, like \"A\", \"a\", or \"0\", are the simplest\n",
      "regular expressions; they simply match themselves.  You can\n",
      "concatenate ordinary characters, so last matches the string 'last'.\n",
      "\n",
      "The special characters are:\n",
      "    \".\"      Matches any character except a newline.\n",
      "    \"^\"      Matches the start of the string.\n",
      "    \"$\"      Matches the end of the string or just before the newline at\n",
      "             the end of the string.\n",
      "    \"*\"      Matches 0 or more (greedy) repetitions of the preceding RE.\n",
      "             Greedy means that it will match as many repetitions as possible.\n",
      "    \"+\"      Matches 1 or more (greedy) repetitions of the preceding RE.\n",
      "    \"?\"      Matches 0 or 1 (greedy) of the preceding RE.\n",
      "    *?,+?,?? Non-greedy versions of the previous three special characters.\n",
      "    {m,n}    Matches from m to n repetitions of the preceding RE.\n",
      "    {m,n}?   Non-greedy version of the above.\n",
      "    \"\\\\\"     Either escapes special characters or signals a special sequence.\n",
      "    []       Indicates a set of characters.\n",
      "             A \"^\" as the first character indicates a complementing set.\n",
      "    \"|\"      A|B, creates an RE that will match either A or B.\n",
      "    (...)    Matches the RE inside the parentheses.\n",
      "             The contents can be retrieved or matched later in the string.\n",
      "    (?aiLmsux) The letters set the corresponding flags defined below.\n",
      "    (?:...)  Non-grouping version of regular parentheses.\n",
      "    (?P<name>...) The substring matched by the group is accessible by name.\n",
      "    (?P=name)     Matches the text matched earlier by the group named name.\n",
      "    (?#...)  A comment; ignored.\n",
      "    (?=...)  Matches if ... matches next, but doesn't consume the string.\n",
      "    (?!...)  Matches if ... doesn't match next.\n",
      "    (?<=...) Matches if preceded by ... (must be fixed length).\n",
      "    (?<!...) Matches if not preceded by ... (must be fixed length).\n",
      "    (?(id/name)yes|no) Matches yes pattern if the group with id/name matched,\n",
      "                       the (optional) no pattern otherwise.\n",
      "\n",
      "The special sequences consist of \"\\\\\" and a character from the list\n",
      "below.  If the ordinary character is not on the list, then the\n",
      "resulting RE will match the second character.\n",
      "    \\number  Matches the contents of the group of the same number.\n",
      "    \\A       Matches only at the start of the string.\n",
      "    \\Z       Matches only at the end of the string.\n",
      "    \\b       Matches the empty string, but only at the start or end of a word.\n",
      "    \\B       Matches the empty string, but not at the start or end of a word.\n",
      "    \\d       Matches any decimal digit; equivalent to the set [0-9] in\n",
      "             bytes patterns or string patterns with the ASCII flag.\n",
      "             In string patterns without the ASCII flag, it will match the whole\n",
      "             range of Unicode digits.\n",
      "    \\D       Matches any non-digit character; equivalent to [^\\d].\n",
      "    \\s       Matches any whitespace character; equivalent to [ \\t\\n\\r\\f\\v] in\n",
      "             bytes patterns or string patterns with the ASCII flag.\n",
      "             In string patterns without the ASCII flag, it will match the whole\n",
      "             range of Unicode whitespace characters.\n",
      "    \\S       Matches any non-whitespace character; equivalent to [^\\s].\n",
      "    \\w       Matches any alphanumeric character; equivalent to [a-zA-Z0-9_]\n",
      "             in bytes patterns or string patterns with the ASCII flag.\n",
      "             In string patterns without the ASCII flag, it will match the\n",
      "             range of Unicode alphanumeric characters (letters plus digits\n",
      "             plus underscore).\n",
      "             With LOCALE, it will match the set [0-9_] plus characters defined\n",
      "             as letters for the current locale.\n",
      "    \\W       Matches the complement of \\w.\n",
      "    \\\\       Matches a literal backslash.\n",
      "\n",
      "This module exports the following functions:\n",
      "    match     Match a regular expression pattern to the beginning of a string.\n",
      "    fullmatch Match a regular expression pattern to all of a string.\n",
      "    search    Search a string for the presence of a pattern.\n",
      "    sub       Substitute occurrences of a pattern found in a string.\n",
      "    subn      Same as sub, but also return the number of substitutions made.\n",
      "    split     Split a string by the occurrences of a pattern.\n",
      "    findall   Find all occurrences of a pattern in a string.\n",
      "    finditer  Return an iterator yielding a Match object for each match.\n",
      "    compile   Compile a pattern into a Pattern object.\n",
      "    purge     Clear the regular expression cache.\n",
      "    escape    Backslash all non-alphanumerics in a string.\n",
      "\n",
      "Each function other than purge and escape can take an optional 'flags' argument\n",
      "consisting of one or more of the following module constants, joined by \"|\".\n",
      "A, L, and U are mutually exclusive.\n",
      "    A  ASCII       For string patterns, make \\w, \\W, \\b, \\B, \\d, \\D\n",
      "                   match the corresponding ASCII character categories\n",
      "                   (rather than the whole Unicode categories, which is the\n",
      "                   default).\n",
      "                   For bytes patterns, this flag is the only available\n",
      "                   behaviour and needn't be specified.\n",
      "    I  IGNORECASE  Perform case-insensitive matching.\n",
      "    L  LOCALE      Make \\w, \\W, \\b, \\B, dependent on the current locale.\n",
      "    M  MULTILINE   \"^\" matches the beginning of lines (after a newline)\n",
      "                   as well as the string.\n",
      "                   \"$\" matches the end of lines (before a newline) as well\n",
      "                   as the end of the string.\n",
      "    S  DOTALL      \".\" matches any character at all, including the newline.\n",
      "    X  VERBOSE     Ignore whitespace and comments for nicer looking RE's.\n",
      "    U  UNICODE     For compatibility only. Ignored for string patterns (it\n",
      "                   is the default), and forbidden for bytes patterns.\n",
      "\n",
      "This module also defines an exception 'error'.\n",
      "\n",
      "\n"
     ]
    }
   ],
   "source": [
    "print(re.__doc__)"
   ]
  },
  {
   "cell_type": "markdown",
   "id": "157b0e4f",
   "metadata": {},
   "source": [
    "### Core Concept of OOPs is Classes & Objects"
   ]
  },
  {
   "cell_type": "code",
   "execution_count": 2,
   "id": "f2dfc6cf",
   "metadata": {},
   "outputs": [
    {
     "ename": "SyntaxError",
     "evalue": "invalid syntax (<ipython-input-2-ef485c947a25>, line 1)",
     "output_type": "error",
     "traceback": [
      "\u001b[1;36m  File \u001b[1;32m\"<ipython-input-2-ef485c947a25>\"\u001b[1;36m, line \u001b[1;32m1\u001b[0m\n\u001b[1;33m    def employee:\u001b[0m\n\u001b[1;37m                ^\u001b[0m\n\u001b[1;31mSyntaxError\u001b[0m\u001b[1;31m:\u001b[0m invalid syntax\n"
     ]
    }
   ],
   "source": [
    "def employee(): # while defining function must declare paranthesis\n",
    "    pass"
   ]
  },
  {
   "cell_type": "code",
   "execution_count": 3,
   "id": "4192c0c1",
   "metadata": {},
   "outputs": [],
   "source": [
    "class employee: #in declaring class it's not mandatory\n",
    "    pass"
   ]
  },
  {
   "cell_type": "code",
   "execution_count": 5,
   "id": "369b790f",
   "metadata": {},
   "outputs": [],
   "source": [
    "# class employees(): \n",
    "#     pass"
   ]
  },
  {
   "cell_type": "code",
   "execution_count": 7,
   "id": "8d5b19dd",
   "metadata": {},
   "outputs": [
    {
     "data": {
      "text/plain": [
       "type"
      ]
     },
     "execution_count": 7,
     "metadata": {},
     "output_type": "execute_result"
    }
   ],
   "source": [
    "type(employees) #it is a type of an object"
   ]
  },
  {
   "cell_type": "code",
   "execution_count": 16,
   "id": "84d60523",
   "metadata": {},
   "outputs": [],
   "source": [
    "e=employee #declaring first instance/object of an class"
   ]
  },
  {
   "cell_type": "code",
   "execution_count": 18,
   "id": "6009b624",
   "metadata": {},
   "outputs": [],
   "source": [
    "e=employee() # default constructor"
   ]
  },
  {
   "cell_type": "code",
   "execution_count": 13,
   "id": "ccd9f040",
   "metadata": {},
   "outputs": [
    {
     "data": {
      "text/plain": [
       "{}"
      ]
     },
     "execution_count": 13,
     "metadata": {},
     "output_type": "execute_result"
    }
   ],
   "source": [
    "e.__dict__"
   ]
  },
  {
   "cell_type": "code",
   "execution_count": 14,
   "id": "b7c32dbe",
   "metadata": {},
   "outputs": [],
   "source": [
    "e1=employee #declaring second instance/object of an class"
   ]
  },
  {
   "cell_type": "code",
   "execution_count": 22,
   "id": "9ce15e29",
   "metadata": {},
   "outputs": [
    {
     "data": {
      "text/plain": [
       "['__class__',\n",
       " '__delattr__',\n",
       " '__dict__',\n",
       " '__dir__',\n",
       " '__doc__',\n",
       " '__eq__',\n",
       " '__format__',\n",
       " '__ge__',\n",
       " '__getattribute__',\n",
       " '__gt__',\n",
       " '__hash__',\n",
       " '__init__',\n",
       " '__init_subclass__',\n",
       " '__le__',\n",
       " '__lt__',\n",
       " '__module__',\n",
       " '__ne__',\n",
       " '__new__',\n",
       " '__reduce__',\n",
       " '__reduce_ex__',\n",
       " '__repr__',\n",
       " '__setattr__',\n",
       " '__sizeof__',\n",
       " '__str__',\n",
       " '__subclasshook__',\n",
       " '__weakref__',\n",
       " 'email',\n",
       " 'first',\n",
       " 'last',\n",
       " 'pay']"
      ]
     },
     "execution_count": 22,
     "metadata": {},
     "output_type": "execute_result"
    }
   ],
   "source": [
    "dir(e)"
   ]
  },
  {
   "cell_type": "code",
   "execution_count": 33,
   "id": "622a08b6",
   "metadata": {},
   "outputs": [],
   "source": [
    "e.first='ashwin'\n",
    "e.last='mandaokar'\n",
    "e.email=(f'{e.first}{e.last}@Gmail.com')\n",
    "e.pay=100000"
   ]
  },
  {
   "cell_type": "code",
   "execution_count": 24,
   "id": "ef4ee155",
   "metadata": {},
   "outputs": [
    {
     "data": {
      "text/plain": [
       "'ashwinmandaokar@Gmail.com'"
      ]
     },
     "execution_count": 24,
     "metadata": {},
     "output_type": "execute_result"
    }
   ],
   "source": [
    "e.email"
   ]
  },
  {
   "cell_type": "code",
   "execution_count": 25,
   "id": "18483ade",
   "metadata": {},
   "outputs": [],
   "source": [
    "e1.first='Golu'\n",
    "e1.last='mandaokar'\n",
    "e1.email=(f'{e1.first}{e1.last}@Gmail.com')\n",
    "e1.pay=150000\n",
    "# instance variable is aka object variable\n",
    "# instance is an synonym of object"
   ]
  },
  {
   "cell_type": "code",
   "execution_count": 26,
   "id": "31a55a5c",
   "metadata": {},
   "outputs": [
    {
     "data": {
      "text/plain": [
       "'Golumandaokar@Gmail.com'"
      ]
     },
     "execution_count": 26,
     "metadata": {},
     "output_type": "execute_result"
    }
   ],
   "source": [
    "e1.email"
   ]
  },
  {
   "cell_type": "code",
   "execution_count": 27,
   "id": "e450cc97",
   "metadata": {},
   "outputs": [
    {
     "data": {
      "text/plain": [
       "150000"
      ]
     },
     "execution_count": 27,
     "metadata": {},
     "output_type": "execute_result"
    }
   ],
   "source": [
    "e1.pay"
   ]
  },
  {
   "cell_type": "code",
   "execution_count": 28,
   "id": "7e2e7192",
   "metadata": {},
   "outputs": [
    {
     "data": {
      "text/plain": [
       "100000"
      ]
     },
     "execution_count": 28,
     "metadata": {},
     "output_type": "execute_result"
    }
   ],
   "source": [
    "e.pay"
   ]
  },
  {
   "cell_type": "code",
   "execution_count": 38,
   "id": "64be18e6",
   "metadata": {},
   "outputs": [
    {
     "data": {
      "text/plain": [
       "['__class__',\n",
       " '__delattr__',\n",
       " '__dict__',\n",
       " '__dir__',\n",
       " '__doc__',\n",
       " '__eq__',\n",
       " '__format__',\n",
       " '__ge__',\n",
       " '__getattribute__',\n",
       " '__gt__',\n",
       " '__hash__',\n",
       " '__init__',\n",
       " '__init_subclass__',\n",
       " '__le__',\n",
       " '__lt__',\n",
       " '__module__',\n",
       " '__ne__',\n",
       " '__new__',\n",
       " '__reduce__',\n",
       " '__reduce_ex__',\n",
       " '__repr__',\n",
       " '__setattr__',\n",
       " '__sizeof__',\n",
       " '__str__',\n",
       " '__subclasshook__',\n",
       " '__weakref__',\n",
       " 'email',\n",
       " 'first',\n",
       " 'last',\n",
       " 'pay']"
      ]
     },
     "execution_count": 38,
     "metadata": {},
     "output_type": "execute_result"
    }
   ],
   "source": [
    "dir(e1)"
   ]
  },
  {
   "cell_type": "code",
   "execution_count": 37,
   "id": "cfe38114",
   "metadata": {},
   "outputs": [
    {
     "data": {
      "text/plain": [
       "mappingproxy({'__module__': '__main__',\n",
       "              '__dict__': <attribute '__dict__' of 'employee' objects>,\n",
       "              '__weakref__': <attribute '__weakref__' of 'employee' objects>,\n",
       "              '__doc__': None,\n",
       "              'first': 'Golu',\n",
       "              'last': 'mandaokar',\n",
       "              'email': 'Golumandaokar@Gmail.com',\n",
       "              'pay': 150000})"
      ]
     },
     "execution_count": 37,
     "metadata": {},
     "output_type": "execute_result"
    }
   ],
   "source": [
    "e1.__dict__"
   ]
  },
  {
   "cell_type": "markdown",
   "id": "96576ca3",
   "metadata": {},
   "source": [
    "# <font color='green'>Constructor</str>"
   ]
  },
  {
   "cell_type": "code",
   "execution_count": 83,
   "id": "fcd1097f",
   "metadata": {},
   "outputs": [],
   "source": [
    "class Student:\n",
    "    def __init__(self,first,last,age):\n",
    "        # constructor define,self is an instance/object of an class\n",
    "        self.first=first\n",
    "        self.last=last\n",
    "        self.age=age\n",
    "    def intro(self):\n",
    "        print(f'My name is {self.first} {self.last}, I am {self.age} years old')"
   ]
  },
  {
   "cell_type": "code",
   "execution_count": 52,
   "id": "e4c4f28e",
   "metadata": {},
   "outputs": [
    {
     "ename": "TypeError",
     "evalue": "__init__() missing 3 required positional arguments: 'first', 'last', and 'age'",
     "output_type": "error",
     "traceback": [
      "\u001b[1;31m---------------------------------------------------------------------------\u001b[0m",
      "\u001b[1;31mTypeError\u001b[0m                                 Traceback (most recent call last)",
      "\u001b[1;32m<ipython-input-52-8a0308c2f6bc>\u001b[0m in \u001b[0;36m<module>\u001b[1;34m\u001b[0m\n\u001b[1;32m----> 1\u001b[1;33m \u001b[0ma\u001b[0m\u001b[1;33m=\u001b[0m\u001b[0mStudent\u001b[0m\u001b[1;33m(\u001b[0m\u001b[1;33m)\u001b[0m\u001b[1;33m\u001b[0m\u001b[1;33m\u001b[0m\u001b[0m\n\u001b[0m",
      "\u001b[1;31mTypeError\u001b[0m: __init__() missing 3 required positional arguments: 'first', 'last', and 'age'"
     ]
    }
   ],
   "source": [
    "a=Student()"
   ]
  },
  {
   "cell_type": "code",
   "execution_count": 65,
   "id": "507d678d",
   "metadata": {},
   "outputs": [
    {
     "ename": "TypeError",
     "evalue": "__init__() takes 3 positional arguments but 4 were given",
     "output_type": "error",
     "traceback": [
      "\u001b[1;31m---------------------------------------------------------------------------\u001b[0m",
      "\u001b[1;31mTypeError\u001b[0m                                 Traceback (most recent call last)",
      "\u001b[1;32m<ipython-input-65-967ec609880a>\u001b[0m in \u001b[0;36m<module>\u001b[1;34m\u001b[0m\n\u001b[1;32m----> 1\u001b[1;33m \u001b[0ma\u001b[0m\u001b[1;33m=\u001b[0m\u001b[0mStudent\u001b[0m\u001b[1;33m(\u001b[0m\u001b[1;34m'ashwin'\u001b[0m\u001b[1;33m,\u001b[0m\u001b[1;34m'mandaokar'\u001b[0m\u001b[1;33m,\u001b[0m\u001b[1;36m26\u001b[0m\u001b[1;33m)\u001b[0m\u001b[1;33m\u001b[0m\u001b[1;33m\u001b[0m\u001b[0m\n\u001b[0m",
      "\u001b[1;31mTypeError\u001b[0m: __init__() takes 3 positional arguments but 4 were given"
     ]
    }
   ],
   "source": [
    "a=Student('ashwin','mandaokar',26)\n",
    "# a is an instance and its going always first paremeter in class"
   ]
  },
  {
   "cell_type": "code",
   "execution_count": 85,
   "id": "c0afa82b",
   "metadata": {},
   "outputs": [],
   "source": [
    "a=Student('ashwin','mandaokar',26)"
   ]
  },
  {
   "cell_type": "code",
   "execution_count": 75,
   "id": "4b8befe8",
   "metadata": {},
   "outputs": [
    {
     "name": "stdout",
     "output_type": "stream",
     "text": [
      "ashwin\n",
      "mandaokar\n",
      "26\n"
     ]
    }
   ],
   "source": [
    "print(a.first)\n",
    "print(a.last)\n",
    "print(a.age)"
   ]
  },
  {
   "cell_type": "code",
   "execution_count": 62,
   "id": "d24361cd",
   "metadata": {},
   "outputs": [
    {
     "data": {
      "text/plain": [
       "str"
      ]
     },
     "execution_count": 62,
     "metadata": {},
     "output_type": "execute_result"
    }
   ],
   "source": [
    "type(a.first)"
   ]
  },
  {
   "cell_type": "code",
   "execution_count": 81,
   "id": "47bf83c3",
   "metadata": {},
   "outputs": [
    {
     "data": {
      "text/plain": [
       "['__class__',\n",
       " '__delattr__',\n",
       " '__dict__',\n",
       " '__dir__',\n",
       " '__doc__',\n",
       " '__eq__',\n",
       " '__format__',\n",
       " '__ge__',\n",
       " '__getattribute__',\n",
       " '__gt__',\n",
       " '__hash__',\n",
       " '__init__',\n",
       " '__init_subclass__',\n",
       " '__le__',\n",
       " '__lt__',\n",
       " '__module__',\n",
       " '__ne__',\n",
       " '__new__',\n",
       " '__reduce__',\n",
       " '__reduce_ex__',\n",
       " '__repr__',\n",
       " '__setattr__',\n",
       " '__sizeof__',\n",
       " '__str__',\n",
       " '__subclasshook__',\n",
       " '__weakref__',\n",
       " 'age',\n",
       " 'first',\n",
       " 'intro',\n",
       " 'last']"
      ]
     },
     "execution_count": 81,
     "metadata": {},
     "output_type": "execute_result"
    }
   ],
   "source": [
    "dir(a)"
   ]
  },
  {
   "cell_type": "code",
   "execution_count": 86,
   "id": "098a88a2",
   "metadata": {},
   "outputs": [
    {
     "name": "stdout",
     "output_type": "stream",
     "text": [
      "My name is ashwin mandaokar, I am 26 years old\n"
     ]
    }
   ],
   "source": [
    "a.intro()"
   ]
  },
  {
   "cell_type": "code",
   "execution_count": 87,
   "id": "59cab62f",
   "metadata": {},
   "outputs": [],
   "source": [
    "#methods for instances & classes"
   ]
  },
  {
   "cell_type": "code",
   "execution_count": 99,
   "id": "081f0a52",
   "metadata": {},
   "outputs": [],
   "source": [
    "class Employee():\n",
    "    def __init__(self,first,last,pay):\n",
    "        self.first=first\n",
    "        self.last=last\n",
    "        self.pay=pay\n",
    "    \n",
    "    def fullname(self):\n",
    "        return \"{} {}\".format(self.first,self.last)"
   ]
  },
  {
   "cell_type": "code",
   "execution_count": 100,
   "id": "b031d3d7",
   "metadata": {},
   "outputs": [],
   "source": [
    "emp1=Employee('ashwin','mandaokar',100000)\n",
    "emp2=Employee('Geeta','Godi',150000)"
   ]
  },
  {
   "cell_type": "code",
   "execution_count": 91,
   "id": "074ff37a",
   "metadata": {},
   "outputs": [
    {
     "data": {
      "text/plain": [
       "'ashwin mandaokar'"
      ]
     },
     "execution_count": 91,
     "metadata": {},
     "output_type": "execute_result"
    }
   ],
   "source": [
    "emp1.fullname() #1st method"
   ]
  },
  {
   "cell_type": "code",
   "execution_count": 101,
   "id": "9961212c",
   "metadata": {},
   "outputs": [
    {
     "name": "stdout",
     "output_type": "stream",
     "text": [
      "ashwin mandaokar\n",
      "Geeta Godi\n"
     ]
    }
   ],
   "source": [
    "# Class call only an method/function not an instance variable\n",
    "print(Employee.fullname(emp1))\n",
    "print(Employee.fullname(emp2))# 2nd method"
   ]
  },
  {
   "cell_type": "code",
   "execution_count": 94,
   "id": "7eb9527a",
   "metadata": {},
   "outputs": [
    {
     "ename": "AttributeError",
     "evalue": "type object 'Employee' has no attribute 'first'",
     "output_type": "error",
     "traceback": [
      "\u001b[1;31m---------------------------------------------------------------------------\u001b[0m",
      "\u001b[1;31mAttributeError\u001b[0m                            Traceback (most recent call last)",
      "\u001b[1;32m<ipython-input-94-75469c66dcc4>\u001b[0m in \u001b[0;36m<module>\u001b[1;34m\u001b[0m\n\u001b[0;32m      1\u001b[0m \u001b[1;31m# if you access instance variable using class its shows an error\u001b[0m\u001b[1;33m\u001b[0m\u001b[1;33m\u001b[0m\u001b[1;33m\u001b[0m\u001b[0m\n\u001b[1;32m----> 2\u001b[1;33m \u001b[0mprint\u001b[0m\u001b[1;33m(\u001b[0m\u001b[0mEmployee\u001b[0m\u001b[1;33m.\u001b[0m\u001b[0mfirst\u001b[0m\u001b[1;33m(\u001b[0m\u001b[0memp1\u001b[0m\u001b[1;33m)\u001b[0m\u001b[1;33m)\u001b[0m\u001b[1;33m\u001b[0m\u001b[1;33m\u001b[0m\u001b[0m\n\u001b[0m",
      "\u001b[1;31mAttributeError\u001b[0m: type object 'Employee' has no attribute 'first'"
     ]
    }
   ],
   "source": [
    "# if you access instance variable using class its shows an error\n",
    "print(Employee.first(emp1))"
   ]
  },
  {
   "cell_type": "code",
   "execution_count": 95,
   "id": "c0cc8b10",
   "metadata": {},
   "outputs": [
    {
     "name": "stdout",
     "output_type": "stream",
     "text": [
      "mohan prashant\n"
     ]
    }
   ],
   "source": [
    "print(Employee.fullname(Employee('mohan','prashant',150000))) #3rd method"
   ]
  },
  {
   "cell_type": "code",
   "execution_count": 96,
   "id": "58c4832c",
   "metadata": {},
   "outputs": [
    {
     "ename": "AttributeError",
     "evalue": "type object 'Employee' has no attribute 'first'",
     "output_type": "error",
     "traceback": [
      "\u001b[1;31m---------------------------------------------------------------------------\u001b[0m",
      "\u001b[1;31mAttributeError\u001b[0m                            Traceback (most recent call last)",
      "\u001b[1;32m<ipython-input-96-0d581775b09b>\u001b[0m in \u001b[0;36m<module>\u001b[1;34m\u001b[0m\n\u001b[1;32m----> 1\u001b[1;33m \u001b[0mprint\u001b[0m\u001b[1;33m(\u001b[0m\u001b[0mEmployee\u001b[0m\u001b[1;33m.\u001b[0m\u001b[0mfirst\u001b[0m\u001b[1;33m(\u001b[0m\u001b[0mEmployee\u001b[0m\u001b[1;33m(\u001b[0m\u001b[1;34m'mohan'\u001b[0m\u001b[1;33m,\u001b[0m\u001b[1;34m'prashant'\u001b[0m\u001b[1;33m,\u001b[0m\u001b[1;36m150000\u001b[0m\u001b[1;33m)\u001b[0m\u001b[1;33m)\u001b[0m\u001b[1;33m)\u001b[0m\u001b[1;33m\u001b[0m\u001b[1;33m\u001b[0m\u001b[0m\n\u001b[0m",
      "\u001b[1;31mAttributeError\u001b[0m: type object 'Employee' has no attribute 'first'"
     ]
    }
   ],
   "source": [
    "print(Employee.first(Employee('mohan','prashant',150000)))"
   ]
  },
  {
   "cell_type": "code",
   "execution_count": 104,
   "id": "a9c4e279",
   "metadata": {},
   "outputs": [],
   "source": [
    "# class Employee():\n",
    "#     def __init__(self,first,last,pay):\n",
    "#         self.first='ashwin'\n",
    "#         self.last='mandaokar'\n",
    "#         self.pay=120000\n",
    "    \n",
    "#     def fullname(self):\n",
    "#         return \"{} {} {}\".format(self.first,self.last,self.pay)"
   ]
  },
  {
   "cell_type": "code",
   "execution_count": 107,
   "id": "65207bed",
   "metadata": {},
   "outputs": [],
   "source": [
    "# emp1=Employee('rahul','mandaokar',100000)"
   ]
  },
  {
   "cell_type": "code",
   "execution_count": 108,
   "id": "1cbb75ad",
   "metadata": {},
   "outputs": [
    {
     "data": {
      "text/plain": [
       "'ashwin mandaokar 120000'"
      ]
     },
     "execution_count": 108,
     "metadata": {},
     "output_type": "execute_result"
    }
   ],
   "source": [
    "# emp1.fullname()"
   ]
  },
  {
   "cell_type": "code",
   "execution_count": 109,
   "id": "c92123ab",
   "metadata": {},
   "outputs": [],
   "source": [
    "# Class Variables (share among all instances)"
   ]
  },
  {
   "cell_type": "code",
   "execution_count": 110,
   "id": "d12249a0",
   "metadata": {},
   "outputs": [],
   "source": [
    "#without class variables"
   ]
  },
  {
   "cell_type": "code",
   "execution_count": 169,
   "id": "bd32271e",
   "metadata": {},
   "outputs": [],
   "source": [
    "class Employee():\n",
    "    def __init__(self,first,last,pay):\n",
    "        self.first=first\n",
    "        self.last=last\n",
    "        self.email=self.first+'.'+self.last+'@gmail.com'\n",
    "        self.pay=pay\n",
    "    \n",
    "    def fullname(self):\n",
    "        return \"{} {}\".format(self.first,self.last)\n",
    "    def apply_raise(self):\n",
    "        self.pay=int(self.pay*1.04) #apply_raise is constant you cant change "
   ]
  },
  {
   "cell_type": "code",
   "execution_count": 170,
   "id": "8d42c921",
   "metadata": {},
   "outputs": [],
   "source": [
    "emp1=Employee('Ashwin','Mandaokar',125000)\n",
    "emp2=Employee('Nitu','Rathod',200000)"
   ]
  },
  {
   "cell_type": "code",
   "execution_count": 171,
   "id": "b003bd32",
   "metadata": {},
   "outputs": [
    {
     "data": {
      "text/plain": [
       "{'first': 'Ashwin',\n",
       " 'last': 'Mandaokar',\n",
       " 'email': 'Ashwin.Mandaokar@gmail.com',\n",
       " 'pay': 125000}"
      ]
     },
     "execution_count": 171,
     "metadata": {},
     "output_type": "execute_result"
    }
   ],
   "source": [
    "\n",
    "emp1.__dict__"
   ]
  },
  {
   "cell_type": "code",
   "execution_count": 172,
   "id": "6b5a5f93",
   "metadata": {},
   "outputs": [
    {
     "data": {
      "text/plain": [
       "125000"
      ]
     },
     "execution_count": 172,
     "metadata": {},
     "output_type": "execute_result"
    }
   ],
   "source": [
    "emp1.pay"
   ]
  },
  {
   "cell_type": "code",
   "execution_count": 173,
   "id": "b1b3f3e9",
   "metadata": {},
   "outputs": [],
   "source": [
    "emp1.apply_raise()\n",
    "emp2.apply_raise()"
   ]
  },
  {
   "cell_type": "code",
   "execution_count": 174,
   "id": "d449c934",
   "metadata": {},
   "outputs": [
    {
     "name": "stdout",
     "output_type": "stream",
     "text": [
      "130000\n"
     ]
    }
   ],
   "source": [
    "print(emp1.pay)"
   ]
  },
  {
   "cell_type": "code",
   "execution_count": 175,
   "id": "7b1959dd",
   "metadata": {},
   "outputs": [
    {
     "data": {
      "text/plain": [
       "{'first': 'Nitu',\n",
       " 'last': 'Rathod',\n",
       " 'email': 'Nitu.Rathod@gmail.com',\n",
       " 'pay': 208000}"
      ]
     },
     "execution_count": 175,
     "metadata": {},
     "output_type": "execute_result"
    }
   ],
   "source": [
    "emp2.__dict__"
   ]
  },
  {
   "cell_type": "code",
   "execution_count": 176,
   "id": "77864c4b",
   "metadata": {},
   "outputs": [
    {
     "data": {
      "text/plain": [
       "208000"
      ]
     },
     "execution_count": 176,
     "metadata": {},
     "output_type": "execute_result"
    }
   ],
   "source": [
    "emp2.pay"
   ]
  },
  {
   "cell_type": "code",
   "execution_count": 156,
   "id": "4568c2af",
   "metadata": {},
   "outputs": [],
   "source": [
    "# emp1.apply_raise=1.05"
   ]
  },
  {
   "cell_type": "code",
   "execution_count": 178,
   "id": "a3cc0682",
   "metadata": {},
   "outputs": [
    {
     "ename": "AttributeError",
     "evalue": "type object 'Employee' has no attribute 'pay'",
     "output_type": "error",
     "traceback": [
      "\u001b[1;31m---------------------------------------------------------------------------\u001b[0m",
      "\u001b[1;31mAttributeError\u001b[0m                            Traceback (most recent call last)",
      "\u001b[1;32m<ipython-input-178-51848d36968e>\u001b[0m in \u001b[0;36m<module>\u001b[1;34m\u001b[0m\n\u001b[1;32m----> 1\u001b[1;33m \u001b[0mEmployee\u001b[0m\u001b[1;33m.\u001b[0m\u001b[0mpay\u001b[0m\u001b[1;33m(\u001b[0m\u001b[0memp1\u001b[0m\u001b[1;33m)\u001b[0m\u001b[1;33m\u001b[0m\u001b[1;33m\u001b[0m\u001b[0m\n\u001b[0m",
      "\u001b[1;31mAttributeError\u001b[0m: type object 'Employee' has no attribute 'pay'"
     ]
    }
   ],
   "source": [
    "Employee.pay(emp1) #because class has not access the instance variable"
   ]
  },
  {
   "cell_type": "code",
   "execution_count": null,
   "id": "6bd1809b",
   "metadata": {},
   "outputs": [],
   "source": [
    "# using With class variable"
   ]
  },
  {
   "cell_type": "code",
   "execution_count": 179,
   "id": "2d01ee30",
   "metadata": {},
   "outputs": [],
   "source": [
    "class Employee():\n",
    "    raise_amount=1.06\n",
    "    def __init__(self,first,last,pay):\n",
    "        self.first=first\n",
    "        self.last=last\n",
    "        self.email=self.first+'.'+self.last+'@gmail.com'\n",
    "        self.pay=pay\n",
    "    \n",
    "    def fullname(self):\n",
    "        return \"{} {}\".format(self.first,self.last)\n",
    "    def apply_raise(self):\n",
    "        self.pay=int(self.pay*Employee.raise_amount) #in here its not constant"
   ]
  },
  {
   "cell_type": "code",
   "execution_count": 180,
   "id": "76441909",
   "metadata": {},
   "outputs": [
    {
     "data": {
      "text/plain": [
       "1.06"
      ]
     },
     "execution_count": 180,
     "metadata": {},
     "output_type": "execute_result"
    }
   ],
   "source": [
    "Employee.raise_amount"
   ]
  },
  {
   "cell_type": "code",
   "execution_count": 181,
   "id": "c505bade",
   "metadata": {},
   "outputs": [],
   "source": [
    "emp1=Employee('Ashwin','Mandaokar',125000)\n",
    "emp2=Employee('Nitu','Rathod',200000)"
   ]
  },
  {
   "cell_type": "code",
   "execution_count": 185,
   "id": "6fbb4cb0",
   "metadata": {},
   "outputs": [
    {
     "data": {
      "text/plain": [
       "132500"
      ]
     },
     "execution_count": 185,
     "metadata": {},
     "output_type": "execute_result"
    }
   ],
   "source": [
    "emp1.pay"
   ]
  },
  {
   "cell_type": "code",
   "execution_count": 184,
   "id": "8f629be7",
   "metadata": {},
   "outputs": [],
   "source": [
    "emp1.apply_raise()"
   ]
  },
  {
   "cell_type": "code",
   "execution_count": 186,
   "id": "98ce4077",
   "metadata": {},
   "outputs": [
    {
     "data": {
      "text/plain": [
       "{'first': 'Ashwin',\n",
       " 'last': 'Mandaokar',\n",
       " 'email': 'Ashwin.Mandaokar@gmail.com',\n",
       " 'pay': 132500}"
      ]
     },
     "execution_count": 186,
     "metadata": {},
     "output_type": "execute_result"
    }
   ],
   "source": [
    "emp1.__dict__"
   ]
  },
  {
   "cell_type": "code",
   "execution_count": 187,
   "id": "5629527d",
   "metadata": {},
   "outputs": [
    {
     "data": {
      "text/plain": [
       "mappingproxy({'__module__': '__main__',\n",
       "              'raise_amount': 1.06,\n",
       "              '__init__': <function __main__.Employee.__init__(self, first, last, pay)>,\n",
       "              'fullname': <function __main__.Employee.fullname(self)>,\n",
       "              'apply_raise': <function __main__.Employee.apply_raise(self)>,\n",
       "              '__dict__': <attribute '__dict__' of 'Employee' objects>,\n",
       "              '__weakref__': <attribute '__weakref__' of 'Employee' objects>,\n",
       "              '__doc__': None})"
      ]
     },
     "execution_count": 187,
     "metadata": {},
     "output_type": "execute_result"
    }
   ],
   "source": [
    "Employee.__dict__"
   ]
  },
  {
   "cell_type": "code",
   "execution_count": 188,
   "id": "8bb92c46",
   "metadata": {},
   "outputs": [],
   "source": [
    "#change raise_amount from here"
   ]
  },
  {
   "cell_type": "code",
   "execution_count": 189,
   "id": "11556e54",
   "metadata": {},
   "outputs": [],
   "source": [
    "Employee.raise_amount=1.05"
   ]
  },
  {
   "cell_type": "code",
   "execution_count": 190,
   "id": "9b5fa98f",
   "metadata": {},
   "outputs": [
    {
     "data": {
      "text/plain": [
       "mappingproxy({'__module__': '__main__',\n",
       "              'raise_amount': 1.05,\n",
       "              '__init__': <function __main__.Employee.__init__(self, first, last, pay)>,\n",
       "              'fullname': <function __main__.Employee.fullname(self)>,\n",
       "              'apply_raise': <function __main__.Employee.apply_raise(self)>,\n",
       "              '__dict__': <attribute '__dict__' of 'Employee' objects>,\n",
       "              '__weakref__': <attribute '__weakref__' of 'Employee' objects>,\n",
       "              '__doc__': None})"
      ]
     },
     "execution_count": 190,
     "metadata": {},
     "output_type": "execute_result"
    }
   ],
   "source": [
    "Employee.__dict__"
   ]
  },
  {
   "cell_type": "code",
   "execution_count": 193,
   "id": "d9cb866f",
   "metadata": {},
   "outputs": [],
   "source": [
    "emp1.apply_raise()"
   ]
  },
  {
   "cell_type": "code",
   "execution_count": 196,
   "id": "f2c32bd5",
   "metadata": {},
   "outputs": [
    {
     "data": {
      "text/plain": [
       "{'first': 'Ashwin',\n",
       " 'last': 'Mandaokar',\n",
       " 'email': 'Ashwin.Mandaokar@gmail.com',\n",
       " 'pay': 139125}"
      ]
     },
     "execution_count": 196,
     "metadata": {},
     "output_type": "execute_result"
    }
   ],
   "source": [
    "emp1.__dict__"
   ]
  },
  {
   "cell_type": "code",
   "execution_count": 197,
   "id": "1901d076",
   "metadata": {},
   "outputs": [],
   "source": [
    "# change class method only for instance"
   ]
  },
  {
   "cell_type": "code",
   "execution_count": 198,
   "id": "7e3f703b",
   "metadata": {},
   "outputs": [
    {
     "data": {
      "text/plain": [
       "{'first': 'Ashwin',\n",
       " 'last': 'Mandaokar',\n",
       " 'email': 'Ashwin.Mandaokar@gmail.com',\n",
       " 'pay': 139125}"
      ]
     },
     "execution_count": 198,
     "metadata": {},
     "output_type": "execute_result"
    }
   ],
   "source": [
    "emp1.__dict__"
   ]
  },
  {
   "cell_type": "code",
   "execution_count": 201,
   "id": "a55a6f83",
   "metadata": {},
   "outputs": [
    {
     "data": {
      "text/plain": [
       "1.05"
      ]
     },
     "execution_count": 201,
     "metadata": {},
     "output_type": "execute_result"
    }
   ],
   "source": [
    "Employee.raise_amount"
   ]
  },
  {
   "cell_type": "code",
   "execution_count": 216,
   "id": "cc8539d9",
   "metadata": {},
   "outputs": [],
   "source": [
    "emp1.raise_amount=1.08"
   ]
  },
  {
   "cell_type": "code",
   "execution_count": 207,
   "id": "918254c9",
   "metadata": {},
   "outputs": [
    {
     "data": {
      "text/plain": [
       "1.08"
      ]
     },
     "execution_count": 207,
     "metadata": {},
     "output_type": "execute_result"
    }
   ],
   "source": [
    "emp1.raise_amount"
   ]
  },
  {
   "cell_type": "code",
   "execution_count": 215,
   "id": "dbb11ca5",
   "metadata": {},
   "outputs": [
    {
     "data": {
      "text/plain": [
       "{'first': 'Ashwin',\n",
       " 'last': 'Mandaokar',\n",
       " 'email': 'Ashwin.Mandaokar@gmail.com',\n",
       " 'pay': 162588,\n",
       " 'raise_amount': 1.08}"
      ]
     },
     "execution_count": 215,
     "metadata": {},
     "output_type": "execute_result"
    }
   ],
   "source": [
    "emp1.__dict__ # now you can see the class variable because you access this"
   ]
  },
  {
   "cell_type": "code",
   "execution_count": 213,
   "id": "652925fd",
   "metadata": {},
   "outputs": [],
   "source": [
    "emp1.apply_raise()"
   ]
  },
  {
   "cell_type": "code",
   "execution_count": 217,
   "id": "0ba5e3a4",
   "metadata": {},
   "outputs": [
    {
     "data": {
      "text/plain": [
       "162588"
      ]
     },
     "execution_count": 217,
     "metadata": {},
     "output_type": "execute_result"
    }
   ],
   "source": [
    "emp1.pay"
   ]
  },
  {
   "cell_type": "code",
   "execution_count": 218,
   "id": "3048ba3d",
   "metadata": {},
   "outputs": [],
   "source": [
    "class Employee():\n",
    "    raise_amount=1.06\n",
    "    def __init__(self,first,last,pay):\n",
    "        self.first=first\n",
    "        self.last=last\n",
    "        self.email=self.first+'.'+self.last+'@gmail.com'\n",
    "        self.pay=pay\n",
    "    \n",
    "    def fullname(self):\n",
    "        return \"{} {}\".format(self.first,self.last)\n",
    "    def apply_raise(self):\n",
    "        self.pay=int(self.pay*self.raise_amount) #in here its not constant"
   ]
  },
  {
   "cell_type": "code",
   "execution_count": 219,
   "id": "d9e0bbb1",
   "metadata": {},
   "outputs": [],
   "source": [
    "emp1=Employee('Ashwin','Mandaokar',125000)\n",
    "emp2=Employee('Nitu','Rathod',200000)"
   ]
  },
  {
   "cell_type": "code",
   "execution_count": 226,
   "id": "53338d88",
   "metadata": {},
   "outputs": [
    {
     "data": {
      "text/plain": [
       "{'first': 'Ashwin',\n",
       " 'last': 'Mandaokar',\n",
       " 'email': 'Ashwin.Mandaokar@gmail.com',\n",
       " 'pay': 135000,\n",
       " 'raise_amount': 1.08}"
      ]
     },
     "execution_count": 226,
     "metadata": {},
     "output_type": "execute_result"
    }
   ],
   "source": [
    "emp1.__dict__"
   ]
  },
  {
   "cell_type": "code",
   "execution_count": 221,
   "id": "b7e047bf",
   "metadata": {},
   "outputs": [
    {
     "data": {
      "text/plain": [
       "1.06"
      ]
     },
     "execution_count": 221,
     "metadata": {},
     "output_type": "execute_result"
    }
   ],
   "source": [
    "Employee.raise_amount"
   ]
  },
  {
   "cell_type": "code",
   "execution_count": 222,
   "id": "8a7d509e",
   "metadata": {},
   "outputs": [],
   "source": [
    "emp1.raise_amount=1.08"
   ]
  },
  {
   "cell_type": "code",
   "execution_count": 224,
   "id": "190556e9",
   "metadata": {},
   "outputs": [],
   "source": [
    "emp1.apply_raise()"
   ]
  },
  {
   "cell_type": "code",
   "execution_count": 225,
   "id": "aeb0469e",
   "metadata": {},
   "outputs": [
    {
     "data": {
      "text/plain": [
       "135000"
      ]
     },
     "execution_count": 225,
     "metadata": {},
     "output_type": "execute_result"
    }
   ],
   "source": [
    "emp1.pay"
   ]
  },
  {
   "cell_type": "code",
   "execution_count": null,
   "id": "08c8cc1f",
   "metadata": {},
   "outputs": [],
   "source": []
  }
 ],
 "metadata": {
  "kernelspec": {
   "display_name": "Python 3",
   "language": "python",
   "name": "python3"
  },
  "language_info": {
   "codemirror_mode": {
    "name": "ipython",
    "version": 3
   },
   "file_extension": ".py",
   "mimetype": "text/x-python",
   "name": "python",
   "nbconvert_exporter": "python",
   "pygments_lexer": "ipython3",
   "version": "3.9.1"
  }
 },
 "nbformat": 4,
 "nbformat_minor": 5
}
