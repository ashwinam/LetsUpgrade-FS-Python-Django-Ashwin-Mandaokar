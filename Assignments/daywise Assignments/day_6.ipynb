{
 "cells": [
  {
   "cell_type": "code",
   "execution_count": 2,
   "id": "a2864bca",
   "metadata": {},
   "outputs": [
    {
     "data": {
      "text/plain": [
       "sys.version_info(major=3, minor=9, micro=1, releaselevel='final', serial=0)"
      ]
     },
     "execution_count": 2,
     "metadata": {},
     "output_type": "execute_result"
    }
   ],
   "source": [
    "import sys\n",
    "sys.version_info"
   ]
  },
  {
   "cell_type": "markdown",
   "id": "f7b80918",
   "metadata": {},
   "source": [
    "# Default DIct"
   ]
  },
  {
   "cell_type": "code",
   "execution_count": 7,
   "id": "12c49f4c",
   "metadata": {},
   "outputs": [],
   "source": [
    "from collections import Counter"
   ]
  },
  {
   "cell_type": "code",
   "execution_count": 11,
   "id": "2b6f8be6",
   "metadata": {},
   "outputs": [
    {
     "name": "stdout",
     "output_type": "stream",
     "text": [
      "Counter({4: 3, 2: 2, 3: 2, 1: 1, 5: 1, 6: 1})\n"
     ]
    }
   ],
   "source": [
    "names=Counter([1,2,3,4,5,4,3,4,6,2])\n",
    "print(names)"
   ]
  },
  {
   "cell_type": "code",
   "execution_count": 12,
   "id": "500f1452",
   "metadata": {},
   "outputs": [
    {
     "name": "stdout",
     "output_type": "stream",
     "text": [
      "[(4, 3), (2, 2), (3, 2)]\n"
     ]
    }
   ],
   "source": [
    "print(names.most_common(3))"
   ]
  },
  {
   "cell_type": "code",
   "execution_count": 13,
   "id": "ac2ddba2",
   "metadata": {},
   "outputs": [],
   "source": [
    "Intro={\n",
    "    \"name\":\"rache\",\n",
    "    \"age\":30,\n",
    "    \"address\":\"Mumbai\"\n",
    "}"
   ]
  },
  {
   "cell_type": "code",
   "execution_count": 16,
   "id": "6066f2b2",
   "metadata": {},
   "outputs": [
    {
     "data": {
      "text/plain": [
       "'Mumbai'"
      ]
     },
     "execution_count": 16,
     "metadata": {},
     "output_type": "execute_result"
    }
   ],
   "source": [
    "Intro['address']"
   ]
  },
  {
   "cell_type": "code",
   "execution_count": 26,
   "id": "40fe271b",
   "metadata": {},
   "outputs": [
    {
     "name": "stdout",
     "output_type": "stream",
     "text": [
      "Not Found\n"
     ]
    }
   ],
   "source": [
    "#  Intro['income']\n",
    "# if 'income' in Intro.keys():\n",
    "#     print(Intro('Income'))\n",
    "# # raise Exception ('There no key available here')\n",
    "# else:\n",
    "#     print('Not Found')"
   ]
  },
  {
   "cell_type": "code",
   "execution_count": 31,
   "id": "c3027859",
   "metadata": {},
   "outputs": [
    {
     "data": {
      "text/plain": [
       "'Not Found'"
      ]
     },
     "execution_count": 31,
     "metadata": {},
     "output_type": "execute_result"
    }
   ],
   "source": [
    "Intro.get('income','Not Found')"
   ]
  },
  {
   "cell_type": "code",
   "execution_count": 42,
   "id": "128cf14f",
   "metadata": {},
   "outputs": [],
   "source": [
    "from collections import defaultdict"
   ]
  },
  {
   "cell_type": "code",
   "execution_count": 84,
   "id": "8fa6d97b",
   "metadata": {},
   "outputs": [],
   "source": [
    "nums=defaultdict(dict)"
   ]
  },
  {
   "cell_type": "code",
   "execution_count": 85,
   "id": "cc8b0d55",
   "metadata": {},
   "outputs": [],
   "source": [
    "nums['one']=1\n",
    "nums['two']=2\n"
   ]
  },
  {
   "cell_type": "code",
   "execution_count": 89,
   "id": "046021c9",
   "metadata": {},
   "outputs": [
    {
     "data": {
      "text/plain": [
       "defaultdict(dict, {'one': 1, 'two': 2, 'three': {}, 'five': {}})"
      ]
     },
     "execution_count": 89,
     "metadata": {},
     "output_type": "execute_result"
    }
   ],
   "source": [
    "nums"
   ]
  },
  {
   "cell_type": "code",
   "execution_count": 87,
   "id": "ed4e7a58",
   "metadata": {},
   "outputs": [
    {
     "data": {
      "text/plain": [
       "{}"
      ]
     },
     "execution_count": 87,
     "metadata": {},
     "output_type": "execute_result"
    }
   ],
   "source": [
    "nums['three']"
   ]
  },
  {
   "cell_type": "code",
   "execution_count": 88,
   "id": "98d37b36",
   "metadata": {},
   "outputs": [
    {
     "data": {
      "text/plain": [
       "{}"
      ]
     },
     "execution_count": 88,
     "metadata": {},
     "output_type": "execute_result"
    }
   ],
   "source": [
    "nums['five']"
   ]
  },
  {
   "cell_type": "code",
   "execution_count": 110,
   "id": "54729009",
   "metadata": {},
   "outputs": [
    {
     "name": "stdout",
     "output_type": "stream",
     "text": [
      "defaultdict(<class 'int'>, {'Mike': 3, 'John': 3, 'Anna': 2, 'Rafel': 2, 'Nitchel': 1})\n"
     ]
    }
   ],
   "source": [
    "count=defaultdict(int)\n",
    "name_list=\"Mike Mike John Anna Rafel Nitchel John Anna John Mike Rafel\".split()\n",
    "for names in name_list:\n",
    "    count[names] +=1\n",
    "print(count)"
   ]
  },
  {
   "cell_type": "code",
   "execution_count": null,
   "id": "ccb9574b",
   "metadata": {},
   "outputs": [],
   "source": []
  },
  {
   "cell_type": "code",
   "execution_count": null,
   "id": "b995b20c",
   "metadata": {},
   "outputs": [],
   "source": []
  },
  {
   "cell_type": "markdown",
   "id": "bf5cd7c3",
   "metadata": {},
   "source": [
    "# Ordered Dict"
   ]
  },
  {
   "cell_type": "code",
   "execution_count": 121,
   "id": "ada33dc0",
   "metadata": {},
   "outputs": [
    {
     "name": "stdout",
     "output_type": "stream",
     "text": [
      "OrderedDict([('a', 1), ('b', 2), ('c', 3)])\n"
     ]
    }
   ],
   "source": [
    "from collections import OrderedDict,Counter\n",
    "od=OrderedDict()\n",
    "od['a']=1\n",
    "od['b']=2\n",
    "od['c']=3\n",
    "print(od)"
   ]
  },
  {
   "cell_type": "code",
   "execution_count": 117,
   "id": "e3f78bbb",
   "metadata": {},
   "outputs": [],
   "source": [
    "od['a']=15"
   ]
  },
  {
   "cell_type": "code",
   "execution_count": 118,
   "id": "9f5ce7f1",
   "metadata": {},
   "outputs": [
    {
     "data": {
      "text/plain": [
       "OrderedDict([('a', 15), ('b', 2), ('c', 3)])"
      ]
     },
     "execution_count": 118,
     "metadata": {},
     "output_type": "execute_result"
    }
   ],
   "source": [
    "od"
   ]
  },
  {
   "cell_type": "code",
   "execution_count": 122,
   "id": "9d700336",
   "metadata": {},
   "outputs": [
    {
     "name": "stdout",
     "output_type": "stream",
     "text": [
      "a 4\n",
      "c 3\n",
      "b 2\n"
     ]
    }
   ],
   "source": [
    "list=[\"a\",\"c\",\"c\",\"a\",\"b\",\"a\",\"a\",\"b\",\"c\"]\n",
    "cnt=Counter(list)\n",
    "od=OrderedDict(cnt.most_common())\n",
    "for k,v in od.items():\n",
    "    print(k,v)"
   ]
  },
  {
   "cell_type": "markdown",
   "id": "afb56f91",
   "metadata": {},
   "source": [
    "# Deque"
   ]
  },
  {
   "cell_type": "code",
   "execution_count": 1,
   "id": "e6116631",
   "metadata": {},
   "outputs": [],
   "source": [
    "from collections import deque"
   ]
  },
  {
   "cell_type": "code",
   "execution_count": 2,
   "id": "bf81372d",
   "metadata": {},
   "outputs": [
    {
     "name": "stdout",
     "output_type": "stream",
     "text": [
      "deque(['a', 'b', 'c'])\n"
     ]
    }
   ],
   "source": [
    "deq=deque([\"a\",\"b\",\"c\"])\n",
    "print(deq)"
   ]
  },
  {
   "cell_type": "code",
   "execution_count": 3,
   "id": "f52cd0ec",
   "metadata": {},
   "outputs": [
    {
     "data": {
      "text/plain": [
       "collections.deque"
      ]
     },
     "execution_count": 3,
     "metadata": {},
     "output_type": "execute_result"
    }
   ],
   "source": [
    "type(deq)"
   ]
  },
  {
   "cell_type": "code",
   "execution_count": 5,
   "id": "f51037b6",
   "metadata": {},
   "outputs": [],
   "source": [
    "deq.append(\"d\")"
   ]
  },
  {
   "cell_type": "code",
   "execution_count": 6,
   "id": "ad813340",
   "metadata": {},
   "outputs": [
    {
     "data": {
      "text/plain": [
       "deque(['a', 'b', 'c', 'd'])"
      ]
     },
     "execution_count": 6,
     "metadata": {},
     "output_type": "execute_result"
    }
   ],
   "source": [
    "deq # normally items is append from right"
   ]
  },
  {
   "cell_type": "code",
   "execution_count": 7,
   "id": "d0cfc92a",
   "metadata": {},
   "outputs": [],
   "source": [
    "deq.appendleft(\"e\")"
   ]
  },
  {
   "cell_type": "code",
   "execution_count": 8,
   "id": "aa849c2e",
   "metadata": {},
   "outputs": [
    {
     "data": {
      "text/plain": [
       "deque(['e', 'a', 'b', 'c', 'd'])"
      ]
     },
     "execution_count": 8,
     "metadata": {},
     "output_type": "execute_result"
    }
   ],
   "source": [
    "deq"
   ]
  },
  {
   "cell_type": "code",
   "execution_count": 9,
   "id": "af20ada9",
   "metadata": {},
   "outputs": [
    {
     "data": {
      "text/plain": [
       "'d'"
      ]
     },
     "execution_count": 9,
     "metadata": {},
     "output_type": "execute_result"
    }
   ],
   "source": [
    "deq.pop() #normally it removes from right"
   ]
  },
  {
   "cell_type": "code",
   "execution_count": 10,
   "id": "8cd44f21",
   "metadata": {},
   "outputs": [
    {
     "data": {
      "text/plain": [
       "'e'"
      ]
     },
     "execution_count": 10,
     "metadata": {},
     "output_type": "execute_result"
    }
   ],
   "source": [
    "deq.popleft()"
   ]
  },
  {
   "cell_type": "code",
   "execution_count": 11,
   "id": "3edeb538",
   "metadata": {},
   "outputs": [
    {
     "data": {
      "text/plain": [
       "deque(['a', 'b', 'c'])"
      ]
     },
     "execution_count": 11,
     "metadata": {},
     "output_type": "execute_result"
    }
   ],
   "source": [
    "deq"
   ]
  },
  {
   "cell_type": "markdown",
   "id": "820cbc2b",
   "metadata": {},
   "source": [
    "# ChainMap"
   ]
  },
  {
   "cell_type": "code",
   "execution_count": 13,
   "id": "7058c65a",
   "metadata": {},
   "outputs": [],
   "source": [
    "from collections import ChainMap"
   ]
  },
  {
   "cell_type": "code",
   "execution_count": 19,
   "id": "28d7f2da",
   "metadata": {},
   "outputs": [
    {
     "data": {
      "text/plain": [
       "{'a': 1, 'b': 2}"
      ]
     },
     "execution_count": 19,
     "metadata": {},
     "output_type": "execute_result"
    }
   ],
   "source": [
    "dict1={'a':1,'b':2}\n",
    "dict2={'c':3,'b':4}\n",
    "# dict3=dict1+dict2  it's shows error('unsupported operand type(s) for +: 'dict' and 'dict'')\n",
    "# dict1.update(dict2) #it overwrite\n",
    "dict1"
   ]
  },
  {
   "cell_type": "code",
   "execution_count": 21,
   "id": "70565501",
   "metadata": {},
   "outputs": [],
   "source": [
    "chainmap=ChainMap(dict1,dict2) # to avoid overwrite use chain map"
   ]
  },
  {
   "cell_type": "code",
   "execution_count": 28,
   "id": "99ec123b",
   "metadata": {},
   "outputs": [
    {
     "data": {
      "text/plain": [
       "[{'a': 1, 'b': 2}, {'c': 3, 'b': 4}]"
      ]
     },
     "execution_count": 28,
     "metadata": {},
     "output_type": "execute_result"
    }
   ],
   "source": [
    "chainmap.maps"
   ]
  },
  {
   "cell_type": "code",
   "execution_count": 36,
   "id": "9138f4f9",
   "metadata": {},
   "outputs": [
    {
     "data": {
      "text/plain": [
       "2"
      ]
     },
     "execution_count": 36,
     "metadata": {},
     "output_type": "execute_result"
    }
   ],
   "source": [
    "chainmap['b']"
   ]
  },
  {
   "cell_type": "markdown",
   "id": "f44f97ca",
   "metadata": {},
   "source": [
    "# Pytz"
   ]
  },
  {
   "cell_type": "code",
   "execution_count": 31,
   "id": "3a0e770b",
   "metadata": {},
   "outputs": [
    {
     "name": "stdout",
     "output_type": "stream",
     "text": [
      "Requirement already satisfied: pytz in c:\\users\\a_man\\appdata\\local\\programs\\python\\python39\\lib\\site-packages (2018.5)Note: you may need to restart the kernel to use updated packages.\n",
      "\n"
     ]
    }
   ],
   "source": [
    "pip install pytz"
   ]
  },
  {
   "cell_type": "code",
   "execution_count": 33,
   "id": "c4beb2e1",
   "metadata": {},
   "outputs": [],
   "source": [
    "import pytz\n",
    "from datetime import datetime"
   ]
  },
  {
   "cell_type": "code",
   "execution_count": 34,
   "id": "aab52a35",
   "metadata": {},
   "outputs": [],
   "source": [
    "all_timezones=pytz.all_timezones"
   ]
  },
  {
   "cell_type": "code",
   "execution_count": 7,
   "id": "31376755",
   "metadata": {},
   "outputs": [
    {
     "data": {
      "text/plain": [
       "['Africa/Asmera',\n",
       " 'Africa/Bamako',\n",
       " 'Africa/Bangui',\n",
       " 'Africa/Banjul',\n",
       " 'Africa/Bissau',\n",
       " 'Africa/Blantyre',\n",
       " 'Africa/Brazzaville',\n",
       " 'Africa/Bujumbura',\n",
       " 'Africa/Cairo',\n",
       " 'Africa/Casablanca']"
      ]
     },
     "execution_count": 7,
     "metadata": {},
     "output_type": "execute_result"
    }
   ],
   "source": [
    "[i for i in all_timezones[5:15]]"
   ]
  },
  {
   "cell_type": "code",
   "execution_count": 49,
   "id": "7beb30b5",
   "metadata": {},
   "outputs": [
    {
     "data": {
      "text/plain": [
       "['Japan']"
      ]
     },
     "execution_count": 49,
     "metadata": {},
     "output_type": "execute_result"
    }
   ],
   "source": [
    "[i for i in all_timezones if i.startswith('Jap')]"
   ]
  },
  {
   "cell_type": "code",
   "execution_count": 38,
   "id": "08d9c294",
   "metadata": {},
   "outputs": [],
   "source": [
    "timezone_newyork=pytz.timezone('America/New_York')"
   ]
  },
  {
   "cell_type": "code",
   "execution_count": 39,
   "id": "871b93a3",
   "metadata": {},
   "outputs": [],
   "source": [
    "time_using_timezone_newyork=datetime.now(tz=timezone_newyork)"
   ]
  },
  {
   "cell_type": "code",
   "execution_count": 40,
   "id": "2b93255c",
   "metadata": {},
   "outputs": [
    {
     "name": "stdout",
     "output_type": "stream",
     "text": [
      "2021-06-10 05:11:39.393669-04:00\n"
     ]
    }
   ],
   "source": [
    "print(time_using_timezone_newyork)"
   ]
  },
  {
   "cell_type": "code",
   "execution_count": 44,
   "id": "da4931b5",
   "metadata": {},
   "outputs": [
    {
     "name": "stdout",
     "output_type": "stream",
     "text": [
      "Indian time is:2021-06-10 14:42:43.274010\n"
     ]
    }
   ],
   "source": [
    "print(f\"Indian time is:{datetime.now()}\")"
   ]
  },
  {
   "cell_type": "code",
   "execution_count": 45,
   "id": "f0d603c7",
   "metadata": {},
   "outputs": [],
   "source": [
    "jpn=pytz.timezone('Japan')"
   ]
  },
  {
   "cell_type": "code",
   "execution_count": 50,
   "id": "9bebdff4",
   "metadata": {},
   "outputs": [],
   "source": [
    "time_using_timezone_newyork=datetime.now(tz=jpn)"
   ]
  },
  {
   "cell_type": "code",
   "execution_count": 51,
   "id": "e4ea7385",
   "metadata": {},
   "outputs": [
    {
     "name": "stdout",
     "output_type": "stream",
     "text": [
      "Japan\n"
     ]
    }
   ],
   "source": [
    "print(jpn)"
   ]
  },
  {
   "cell_type": "code",
   "execution_count": 52,
   "id": "507435c4",
   "metadata": {},
   "outputs": [
    {
     "name": "stdout",
     "output_type": "stream",
     "text": [
      "Japan time is:2021-06-10 18:16:06.017631+09:00\n"
     ]
    }
   ],
   "source": [
    "print(f\"Japan time is:{datetime.now(tz=jpn)}\")"
   ]
  },
  {
   "cell_type": "code",
   "execution_count": 53,
   "id": "e7a21be4",
   "metadata": {},
   "outputs": [],
   "source": [
    "datetime_with_specific_timezone=datetime.utcnow()"
   ]
  },
  {
   "cell_type": "code",
   "execution_count": 54,
   "id": "02107f39",
   "metadata": {},
   "outputs": [
    {
     "data": {
      "text/plain": [
       "datetime.datetime(2021, 6, 10, 9, 17, 42, 572557)"
      ]
     },
     "execution_count": 54,
     "metadata": {},
     "output_type": "execute_result"
    }
   ],
   "source": [
    "datetime_with_specific_timezone"
   ]
  },
  {
   "cell_type": "code",
   "execution_count": 56,
   "id": "9e97f0db",
   "metadata": {},
   "outputs": [],
   "source": [
    "timezone=pytz.timezone('Asia/Calcutta')"
   ]
  },
  {
   "cell_type": "code",
   "execution_count": 57,
   "id": "c77f255b",
   "metadata": {},
   "outputs": [],
   "source": [
    "datetime_with_specific_timezone=datetime.utcnow().astimezone(tz=timezone)"
   ]
  },
  {
   "cell_type": "code",
   "execution_count": 58,
   "id": "f910b12b",
   "metadata": {},
   "outputs": [
    {
     "data": {
      "text/plain": [
       "datetime.datetime(2021, 6, 10, 9, 21, 13, 524514, tzinfo=<DstTzInfo 'Asia/Calcutta' IST+5:30:00 STD>)"
      ]
     },
     "execution_count": 58,
     "metadata": {},
     "output_type": "execute_result"
    }
   ],
   "source": [
    "datetime_with_specific_timezone"
   ]
  },
  {
   "cell_type": "markdown",
   "id": "ba2bdc10",
   "metadata": {},
   "source": [
    "# Calender"
   ]
  },
  {
   "cell_type": "code",
   "execution_count": 65,
   "id": "e29260a0",
   "metadata": {},
   "outputs": [],
   "source": [
    "import calendar"
   ]
  },
  {
   "cell_type": "code",
   "execution_count": 78,
   "id": "aa8dae97",
   "metadata": {},
   "outputs": [
    {
     "name": "stdout",
     "output_type": "stream",
     "text": [
      "     June 2021\n",
      "Mo Tu We Th Fr Sa Su\n",
      "    1  2  3  4  5  6\n",
      " 7  8  9 10 11 12 13\n",
      "14 15 16 17 18 19 20\n",
      "21 22 23 24 25 26 27\n",
      "28 29 30\n",
      "\n"
     ]
    }
   ],
   "source": [
    "print(calendar.month(2021,6,1))"
   ]
  },
  {
   "cell_type": "code",
   "execution_count": 81,
   "id": "c247e067",
   "metadata": {},
   "outputs": [
    {
     "name": "stdout",
     "output_type": "stream",
     "text": [
      "                                  2021\n",
      "\n",
      "      January                   February                   March\n",
      "Mo Tu We Th Fr Sa Su      Mo Tu We Th Fr Sa Su      Mo Tu We Th Fr Sa Su\n",
      "             1  2  3       1  2  3  4  5  6  7       1  2  3  4  5  6  7\n",
      " 4  5  6  7  8  9 10       8  9 10 11 12 13 14       8  9 10 11 12 13 14\n",
      "11 12 13 14 15 16 17      15 16 17 18 19 20 21      15 16 17 18 19 20 21\n",
      "18 19 20 21 22 23 24      22 23 24 25 26 27 28      22 23 24 25 26 27 28\n",
      "25 26 27 28 29 30 31                                29 30 31\n",
      "\n",
      "       April                      May                       June\n",
      "Mo Tu We Th Fr Sa Su      Mo Tu We Th Fr Sa Su      Mo Tu We Th Fr Sa Su\n",
      "          1  2  3  4                      1  2          1  2  3  4  5  6\n",
      " 5  6  7  8  9 10 11       3  4  5  6  7  8  9       7  8  9 10 11 12 13\n",
      "12 13 14 15 16 17 18      10 11 12 13 14 15 16      14 15 16 17 18 19 20\n",
      "19 20 21 22 23 24 25      17 18 19 20 21 22 23      21 22 23 24 25 26 27\n",
      "26 27 28 29 30            24 25 26 27 28 29 30      28 29 30\n",
      "                          31\n",
      "\n",
      "        July                     August                  September\n",
      "Mo Tu We Th Fr Sa Su      Mo Tu We Th Fr Sa Su      Mo Tu We Th Fr Sa Su\n",
      "          1  2  3  4                         1             1  2  3  4  5\n",
      " 5  6  7  8  9 10 11       2  3  4  5  6  7  8       6  7  8  9 10 11 12\n",
      "12 13 14 15 16 17 18       9 10 11 12 13 14 15      13 14 15 16 17 18 19\n",
      "19 20 21 22 23 24 25      16 17 18 19 20 21 22      20 21 22 23 24 25 26\n",
      "26 27 28 29 30 31         23 24 25 26 27 28 29      27 28 29 30\n",
      "                          30 31\n",
      "\n",
      "      October                   November                  December\n",
      "Mo Tu We Th Fr Sa Su      Mo Tu We Th Fr Sa Su      Mo Tu We Th Fr Sa Su\n",
      "             1  2  3       1  2  3  4  5  6  7             1  2  3  4  5\n",
      " 4  5  6  7  8  9 10       8  9 10 11 12 13 14       6  7  8  9 10 11 12\n",
      "11 12 13 14 15 16 17      15 16 17 18 19 20 21      13 14 15 16 17 18 19\n",
      "18 19 20 21 22 23 24      22 23 24 25 26 27 28      20 21 22 23 24 25 26\n",
      "25 26 27 28 29 30 31      29 30                     27 28 29 30 31\n",
      "\n"
     ]
    }
   ],
   "source": [
    "print(calendar.calendar(2021))"
   ]
  },
  {
   "cell_type": "code",
   "execution_count": 83,
   "id": "2aee006b",
   "metadata": {},
   "outputs": [
    {
     "data": {
      "text/plain": [
       "True"
      ]
     },
     "execution_count": 83,
     "metadata": {},
     "output_type": "execute_result"
    }
   ],
   "source": [
    "calendar.isleap(2020)"
   ]
  },
  {
   "cell_type": "code",
   "execution_count": 84,
   "id": "2980e923",
   "metadata": {},
   "outputs": [
    {
     "data": {
      "text/plain": [
       "25"
      ]
     },
     "execution_count": 84,
     "metadata": {},
     "output_type": "execute_result"
    }
   ],
   "source": [
    "calendar.leapdays(1921,2021)"
   ]
  },
  {
   "cell_type": "code",
   "execution_count": 85,
   "id": "1698773f",
   "metadata": {},
   "outputs": [
    {
     "data": {
      "text/plain": [
       "'\\n0 mon\\n1 tue\\n2 wed\\n3 thu\\n4 fri\\n5 sat\\n6 sun\\n'"
      ]
     },
     "execution_count": 85,
     "metadata": {},
     "output_type": "execute_result"
    }
   ],
   "source": [
    "'''\n",
    "0 mon\n",
    "1 tue\n",
    "2 wed\n",
    "3 thu\n",
    "4 fri\n",
    "5 sat\n",
    "6 sun\n",
    "'''"
   ]
  },
  {
   "cell_type": "code",
   "execution_count": 87,
   "id": "45381b8f",
   "metadata": {},
   "outputs": [
    {
     "data": {
      "text/plain": [
       "3"
      ]
     },
     "execution_count": 87,
     "metadata": {},
     "output_type": "execute_result"
    }
   ],
   "source": [
    "calendar.weekday(2021,6,10)"
   ]
  },
  {
   "cell_type": "code",
   "execution_count": 88,
   "id": "d803a48c",
   "metadata": {},
   "outputs": [
    {
     "data": {
      "text/plain": [
       "2"
      ]
     },
     "execution_count": 88,
     "metadata": {},
     "output_type": "execute_result"
    }
   ],
   "source": [
    "calendar.weekday(2021,6,30)"
   ]
  },
  {
   "cell_type": "code",
   "execution_count": 93,
   "id": "a4ea0714",
   "metadata": {},
   "outputs": [
    {
     "data": {
      "text/plain": [
       "'Mon Tue Wed Thu Fri Sat Sun'"
      ]
     },
     "execution_count": 93,
     "metadata": {},
     "output_type": "execute_result"
    }
   ],
   "source": [
    "calendar.weekheader(3)"
   ]
  },
  {
   "cell_type": "code",
   "execution_count": 96,
   "id": "0af0c322",
   "metadata": {},
   "outputs": [
    {
     "data": {
      "text/plain": [
       "(5, 30)"
      ]
     },
     "execution_count": 96,
     "metadata": {},
     "output_type": "execute_result"
    }
   ],
   "source": [
    "calendar.monthrange(2019,6)"
   ]
  },
  {
   "cell_type": "code",
   "execution_count": 98,
   "id": "46d0848e",
   "metadata": {},
   "outputs": [
    {
     "data": {
      "text/plain": [
       "[[0, 1, 2, 3, 4, 5, 6],\n",
       " [7, 8, 9, 10, 11, 12, 13],\n",
       " [14, 15, 16, 17, 18, 19, 20],\n",
       " [21, 22, 23, 24, 25, 26, 27],\n",
       " [28, 29, 30, 0, 0, 0, 0]]"
      ]
     },
     "execution_count": 98,
     "metadata": {},
     "output_type": "execute_result"
    }
   ],
   "source": [
    "calendar.monthcalendar(2021,6)"
   ]
  },
  {
   "cell_type": "code",
   "execution_count": null,
   "id": "e15fcdb7",
   "metadata": {},
   "outputs": [],
   "source": []
  },
  {
   "cell_type": "code",
   "execution_count": null,
   "id": "0f4c184f",
   "metadata": {},
   "outputs": [],
   "source": []
  },
  {
   "cell_type": "markdown",
   "id": "f3d33b07",
   "metadata": {},
   "source": [
    "# <font color='red'>Assignment</str>"
   ]
  },
  {
   "cell_type": "code",
   "execution_count": 111,
   "id": "0dc74fb1",
   "metadata": {},
   "outputs": [],
   "source": [
    "def Introduction(fname,lname,age,add,qualification,salary=1500000):\n",
    "    return f\"the name is {fname} {lname},i'm {age}year old,lived in {add},my package is {salary} p.a., i have {qualification} degree\""
   ]
  },
  {
   "cell_type": "code",
   "execution_count": null,
   "id": "88a925d4",
   "metadata": {},
   "outputs": [],
   "source": [
    "Introduction('ashwin','mandaokar',26,'chd','m.c.m')"
   ]
  },
  {
   "cell_type": "code",
   "execution_count": null,
   "id": "3e46131c",
   "metadata": {},
   "outputs": [],
   "source": [
    "def Introduction(fname='ashwin',lname='mandaokar',age=26,salary=1500000,add='chd',qualification='M.C.M'):\n",
    "    print(f\"the name is {fname} {lname},i'm {age}year old,lived in {add},my package is {salary} p.a., i have {qualification} degree\")"
   ]
  },
  {
   "cell_type": "raw",
   "id": "ee6222a3",
   "metadata": {},
   "source": [
    "the answer is:\n",
    "all required parameter must be placed before any default arguments and it will  confuses the \n",
    "interpreter which value match the which argument i.e., it shows error..\n",
    "the corrected code are as follows.\n",
    "def Introduction(fname,lname,age,add,qualification,salary=1500000):\n",
    "    return f\"the name is {fname} {lname},i'm {age}year old,lived in {add},my package is {salary} p.a., i have {qualification} degree\""
   ]
  }
 ],
 "metadata": {
  "kernelspec": {
   "display_name": "Python 3",
   "language": "python",
   "name": "python3"
  },
  "language_info": {
   "codemirror_mode": {
    "name": "ipython",
    "version": 3
   },
   "file_extension": ".py",
   "mimetype": "text/x-python",
   "name": "python",
   "nbconvert_exporter": "python",
   "pygments_lexer": "ipython3",
   "version": "3.9.1"
  }
 },
 "nbformat": 4,
 "nbformat_minor": 5
}
