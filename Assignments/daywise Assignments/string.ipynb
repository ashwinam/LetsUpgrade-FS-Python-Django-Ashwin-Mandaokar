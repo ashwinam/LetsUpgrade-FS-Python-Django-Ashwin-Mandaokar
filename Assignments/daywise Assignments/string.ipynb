{
 "cells": [
  {
   "cell_type": "markdown",
   "id": "8468e1ef",
   "metadata": {},
   "source": [
    "# <font color='blue'>String</str>\n",
    "### String Indexing, Slicing & Dicing"
   ]
  },
  {
   "cell_type": "code",
   "execution_count": 1,
   "id": "d73be4f9",
   "metadata": {},
   "outputs": [],
   "source": [
    "word='Hello, World!'"
   ]
  },
  {
   "cell_type": "code",
   "execution_count": 2,
   "id": "9159a2f9",
   "metadata": {},
   "outputs": [
    {
     "data": {
      "text/plain": [
       "'Hello, World!'"
      ]
     },
     "execution_count": 2,
     "metadata": {},
     "output_type": "execute_result"
    }
   ],
   "source": [
    "word\n"
   ]
  },
  {
   "cell_type": "code",
   "execution_count": 3,
   "id": "13692dc5",
   "metadata": {},
   "outputs": [
    {
     "data": {
      "text/plain": [
       "'H'"
      ]
     },
     "execution_count": 3,
     "metadata": {},
     "output_type": "execute_result"
    }
   ],
   "source": [
    "word[0]"
   ]
  },
  {
   "cell_type": "code",
   "execution_count": 4,
   "id": "a293e758",
   "metadata": {},
   "outputs": [
    {
     "data": {
      "text/plain": [
       "'Hello, World!'"
      ]
     },
     "execution_count": 4,
     "metadata": {},
     "output_type": "execute_result"
    }
   ],
   "source": [
    "word[:]"
   ]
  },
  {
   "cell_type": "code",
   "execution_count": 8,
   "id": "cd9900fc",
   "metadata": {},
   "outputs": [
    {
     "data": {
      "text/plain": [
       "'Hello, '"
      ]
     },
     "execution_count": 8,
     "metadata": {},
     "output_type": "execute_result"
    }
   ],
   "source": [
    "word[0:7]"
   ]
  },
  {
   "cell_type": "code",
   "execution_count": 9,
   "id": "7db723a4",
   "metadata": {},
   "outputs": [
    {
     "data": {
      "text/plain": [
       "'!dlroW ,olleH'"
      ]
     },
     "execution_count": 9,
     "metadata": {},
     "output_type": "execute_result"
    }
   ],
   "source": [
    "word[::-1]"
   ]
  },
  {
   "cell_type": "code",
   "execution_count": 10,
   "id": "755d641c",
   "metadata": {},
   "outputs": [
    {
     "data": {
      "text/plain": [
       "'!'"
      ]
     },
     "execution_count": 10,
     "metadata": {},
     "output_type": "execute_result"
    }
   ],
   "source": [
    "word[-1]"
   ]
  },
  {
   "cell_type": "code",
   "execution_count": 11,
   "id": "8359e07b",
   "metadata": {},
   "outputs": [
    {
     "data": {
      "text/plain": [
       "13"
      ]
     },
     "execution_count": 11,
     "metadata": {},
     "output_type": "execute_result"
    }
   ],
   "source": [
    "len(word)"
   ]
  },
  {
   "cell_type": "code",
   "execution_count": 12,
   "id": "2c3c355e",
   "metadata": {},
   "outputs": [
    {
     "data": {
      "text/plain": [
       "''"
      ]
     },
     "execution_count": 12,
     "metadata": {},
     "output_type": "execute_result"
    }
   ],
   "source": [
    "word[-1:-14]"
   ]
  },
  {
   "cell_type": "code",
   "execution_count": 25,
   "id": "43ed90bc",
   "metadata": {},
   "outputs": [],
   "source": [
    "\n",
    "newWord=word[::-1]"
   ]
  },
  {
   "cell_type": "code",
   "execution_count": 26,
   "id": "a060a00f",
   "metadata": {},
   "outputs": [
    {
     "data": {
      "text/plain": [
       "'!dlroW ,olleH'"
      ]
     },
     "execution_count": 26,
     "metadata": {},
     "output_type": "execute_result"
    }
   ],
   "source": [
    "newWord"
   ]
  },
  {
   "cell_type": "code",
   "execution_count": 27,
   "id": "35825235",
   "metadata": {},
   "outputs": [
    {
     "data": {
      "text/plain": [
       "'Hello, World!'"
      ]
     },
     "execution_count": 27,
     "metadata": {},
     "output_type": "execute_result"
    }
   ],
   "source": [
    "word"
   ]
  },
  {
   "cell_type": "code",
   "execution_count": 30,
   "id": "0219ebbb",
   "metadata": {},
   "outputs": [
    {
     "data": {
      "text/plain": [
       "'Hlo'"
      ]
     },
     "execution_count": 30,
     "metadata": {},
     "output_type": "execute_result"
    }
   ],
   "source": [
    "word[0:5:2]"
   ]
  },
  {
   "cell_type": "code",
   "execution_count": 31,
   "id": "d8678b96",
   "metadata": {},
   "outputs": [],
   "source": [
    "# while True:\n",
    "#     print('Enter your age:')\n",
    "#     age = input()\n",
    "#     if age.isdecimal():\n",
    "#         break\n",
    "#     print('Please enter a number for your age.')"
   ]
  },
  {
   "cell_type": "code",
   "execution_count": 32,
   "id": "476f6990",
   "metadata": {},
   "outputs": [],
   "source": [
    "# while True:\n",
    "#     print('Select a new password (letters and numbers only):')\n",
    "#     password = input()\n",
    "#     if password.isalnum():\n",
    "#         break\n",
    "#     print('Passwords can only have letters and numbers.')"
   ]
  },
  {
   "cell_type": "code",
   "execution_count": 33,
   "id": "af88129c",
   "metadata": {},
   "outputs": [
    {
     "name": "stdout",
     "output_type": "stream",
     "text": [
      "---PICNIC ITEMS--\n",
      "sandwiches..    4\n",
      "apples......   12\n",
      "cups........    4\n",
      "cookies..... 8000\n",
      "-------PICNIC ITEMS-------\n",
      "sandwiches..........     4\n",
      "apples..............    12\n",
      "cups................     4\n",
      "cookies.............  8000\n"
     ]
    }
   ],
   "source": [
    "def printPicnic(itemsDict, leftWidth, rightWidth):\n",
    "    print('PICNIC ITEMS'.center(leftWidth + rightWidth, '-'))\n",
    "    for k, v in itemsDict.items():\n",
    "        print(k.ljust(leftWidth, '.') + str(v).rjust(rightWidth))\n",
    "\n",
    "picnicItems = {'sandwiches': 4, 'apples': 12, 'cups': 4, 'cookies': 8000}\n",
    "printPicnic(picnicItems, 12, 5)\n",
    "printPicnic(picnicItems, 20, 6)"
   ]
  },
  {
   "cell_type": "code",
   "execution_count": 35,
   "id": "b46a8605",
   "metadata": {},
   "outputs": [],
   "source": [
    "items=['apple','mango','kiwi','muskmelon','guava']"
   ]
  },
  {
   "cell_type": "code",
   "execution_count": 36,
   "id": "e2820405",
   "metadata": {},
   "outputs": [
    {
     "name": "stdout",
     "output_type": "stream",
     "text": [
      "apple\n",
      "mango\n",
      "kiwi\n",
      "muskmelon\n",
      "guava\n"
     ]
    }
   ],
   "source": [
    "for i in items:\n",
    "    print(i)"
   ]
  },
  {
   "cell_type": "code",
   "execution_count": 41,
   "id": "fb32fd2a",
   "metadata": {},
   "outputs": [
    {
     "name": "stdout",
     "output_type": "stream",
     "text": [
      "0 apple\n",
      "1 mango\n",
      "2 kiwi\n",
      "3 muskmelon\n",
      "4 guava\n"
     ]
    }
   ],
   "source": [
    "for i in range(len(items)):\n",
    "#     print(i)\n",
    "      print(i,items[i])"
   ]
  },
  {
   "cell_type": "markdown",
   "id": "4a5c760b",
   "metadata": {},
   "source": [
    "# <font color='red'>List iteration/Comprehension</str>"
   ]
  },
  {
   "cell_type": "code",
   "execution_count": 43,
   "id": "858ae451",
   "metadata": {},
   "outputs": [
    {
     "data": {
      "text/plain": [
       "['apple', 'mango', 'kiwi', 'muskmelon', 'guava']"
      ]
     },
     "execution_count": 43,
     "metadata": {},
     "output_type": "execute_result"
    }
   ],
   "source": [
    "[items[i] for i in range(len(items))]"
   ]
  },
  {
   "cell_type": "code",
   "execution_count": 44,
   "id": "b06976a1",
   "metadata": {},
   "outputs": [
    {
     "name": "stdout",
     "output_type": "stream",
     "text": [
      "2 kiwi\n"
     ]
    }
   ],
   "source": [
    "for i in range(len(items)):\n",
    "    if items[i].startswith('k'):\n",
    "        print(i,items[i])"
   ]
  },
  {
   "cell_type": "code",
   "execution_count": 47,
   "id": "f7452042",
   "metadata": {},
   "outputs": [
    {
     "data": {
      "text/plain": [
       "['mango', 'muskmelon']"
      ]
     },
     "execution_count": 47,
     "metadata": {},
     "output_type": "execute_result"
    }
   ],
   "source": [
    "#above example using list iteration\n",
    "[items[i] for i in range(len(items)) if items[i].startswith('m')]"
   ]
  },
  {
   "cell_type": "markdown",
   "id": "000d25ab",
   "metadata": {},
   "source": [
    "# <font color='Purple'>Dictinory</str>"
   ]
  },
  {
   "cell_type": "code",
   "execution_count": 48,
   "id": "48d45428",
   "metadata": {},
   "outputs": [],
   "source": [
    "# dictinory aka JSON(javascript object notion)"
   ]
  },
  {
   "cell_type": "code",
   "execution_count": 64,
   "id": "2ccbcc83",
   "metadata": {},
   "outputs": [],
   "source": [
    "items={}"
   ]
  },
  {
   "cell_type": "code",
   "execution_count": 50,
   "id": "3be17037",
   "metadata": {},
   "outputs": [
    {
     "data": {
      "text/plain": [
       "dict"
      ]
     },
     "execution_count": 50,
     "metadata": {},
     "output_type": "execute_result"
    }
   ],
   "source": [
    "type(items)"
   ]
  },
  {
   "cell_type": "code",
   "execution_count": 51,
   "id": "23d12f2c",
   "metadata": {},
   "outputs": [],
   "source": [
    "items=dict()"
   ]
  },
  {
   "cell_type": "code",
   "execution_count": 52,
   "id": "24aa1c3d",
   "metadata": {},
   "outputs": [
    {
     "data": {
      "text/plain": [
       "dict"
      ]
     },
     "execution_count": 52,
     "metadata": {},
     "output_type": "execute_result"
    }
   ],
   "source": [
    "type(items)"
   ]
  },
  {
   "cell_type": "code",
   "execution_count": 57,
   "id": "f32dcb99",
   "metadata": {},
   "outputs": [],
   "source": [
    "items[\"name\"]=['ashwin']"
   ]
  },
  {
   "cell_type": "code",
   "execution_count": 58,
   "id": "209fcc3f",
   "metadata": {},
   "outputs": [
    {
     "data": {
      "text/plain": [
       "{'name': ['ashwin']}"
      ]
     },
     "execution_count": 58,
     "metadata": {},
     "output_type": "execute_result"
    }
   ],
   "source": [
    "items"
   ]
  },
  {
   "cell_type": "code",
   "execution_count": 68,
   "id": "415dd2b2",
   "metadata": {},
   "outputs": [],
   "source": [
    "items={'name':[],\n",
    "       'company':[]}"
   ]
  },
  {
   "cell_type": "code",
   "execution_count": 63,
   "id": "8ad8f745",
   "metadata": {},
   "outputs": [
    {
     "data": {
      "text/plain": [
       "['__class__',\n",
       " '__class_getitem__',\n",
       " '__contains__',\n",
       " '__delattr__',\n",
       " '__delitem__',\n",
       " '__dir__',\n",
       " '__doc__',\n",
       " '__eq__',\n",
       " '__format__',\n",
       " '__ge__',\n",
       " '__getattribute__',\n",
       " '__getitem__',\n",
       " '__gt__',\n",
       " '__hash__',\n",
       " '__init__',\n",
       " '__init_subclass__',\n",
       " '__ior__',\n",
       " '__iter__',\n",
       " '__le__',\n",
       " '__len__',\n",
       " '__lt__',\n",
       " '__ne__',\n",
       " '__new__',\n",
       " '__or__',\n",
       " '__reduce__',\n",
       " '__reduce_ex__',\n",
       " '__repr__',\n",
       " '__reversed__',\n",
       " '__ror__',\n",
       " '__setattr__',\n",
       " '__setitem__',\n",
       " '__sizeof__',\n",
       " '__str__',\n",
       " '__subclasshook__',\n",
       " 'clear',\n",
       " 'copy',\n",
       " 'fromkeys',\n",
       " 'get',\n",
       " 'items',\n",
       " 'keys',\n",
       " 'pop',\n",
       " 'popitem',\n",
       " 'setdefault',\n",
       " 'update',\n",
       " 'values']"
      ]
     },
     "execution_count": 63,
     "metadata": {},
     "output_type": "execute_result"
    }
   ],
   "source": [
    "dir(items)"
   ]
  },
  {
   "cell_type": "code",
   "execution_count": 69,
   "id": "3929a47b",
   "metadata": {},
   "outputs": [
    {
     "data": {
      "text/plain": [
       "{'name': [], 'company': []}"
      ]
     },
     "execution_count": 69,
     "metadata": {},
     "output_type": "execute_result"
    }
   ],
   "source": [
    "items\n"
   ]
  },
  {
   "cell_type": "code",
   "execution_count": 70,
   "id": "38214c92",
   "metadata": {},
   "outputs": [],
   "source": [
    "items['name'].append('ashwin')"
   ]
  },
  {
   "cell_type": "code",
   "execution_count": 71,
   "id": "eb475a53",
   "metadata": {},
   "outputs": [
    {
     "data": {
      "text/plain": [
       "{'name': ['ashwin'], 'company': []}"
      ]
     },
     "execution_count": 71,
     "metadata": {},
     "output_type": "execute_result"
    }
   ],
   "source": [
    "items"
   ]
  },
  {
   "cell_type": "code",
   "execution_count": 72,
   "id": "d0978b1f",
   "metadata": {},
   "outputs": [],
   "source": [
    "items['name'].append('meet')"
   ]
  },
  {
   "cell_type": "code",
   "execution_count": 73,
   "id": "2e4a8a92",
   "metadata": {},
   "outputs": [],
   "source": [
    "items['name'].append('geeta')"
   ]
  },
  {
   "cell_type": "code",
   "execution_count": 74,
   "id": "71704aa7",
   "metadata": {},
   "outputs": [],
   "source": [
    "items['name'].append('mohan')"
   ]
  },
  {
   "cell_type": "code",
   "execution_count": 75,
   "id": "770ddddb",
   "metadata": {},
   "outputs": [
    {
     "data": {
      "text/plain": [
       "{'name': ['ashwin', 'meet', 'geeta', 'mohan'], 'company': []}"
      ]
     },
     "execution_count": 75,
     "metadata": {},
     "output_type": "execute_result"
    }
   ],
   "source": [
    "items"
   ]
  },
  {
   "cell_type": "code",
   "execution_count": 76,
   "id": "7d7e16ac",
   "metadata": {},
   "outputs": [],
   "source": [
    "items['company'].append('BOA')"
   ]
  },
  {
   "cell_type": "code",
   "execution_count": 77,
   "id": "85a122f5",
   "metadata": {},
   "outputs": [],
   "source": [
    "items['company'].append('JPMC')"
   ]
  },
  {
   "cell_type": "code",
   "execution_count": 78,
   "id": "fc8cd610",
   "metadata": {},
   "outputs": [],
   "source": [
    "items['company'].append('AON')"
   ]
  },
  {
   "cell_type": "code",
   "execution_count": 79,
   "id": "d69f1138",
   "metadata": {},
   "outputs": [],
   "source": [
    "items['company'].append('PWC')"
   ]
  },
  {
   "cell_type": "code",
   "execution_count": 80,
   "id": "676bef05",
   "metadata": {},
   "outputs": [
    {
     "data": {
      "text/plain": [
       "{'name': ['ashwin', 'meet', 'geeta', 'mohan'],\n",
       " 'company': ['BOA', 'JPMC', 'AON', 'PWC']}"
      ]
     },
     "execution_count": 80,
     "metadata": {},
     "output_type": "execute_result"
    }
   ],
   "source": [
    "items"
   ]
  },
  {
   "cell_type": "code",
   "execution_count": 81,
   "id": "5f4de28f",
   "metadata": {},
   "outputs": [
    {
     "data": {
      "text/plain": [
       "['__class__',\n",
       " '__class_getitem__',\n",
       " '__contains__',\n",
       " '__delattr__',\n",
       " '__delitem__',\n",
       " '__dir__',\n",
       " '__doc__',\n",
       " '__eq__',\n",
       " '__format__',\n",
       " '__ge__',\n",
       " '__getattribute__',\n",
       " '__getitem__',\n",
       " '__gt__',\n",
       " '__hash__',\n",
       " '__init__',\n",
       " '__init_subclass__',\n",
       " '__ior__',\n",
       " '__iter__',\n",
       " '__le__',\n",
       " '__len__',\n",
       " '__lt__',\n",
       " '__ne__',\n",
       " '__new__',\n",
       " '__or__',\n",
       " '__reduce__',\n",
       " '__reduce_ex__',\n",
       " '__repr__',\n",
       " '__reversed__',\n",
       " '__ror__',\n",
       " '__setattr__',\n",
       " '__setitem__',\n",
       " '__sizeof__',\n",
       " '__str__',\n",
       " '__subclasshook__',\n",
       " 'clear',\n",
       " 'copy',\n",
       " 'fromkeys',\n",
       " 'get',\n",
       " 'items',\n",
       " 'keys',\n",
       " 'pop',\n",
       " 'popitem',\n",
       " 'setdefault',\n",
       " 'update',\n",
       " 'values']"
      ]
     },
     "execution_count": 81,
     "metadata": {},
     "output_type": "execute_result"
    }
   ],
   "source": [
    "#structure like below\n",
    "dir(items)"
   ]
  },
  {
   "cell_type": "code",
   "execution_count": 82,
   "id": "6123fad3",
   "metadata": {},
   "outputs": [],
   "source": [
    "myCat = {'size': 'fat', 'color': 'gray', 'disposition': 'loud'}"
   ]
  },
  {
   "cell_type": "code",
   "execution_count": 83,
   "id": "bed83c8b",
   "metadata": {},
   "outputs": [
    {
     "data": {
      "text/plain": [
       "{'size': 'fat', 'color': 'gray', 'disposition': 'loud'}"
      ]
     },
     "execution_count": 83,
     "metadata": {},
     "output_type": "execute_result"
    }
   ],
   "source": [
    "myCat"
   ]
  },
  {
   "cell_type": "code",
   "execution_count": 87,
   "id": "f7b071b3",
   "metadata": {},
   "outputs": [
    {
     "name": "stdout",
     "output_type": "stream",
     "text": [
      "['ashwin', 'meet', 'geeta', 'mohan']\n",
      "['BOA', 'JPMC', 'AON', 'PWC']\n"
     ]
    }
   ],
   "source": [
    "for i in items.values():\n",
    "    print(i)"
   ]
  },
  {
   "cell_type": "code",
   "execution_count": 88,
   "id": "b31be5fc",
   "metadata": {},
   "outputs": [],
   "source": [
    "employeeInfo={}"
   ]
  },
  {
   "cell_type": "code",
   "execution_count": 89,
   "id": "f6d447f7",
   "metadata": {},
   "outputs": [
    {
     "data": {
      "text/plain": [
       "dict"
      ]
     },
     "execution_count": 89,
     "metadata": {},
     "output_type": "execute_result"
    }
   ],
   "source": [
    "type(employeeInfo)"
   ]
  },
  {
   "cell_type": "code",
   "execution_count": 90,
   "id": "0b0b40dd",
   "metadata": {},
   "outputs": [
    {
     "data": {
      "text/plain": [
       "{}"
      ]
     },
     "execution_count": 90,
     "metadata": {},
     "output_type": "execute_result"
    }
   ],
   "source": [
    "employeeInfo"
   ]
  },
  {
   "cell_type": "code",
   "execution_count": 91,
   "id": "8800c3a3",
   "metadata": {},
   "outputs": [
    {
     "data": {
      "text/plain": [
       "['__class__',\n",
       " '__class_getitem__',\n",
       " '__contains__',\n",
       " '__delattr__',\n",
       " '__delitem__',\n",
       " '__dir__',\n",
       " '__doc__',\n",
       " '__eq__',\n",
       " '__format__',\n",
       " '__ge__',\n",
       " '__getattribute__',\n",
       " '__getitem__',\n",
       " '__gt__',\n",
       " '__hash__',\n",
       " '__init__',\n",
       " '__init_subclass__',\n",
       " '__ior__',\n",
       " '__iter__',\n",
       " '__le__',\n",
       " '__len__',\n",
       " '__lt__',\n",
       " '__ne__',\n",
       " '__new__',\n",
       " '__or__',\n",
       " '__reduce__',\n",
       " '__reduce_ex__',\n",
       " '__repr__',\n",
       " '__reversed__',\n",
       " '__ror__',\n",
       " '__setattr__',\n",
       " '__setitem__',\n",
       " '__sizeof__',\n",
       " '__str__',\n",
       " '__subclasshook__',\n",
       " 'clear',\n",
       " 'copy',\n",
       " 'fromkeys',\n",
       " 'get',\n",
       " 'items',\n",
       " 'keys',\n",
       " 'pop',\n",
       " 'popitem',\n",
       " 'setdefault',\n",
       " 'update',\n",
       " 'values']"
      ]
     },
     "execution_count": 91,
     "metadata": {},
     "output_type": "execute_result"
    }
   ],
   "source": [
    "dir(employeeInfo)"
   ]
  },
  {
   "cell_type": "code",
   "execution_count": 114,
   "id": "b093bfe8",
   "metadata": {},
   "outputs": [],
   "source": [
    "employeeInfo={'Meet':'JPMC',\n",
    "             'Mohan':'PWC',\n",
    "             'Geeta':'AON',\n",
    "             'Ashwin':'BOA'}"
   ]
  },
  {
   "cell_type": "code",
   "execution_count": 116,
   "id": "b780945e",
   "metadata": {},
   "outputs": [
    {
     "data": {
      "text/plain": [
       "dict_items([('Meet', 'JPMC'), ('Mohan', 'PWC'), ('Geeta', 'AON'), ('Ashwin', 'BOA')])"
      ]
     },
     "execution_count": 116,
     "metadata": {},
     "output_type": "execute_result"
    }
   ],
   "source": [
    "employeeInfo.items()"
   ]
  },
  {
   "cell_type": "code",
   "execution_count": 106,
   "id": "19c9fcc2",
   "metadata": {},
   "outputs": [
    {
     "data": {
      "text/plain": [
       "dict"
      ]
     },
     "execution_count": 106,
     "metadata": {},
     "output_type": "execute_result"
    }
   ],
   "source": [
    "type(employeeInfo)"
   ]
  },
  {
   "cell_type": "code",
   "execution_count": 115,
   "id": "0c14f697",
   "metadata": {},
   "outputs": [
    {
     "name": "stdout",
     "output_type": "stream",
     "text": [
      "('Meet', 'JPMC')\n",
      "('Mohan', 'PWC')\n",
      "('Geeta', 'AON')\n",
      "('Ashwin', 'BOA')\n"
     ]
    }
   ],
   "source": [
    "for Info in employeeInfo.items():\n",
    "    print(Info)"
   ]
  },
  {
   "cell_type": "code",
   "execution_count": 153,
   "id": "d7e468bf",
   "metadata": {},
   "outputs": [
    {
     "name": "stdout",
     "output_type": "stream",
     "text": [
      "{\n",
      "   Meet : JPMC,\n",
      "   Mohan : PWC,\n",
      "   Geeta : AON,\n",
      "   Ashwin : BOA,\n",
      "}\n"
     ]
    }
   ],
   "source": [
    "print('{')\n",
    "for i,n in employeeInfo.items():\n",
    "    print(f'   {i} : {n},')\n",
    "print('}')"
   ]
  },
  {
   "cell_type": "code",
   "execution_count": 129,
   "id": "791c43f0",
   "metadata": {},
   "outputs": [
    {
     "data": {
      "text/plain": [
       "dict_keys(['Meet', 'Mohan', 'Geeta', 'Ashwin'])"
      ]
     },
     "execution_count": 129,
     "metadata": {},
     "output_type": "execute_result"
    }
   ],
   "source": [
    "employeeInfo.keys()"
   ]
  },
  {
   "cell_type": "code",
   "execution_count": 132,
   "id": "06683672",
   "metadata": {},
   "outputs": [
    {
     "name": "stdout",
     "output_type": "stream",
     "text": [
      "JPMC\n",
      "PWC\n",
      "AON\n",
      "BOA\n"
     ]
    }
   ],
   "source": [
    "for i in employeeInfo.values():\n",
    "    print(i)\n",
    "    "
   ]
  },
  {
   "cell_type": "code",
   "execution_count": 133,
   "id": "14dce2c5",
   "metadata": {},
   "outputs": [
    {
     "data": {
      "text/plain": [
       "{'Meet': 'JPMC', 'Mohan': 'PWC', 'Geeta': 'AON', 'Ashwin': 'BOA'}"
      ]
     },
     "execution_count": 133,
     "metadata": {},
     "output_type": "execute_result"
    }
   ],
   "source": [
    "employeeInfo\n"
   ]
  },
  {
   "cell_type": "code",
   "execution_count": 143,
   "id": "84675dca",
   "metadata": {},
   "outputs": [
    {
     "name": "stdout",
     "output_type": "stream",
     "text": [
      "{ Meet : JPMC ,\n",
      " Mohan : PWC ,\n",
      " Geeta : AON ,\n",
      " Ashwin : BOA }\n"
     ]
    }
   ],
   "source": [
    "# I tried but in a novice way\n",
    "print('{ Meet :',employeeInfo['Meet']+' '+',')\n",
    "print(' Mohan :',employeeInfo['Mohan']+' '+',')\n",
    "print(' Geeta :',employeeInfo['Geeta']+' '+',')\n",
    "print(' Ashwin :',employeeInfo['Ashwin']+' '+'}')\n"
   ]
  }
 ],
 "metadata": {
  "kernelspec": {
   "display_name": "Python 3",
   "language": "python",
   "name": "python3"
  },
  "language_info": {
   "codemirror_mode": {
    "name": "ipython",
    "version": 3
   },
   "file_extension": ".py",
   "mimetype": "text/x-python",
   "name": "python",
   "nbconvert_exporter": "python",
   "pygments_lexer": "ipython3",
   "version": "3.9.1"
  }
 },
 "nbformat": 4,
 "nbformat_minor": 5
}
