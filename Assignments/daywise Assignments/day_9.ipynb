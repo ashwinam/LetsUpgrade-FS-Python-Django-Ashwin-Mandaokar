{
 "cells": [
  {
   "cell_type": "code",
   "execution_count": 2,
   "id": "fcd87fa0",
   "metadata": {},
   "outputs": [],
   "source": [
    "class Employee:\n",
    "    num_of_employees=0\n",
    "    raise_amount=1.05\n",
    "    def __init__(self,first,last,pay):\n",
    "        self.first=first\n",
    "        self.last=last\n",
    "        self.email=first+'.'+last+'@email.com'\n",
    "        self.pay=pay\n",
    "        Employee.num_of_employees +=1\n",
    "        \n",
    "    def fullname(self):\n",
    "        return '{} {}'.format(self.first,self.last)\n",
    "    \n",
    "    def apply_raise(self):\n",
    "        self.pay=int(self.pay*self.raise_amount)"
   ]
  },
  {
   "cell_type": "code",
   "execution_count": 3,
   "id": "afcf370a",
   "metadata": {},
   "outputs": [],
   "source": [
    "emp_1=Employee('ashwin','mandaokar',100000)"
   ]
  },
  {
   "cell_type": "code",
   "execution_count": 9,
   "id": "3f21f103",
   "metadata": {},
   "outputs": [
    {
     "name": "stdout",
     "output_type": "stream",
     "text": [
      "4\n",
      "4\n",
      "4\n",
      "4\n"
     ]
    }
   ],
   "source": [
    "print(emp_1.num_of_employees) #updated value posted\n",
    "print(emp_2.num_of_employees)\n",
    "print(emp_3.num_of_employees)\n",
    "print(emp_4.num_of_employees)"
   ]
  },
  {
   "cell_type": "code",
   "execution_count": 8,
   "id": "c7879286",
   "metadata": {},
   "outputs": [
    {
     "data": {
      "text/plain": [
       "4"
      ]
     },
     "execution_count": 8,
     "metadata": {},
     "output_type": "execute_result"
    }
   ],
   "source": [
    "Employee.num_of_employees"
   ]
  },
  {
   "cell_type": "code",
   "execution_count": 6,
   "id": "9d276a2f",
   "metadata": {},
   "outputs": [],
   "source": [
    "emp_2=Employee('roman','reign',100000)\n",
    "emp_3=Employee('sheila','pandit',100000)\n",
    "emp_4=Employee('ruby','nandwani',100000)"
   ]
  },
  {
   "cell_type": "code",
   "execution_count": null,
   "id": "449a9014",
   "metadata": {},
   "outputs": [],
   "source": []
  },
  {
   "cell_type": "code",
   "execution_count": null,
   "id": "fbeefd4b",
   "metadata": {},
   "outputs": [],
   "source": []
  },
  {
   "cell_type": "code",
   "execution_count": 2,
   "id": "e10af1ef",
   "metadata": {},
   "outputs": [],
   "source": [
    "import re"
   ]
  },
  {
   "cell_type": "code",
   "execution_count": 4,
   "id": "39a4fced",
   "metadata": {},
   "outputs": [
    {
     "name": "stdout",
     "output_type": "stream",
     "text": [
      "Support for regular expressions (RE).\n",
      "\n",
      "This module provides regular expression matching operations similar to\n",
      "those found in Perl.  It supports both 8-bit and Unicode strings; both\n",
      "the pattern and the strings being processed can contain null bytes and\n",
      "characters outside the US ASCII range.\n",
      "\n",
      "Regular expressions can contain both special and ordinary characters.\n",
      "Most ordinary characters, like \"A\", \"a\", or \"0\", are the simplest\n",
      "regular expressions; they simply match themselves.  You can\n",
      "concatenate ordinary characters, so last matches the string 'last'.\n",
      "\n",
      "The special characters are:\n",
      "    \".\"      Matches any character except a newline.\n",
      "    \"^\"      Matches the start of the string.\n",
      "    \"$\"      Matches the end of the string or just before the newline at\n",
      "             the end of the string.\n",
      "    \"*\"      Matches 0 or more (greedy) repetitions of the preceding RE.\n",
      "             Greedy means that it will match as many repetitions as possible.\n",
      "    \"+\"      Matches 1 or more (greedy) repetitions of the preceding RE.\n",
      "    \"?\"      Matches 0 or 1 (greedy) of the preceding RE.\n",
      "    *?,+?,?? Non-greedy versions of the previous three special characters.\n",
      "    {m,n}    Matches from m to n repetitions of the preceding RE.\n",
      "    {m,n}?   Non-greedy version of the above.\n",
      "    \"\\\\\"     Either escapes special characters or signals a special sequence.\n",
      "    []       Indicates a set of characters.\n",
      "             A \"^\" as the first character indicates a complementing set.\n",
      "    \"|\"      A|B, creates an RE that will match either A or B.\n",
      "    (...)    Matches the RE inside the parentheses.\n",
      "             The contents can be retrieved or matched later in the string.\n",
      "    (?aiLmsux) The letters set the corresponding flags defined below.\n",
      "    (?:...)  Non-grouping version of regular parentheses.\n",
      "    (?P<name>...) The substring matched by the group is accessible by name.\n",
      "    (?P=name)     Matches the text matched earlier by the group named name.\n",
      "    (?#...)  A comment; ignored.\n",
      "    (?=...)  Matches if ... matches next, but doesn't consume the string.\n",
      "    (?!...)  Matches if ... doesn't match next.\n",
      "    (?<=...) Matches if preceded by ... (must be fixed length).\n",
      "    (?<!...) Matches if not preceded by ... (must be fixed length).\n",
      "    (?(id/name)yes|no) Matches yes pattern if the group with id/name matched,\n",
      "                       the (optional) no pattern otherwise.\n",
      "\n",
      "The special sequences consist of \"\\\\\" and a character from the list\n",
      "below.  If the ordinary character is not on the list, then the\n",
      "resulting RE will match the second character.\n",
      "    \\number  Matches the contents of the group of the same number.\n",
      "    \\A       Matches only at the start of the string.\n",
      "    \\Z       Matches only at the end of the string.\n",
      "    \\b       Matches the empty string, but only at the start or end of a word.\n",
      "    \\B       Matches the empty string, but not at the start or end of a word.\n",
      "    \\d       Matches any decimal digit; equivalent to the set [0-9] in\n",
      "             bytes patterns or string patterns with the ASCII flag.\n",
      "             In string patterns without the ASCII flag, it will match the whole\n",
      "             range of Unicode digits.\n",
      "    \\D       Matches any non-digit character; equivalent to [^\\d].\n",
      "    \\s       Matches any whitespace character; equivalent to [ \\t\\n\\r\\f\\v] in\n",
      "             bytes patterns or string patterns with the ASCII flag.\n",
      "             In string patterns without the ASCII flag, it will match the whole\n",
      "             range of Unicode whitespace characters.\n",
      "    \\S       Matches any non-whitespace character; equivalent to [^\\s].\n",
      "    \\w       Matches any alphanumeric character; equivalent to [a-zA-Z0-9_]\n",
      "             in bytes patterns or string patterns with the ASCII flag.\n",
      "             In string patterns without the ASCII flag, it will match the\n",
      "             range of Unicode alphanumeric characters (letters plus digits\n",
      "             plus underscore).\n",
      "             With LOCALE, it will match the set [0-9_] plus characters defined\n",
      "             as letters for the current locale.\n",
      "    \\W       Matches the complement of \\w.\n",
      "    \\\\       Matches a literal backslash.\n",
      "\n",
      "This module exports the following functions:\n",
      "    match     Match a regular expression pattern to the beginning of a string.\n",
      "    fullmatch Match a regular expression pattern to all of a string.\n",
      "    search    Search a string for the presence of a pattern.\n",
      "    sub       Substitute occurrences of a pattern found in a string.\n",
      "    subn      Same as sub, but also return the number of substitutions made.\n",
      "    split     Split a string by the occurrences of a pattern.\n",
      "    findall   Find all occurrences of a pattern in a string.\n",
      "    finditer  Return an iterator yielding a Match object for each match.\n",
      "    compile   Compile a pattern into a Pattern object.\n",
      "    purge     Clear the regular expression cache.\n",
      "    escape    Backslash all non-alphanumerics in a string.\n",
      "\n",
      "Each function other than purge and escape can take an optional 'flags' argument\n",
      "consisting of one or more of the following module constants, joined by \"|\".\n",
      "A, L, and U are mutually exclusive.\n",
      "    A  ASCII       For string patterns, make \\w, \\W, \\b, \\B, \\d, \\D\n",
      "                   match the corresponding ASCII character categories\n",
      "                   (rather than the whole Unicode categories, which is the\n",
      "                   default).\n",
      "                   For bytes patterns, this flag is the only available\n",
      "                   behaviour and needn't be specified.\n",
      "    I  IGNORECASE  Perform case-insensitive matching.\n",
      "    L  LOCALE      Make \\w, \\W, \\b, \\B, dependent on the current locale.\n",
      "    M  MULTILINE   \"^\" matches the beginning of lines (after a newline)\n",
      "                   as well as the string.\n",
      "                   \"$\" matches the end of lines (before a newline) as well\n",
      "                   as the end of the string.\n",
      "    S  DOTALL      \".\" matches any character at all, including the newline.\n",
      "    X  VERBOSE     Ignore whitespace and comments for nicer looking RE's.\n",
      "    U  UNICODE     For compatibility only. Ignored for string patterns (it\n",
      "                   is the default), and forbidden for bytes patterns.\n",
      "\n",
      "This module also defines an exception 'error'.\n",
      "\n",
      "\n"
     ]
    }
   ],
   "source": [
    "print(re.__doc__)"
   ]
  },
  {
   "cell_type": "code",
   "execution_count": 9,
   "id": "d5f08f6e",
   "metadata": {},
   "outputs": [
    {
     "data": {
      "text/plain": [
       "<re.Match object; span=(3, 4), match='A'>"
      ]
     },
     "execution_count": 9,
     "metadata": {},
     "output_type": "execute_result"
    }
   ],
   "source": [
    "re.search('\\w','#(.A25_a$@&_)')"
   ]
  },
  {
   "cell_type": "code",
   "execution_count": 10,
   "id": "d3751d24",
   "metadata": {},
   "outputs": [
    {
     "data": {
      "text/plain": [
       "<re.Match object; span=(0, 1), match='#'>"
      ]
     },
     "execution_count": 10,
     "metadata": {},
     "output_type": "execute_result"
    }
   ],
   "source": [
    "re.search('\\W','#(.A25_a$@&_)')"
   ]
  },
  {
   "cell_type": "code",
   "execution_count": 11,
   "id": "1f7e1dc7",
   "metadata": {},
   "outputs": [
    {
     "data": {
      "text/plain": [
       "<re.Match object; span=(0, 1), match='1'>"
      ]
     },
     "execution_count": 11,
     "metadata": {},
     "output_type": "execute_result"
    }
   ],
   "source": [
    "re.search('\\d','12345g5896')"
   ]
  },
  {
   "cell_type": "code",
   "execution_count": 12,
   "id": "5c73d62b",
   "metadata": {},
   "outputs": [
    {
     "data": {
      "text/plain": [
       "<re.Match object; span=(5, 6), match='g'>"
      ]
     },
     "execution_count": 12,
     "metadata": {},
     "output_type": "execute_result"
    }
   ],
   "source": [
    "re.search('\\D','12345g5896')"
   ]
  },
  {
   "cell_type": "code",
   "execution_count": 14,
   "id": "45520f6e",
   "metadata": {},
   "outputs": [
    {
     "data": {
      "text/plain": [
       "<re.Match object; span=(2, 3), match='\\t'>"
      ]
     },
     "execution_count": 14,
     "metadata": {},
     "output_type": "execute_result"
    }
   ],
   "source": [
    "re.search('\\s',' as\\t\\nas')"
   ]
  },
  {
   "cell_type": "code",
   "execution_count": 15,
   "id": "d26fe755",
   "metadata": {},
   "outputs": [
    {
     "data": {
      "text/plain": [
       "<re.Match object; span=(1, 2), match='a'>"
      ]
     },
     "execution_count": 15,
     "metadata": {},
     "output_type": "execute_result"
    }
   ],
   "source": [
    "re.search('\\S',' a s\\t\\nas')"
   ]
  },
  {
   "cell_type": "markdown",
   "id": "0e3829a2",
   "metadata": {},
   "source": [
    "# O O P S"
   ]
  },
  {
   "cell_type": "code",
   "execution_count": 16,
   "id": "f177cfdf",
   "metadata": {},
   "outputs": [],
   "source": [
    "JACK_INTRO={\n",
    "    \"name\":{\n",
    "        \"firstName\":\"Jack\",\n",
    "        \"lastName\":\"Reacher\",\n",
    "    },\n",
    "    \"Address\":{\n",
    "        \"Street\":\"BVD 230\",\n",
    "        \"Flat\":\"303\",\n",
    "        \"Floor\":\"18th floor\"\n",
    "    },\n",
    "    \"Income\":{\n",
    "        \"Passive\":\"100000\",\n",
    "        \"Active\":\"300000\",\n",
    "    },\n",
    "    \"Age\":30,\n",
    "    \"Qualification\":{\n",
    "        \"School\":\"Cambridge\",\n",
    "        \"Graduate\":\"Yale\"\n",
    "    }\n",
    "}"
   ]
  },
  {
   "cell_type": "code",
   "execution_count": 30,
   "id": "5d80b5c8",
   "metadata": {},
   "outputs": [],
   "source": [
    "class introductionFromJsonFile:\n",
    "    def __init__(self,json_dict):\n",
    "        self.json_dict=json_dict\n",
    "    \n",
    "    def introduceMe(self):\n",
    "        return f\"{self.json_dict.get('name').get('lastName')}\""
   ]
  },
  {
   "cell_type": "code",
   "execution_count": 31,
   "id": "3dc4d1de",
   "metadata": {},
   "outputs": [],
   "source": [
    "jack=introductionFromJsonFile(JACK_INTRO)"
   ]
  },
  {
   "cell_type": "code",
   "execution_count": 32,
   "id": "87a22e60",
   "metadata": {},
   "outputs": [
    {
     "data": {
      "text/plain": [
       "'Reacher'"
      ]
     },
     "execution_count": 32,
     "metadata": {},
     "output_type": "execute_result"
    }
   ],
   "source": [
    "jack.introduceMe()"
   ]
  },
  {
   "cell_type": "code",
   "execution_count": 56,
   "id": "34b15e0d",
   "metadata": {},
   "outputs": [],
   "source": [
    "class introductionFromJsonFile:\n",
    "    def __init__(self,json_dict):\n",
    "        self.json_dict=json_dict\n",
    "    \n",
    "    def introduceMe(self):\n",
    "        fullName=f\"{self.json_dict.get('name').get('firstName')} {self.json_dict.get('name').get('lastName')}\"\n",
    "        \n",
    "        fullAddress=f\"{self.json_dict.get('Address').get('Street')} {self.json_dict.get('Address').get('Flat')} {self.json_dict.get('Address').get('Floor')}\"\n",
    "        \n",
    "        income=(int(self.json_dict.get('Income').get('Passive')))+(self.json_dict.get('Income').get('Active'))\n",
    "        \n",
    "        age=f\"{self.json_dict.get('Age')}\"\n",
    "        \n",
    "        qualification=f\"{self.json_dict.get('Qualification').get('Graduate','Not Applicable')}\"\n",
    "        \n",
    "        return f'My name is {fullName}, i m a {age} year old,My income is {income} i have {qualification} degree and stays in {fullAddress}'"
   ]
  },
  {
   "cell_type": "code",
   "execution_count": 57,
   "id": "17dbcdc2",
   "metadata": {},
   "outputs": [],
   "source": [
    "jack=introductionFromJsonFile(JACK_INTRO)"
   ]
  },
  {
   "cell_type": "code",
   "execution_count": 58,
   "id": "2859eabf",
   "metadata": {},
   "outputs": [
    {
     "data": {
      "text/plain": [
       "'My name is Jack Reacher, i m a 30 year old,My income is 100000300000 i have Yale degree and stays in BVD 230 303 18th floor'"
      ]
     },
     "execution_count": 58,
     "metadata": {},
     "output_type": "execute_result"
    }
   ],
   "source": [
    "jack.introduceMe()"
   ]
  },
  {
   "cell_type": "code",
   "execution_count": null,
   "id": "d428da4f",
   "metadata": {},
   "outputs": [],
   "source": []
  }
 ],
 "metadata": {
  "kernelspec": {
   "display_name": "Python 3",
   "language": "python",
   "name": "python3"
  },
  "language_info": {
   "codemirror_mode": {
    "name": "ipython",
    "version": 3
   },
   "file_extension": ".py",
   "mimetype": "text/x-python",
   "name": "python",
   "nbconvert_exporter": "python",
   "pygments_lexer": "ipython3",
   "version": "3.9.1"
  }
 },
 "nbformat": 4,
 "nbformat_minor": 5
}
