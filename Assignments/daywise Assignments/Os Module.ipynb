{
 "cells": [
  {
   "cell_type": "markdown",
   "id": "e56ea126",
   "metadata": {},
   "source": [
    "# <font color='#0060bf'>Function</str>"
   ]
  },
  {
   "cell_type": "code",
   "execution_count": 1,
   "id": "cc403fa8",
   "metadata": {},
   "outputs": [],
   "source": [
    "def mobile():\n",
    "    print('Hello,There!')"
   ]
  },
  {
   "cell_type": "code",
   "execution_count": 2,
   "id": "258232f6",
   "metadata": {},
   "outputs": [
    {
     "name": "stdout",
     "output_type": "stream",
     "text": [
      "Hello,There!\n"
     ]
    }
   ],
   "source": [
    "mobile()"
   ]
  },
  {
   "cell_type": "code",
   "execution_count": 3,
   "id": "2c70d7df",
   "metadata": {},
   "outputs": [],
   "source": [
    "def mobile(voice):\n",
    "    if voice=='nana':\n",
    "        print('Its nana')\n",
    "    else:\n",
    "        print('Not Recognized')"
   ]
  },
  {
   "cell_type": "code",
   "execution_count": 6,
   "id": "15157f22",
   "metadata": {},
   "outputs": [
    {
     "name": "stdout",
     "output_type": "stream",
     "text": [
      "Not Recognized\n"
     ]
    }
   ],
   "source": [
    "mobile('ashwin')"
   ]
  },
  {
   "cell_type": "code",
   "execution_count": 8,
   "id": "c438b25f",
   "metadata": {},
   "outputs": [
    {
     "name": "stdout",
     "output_type": "stream",
     "text": [
      "nana\n",
      "Its nana\n"
     ]
    }
   ],
   "source": [
    "mobile(input())"
   ]
  },
  {
   "cell_type": "code",
   "execution_count": 20,
   "id": "f0816351",
   "metadata": {},
   "outputs": [],
   "source": [
    "def count(number):\n",
    "    return(list(range(number+1)))"
   ]
  },
  {
   "cell_type": "code",
   "execution_count": 24,
   "id": "302c51c8",
   "metadata": {},
   "outputs": [
    {
     "data": {
      "text/plain": [
       "[0, 1, 2, 3, 4, 5, 6, 7, 8, 9, 10]"
      ]
     },
     "execution_count": 24,
     "metadata": {},
     "output_type": "execute_result"
    }
   ],
   "source": [
    "count(10)"
   ]
  },
  {
   "cell_type": "code",
   "execution_count": 26,
   "id": "b45d7b04",
   "metadata": {},
   "outputs": [],
   "source": [
    "def intro(firstName,lastName,age):\n",
    "    print(f\"Hey its {firstName} {lastName},i'm {age} year old\")\n",
    "    "
   ]
  },
  {
   "cell_type": "code",
   "execution_count": 27,
   "id": "c2070166",
   "metadata": {},
   "outputs": [
    {
     "name": "stdout",
     "output_type": "stream",
     "text": [
      "Hey its ashwin Mandaokar,i'm 26 year old\n"
     ]
    }
   ],
   "source": [
    "intro('ashwin','Mandaokar',26)"
   ]
  },
  {
   "cell_type": "code",
   "execution_count": 28,
   "id": "6692de95",
   "metadata": {},
   "outputs": [],
   "source": [
    "firstName=['ashwin','geeta','meet']\n",
    "lastName=['mandaokar','godi','singh']\n",
    "\n",
    "age=[26,22,23]"
   ]
  },
  {
   "cell_type": "code",
   "execution_count": 30,
   "id": "8d1efbbc",
   "metadata": {},
   "outputs": [
    {
     "name": "stdout",
     "output_type": "stream",
     "text": [
      "Hey its ashwin mandaokar,i'm 26 year old\n",
      "Hey its geeta godi,i'm 22 year old\n",
      "Hey its meet singh,i'm 23 year old\n"
     ]
    }
   ],
   "source": [
    "for f,l,a in zip(firstName,lastName,age):\n",
    "#     print(f,l,a)\n",
    "    intro(f,l,a)"
   ]
  },
  {
   "cell_type": "code",
   "execution_count": 34,
   "id": "4668498a",
   "metadata": {},
   "outputs": [
    {
     "name": "stdout",
     "output_type": "stream",
     "text": [
      "ashwin 26 mandaokar\n",
      "ashwin 22 mandaokar\n",
      "ashwin 23 mandaokar\n",
      "ashwin 26 godi\n",
      "ashwin 22 godi\n",
      "ashwin 23 godi\n",
      "ashwin 26 singh\n",
      "ashwin 22 singh\n",
      "ashwin 23 singh\n",
      "geeta 26 mandaokar\n",
      "geeta 22 mandaokar\n",
      "geeta 23 mandaokar\n",
      "geeta 26 godi\n",
      "geeta 22 godi\n",
      "geeta 23 godi\n",
      "geeta 26 singh\n",
      "geeta 22 singh\n",
      "geeta 23 singh\n",
      "meet 26 mandaokar\n",
      "meet 22 mandaokar\n",
      "meet 23 mandaokar\n",
      "meet 26 godi\n",
      "meet 22 godi\n",
      "meet 23 godi\n",
      "meet 26 singh\n",
      "meet 22 singh\n",
      "meet 23 singh\n"
     ]
    }
   ],
   "source": [
    "# This Not work\n",
    "for f in firstName:\n",
    "    for l in lastName:\n",
    "        for a in age:\n",
    "            print(f,l,a)"
   ]
  },
  {
   "cell_type": "code",
   "execution_count": 41,
   "id": "e74b83b4",
   "metadata": {},
   "outputs": [],
   "source": [
    "def cal_sum(num1,num2):\n",
    "    return(num1+num2)"
   ]
  },
  {
   "cell_type": "code",
   "execution_count": 42,
   "id": "c0260711",
   "metadata": {},
   "outputs": [
    {
     "data": {
      "text/plain": [
       "94"
      ]
     },
     "execution_count": 42,
     "metadata": {},
     "output_type": "execute_result"
    }
   ],
   "source": [
    "cal_sum(22,25)*2\n"
   ]
  },
  {
   "cell_type": "code",
   "execution_count": 43,
   "id": "8b31030d",
   "metadata": {},
   "outputs": [],
   "source": [
    "def sqrt_of_number(n):\n",
    "    return n**0.5"
   ]
  },
  {
   "cell_type": "code",
   "execution_count": 47,
   "id": "95114f67",
   "metadata": {},
   "outputs": [],
   "source": [
    "a=sqrt_of_number(int(25))"
   ]
  },
  {
   "cell_type": "code",
   "execution_count": 48,
   "id": "c6c0688d",
   "metadata": {},
   "outputs": [
    {
     "data": {
      "text/plain": [
       "5"
      ]
     },
     "execution_count": 48,
     "metadata": {},
     "output_type": "execute_result"
    }
   ],
   "source": [
    "int(a)"
   ]
  },
  {
   "cell_type": "code",
   "execution_count": 49,
   "id": "6240bb75",
   "metadata": {},
   "outputs": [],
   "source": [
    "num=[1,2,3,4,5,6,7,8]"
   ]
  },
  {
   "cell_type": "code",
   "execution_count": 58,
   "id": "65585bf5",
   "metadata": {},
   "outputs": [
    {
     "name": "stdout",
     "output_type": "stream",
     "text": [
      "1.0\n",
      "1.4142135623730951\n",
      "1.7320508075688772\n",
      "2.0\n",
      "2.23606797749979\n",
      "2.449489742783178\n",
      "2.6457513110645907\n",
      "2.8284271247461903\n"
     ]
    }
   ],
   "source": [
    "for i in num:\n",
    "    print(sqrt_of_number(i))"
   ]
  },
  {
   "cell_type": "code",
   "execution_count": 57,
   "id": "37d513c0",
   "metadata": {},
   "outputs": [
    {
     "data": {
      "text/plain": [
       "2.8284271247461903"
      ]
     },
     "execution_count": 57,
     "metadata": {},
     "output_type": "execute_result"
    }
   ],
   "source": [
    "d"
   ]
  },
  {
   "cell_type": "code",
   "execution_count": 60,
   "id": "9d74590c",
   "metadata": {},
   "outputs": [],
   "source": [
    "def sum_of_list(n):\n",
    "    print(sum(n)) #this is not accepetable by company"
   ]
  },
  {
   "cell_type": "code",
   "execution_count": 79,
   "id": "86ce962b",
   "metadata": {},
   "outputs": [],
   "source": [
    "a=[1,2,3,4,5]"
   ]
  },
  {
   "cell_type": "code",
   "execution_count": 65,
   "id": "6a5e1530",
   "metadata": {},
   "outputs": [
    {
     "name": "stdout",
     "output_type": "stream",
     "text": [
      "15\n"
     ]
    }
   ],
   "source": [
    "sum_of_list(a)"
   ]
  },
  {
   "cell_type": "code",
   "execution_count": 87,
   "id": "36f83013",
   "metadata": {},
   "outputs": [],
   "source": [
    "def sum_of_list(n):\n",
    "    for i in n:\n",
    "        total=0\n",
    "        total+=i\n",
    "    return total#Error"
   ]
  },
  {
   "cell_type": "code",
   "execution_count": 88,
   "id": "a76c2c4b",
   "metadata": {},
   "outputs": [
    {
     "data": {
      "text/plain": [
       "5"
      ]
     },
     "execution_count": 88,
     "metadata": {},
     "output_type": "execute_result"
    }
   ],
   "source": [
    "sum_of_list(a)"
   ]
  },
  {
   "cell_type": "code",
   "execution_count": 89,
   "id": "c9269f5f",
   "metadata": {},
   "outputs": [],
   "source": [
    "def sum_of_list(n):\n",
    "    total=0\n",
    "    for i in n:\n",
    "        total+=i\n",
    "    return total#Error"
   ]
  },
  {
   "cell_type": "code",
   "execution_count": 90,
   "id": "4c045028",
   "metadata": {},
   "outputs": [
    {
     "data": {
      "text/plain": [
       "15"
      ]
     },
     "execution_count": 90,
     "metadata": {},
     "output_type": "execute_result"
    }
   ],
   "source": [
    "sum_of_list(a)"
   ]
  },
  {
   "cell_type": "markdown",
   "id": "c7c493c3",
   "metadata": {},
   "source": [
    " ### recursion"
   ]
  },
  {
   "cell_type": "raw",
   "id": "c5608bef",
   "metadata": {},
   "source": [
    "#2 rules for recursion:\n",
    "1)have a break point\n",
    "2)shouldn't call function with same input"
   ]
  },
  {
   "cell_type": "raw",
   "id": "0466301e",
   "metadata": {},
   "source": [
    "factorial of 5:\n",
    "    5=5*4*3*2*1\n",
    "    120"
   ]
  },
  {
   "cell_type": "code",
   "execution_count": 18,
   "id": "2b3f1d4a",
   "metadata": {},
   "outputs": [],
   "source": [
    "def factorial(n):\n",
    "    if n==1 or n==2:\n",
    "        return n\n",
    "    return n*factorial(n-1)"
   ]
  },
  {
   "cell_type": "code",
   "execution_count": 19,
   "id": "444ad281",
   "metadata": {},
   "outputs": [
    {
     "data": {
      "text/plain": [
       "120"
      ]
     },
     "execution_count": 19,
     "metadata": {},
     "output_type": "execute_result"
    }
   ],
   "source": [
    "factorial(5)"
   ]
  },
  {
   "cell_type": "markdown",
   "id": "e00f1aef",
   "metadata": {},
   "source": [
    "# <font color='#690C22'>Os Module</str>"
   ]
  },
  {
   "cell_type": "code",
   "execution_count": 45,
   "id": "9b2cd8e5",
   "metadata": {},
   "outputs": [],
   "source": [
    "import os\n",
    "import sys"
   ]
  },
  {
   "cell_type": "code",
   "execution_count": 8,
   "id": "56cd6e27",
   "metadata": {},
   "outputs": [
    {
     "data": {
      "text/plain": [
       "'C:\\\\Users\\\\A_MAN\\\\Desktop\\\\Python & Django Full stack'"
      ]
     },
     "execution_count": 8,
     "metadata": {},
     "output_type": "execute_result"
    }
   ],
   "source": [
    "os.getcwd() #Current Working Directory"
   ]
  },
  {
   "cell_type": "code",
   "execution_count": 14,
   "id": "b7506efe",
   "metadata": {},
   "outputs": [],
   "source": [
    "os.chdir('C:\\\\Users\\\\A_MAN\\\\Desktop\\\\') # change directory"
   ]
  },
  {
   "cell_type": "code",
   "execution_count": 10,
   "id": "a67027a7",
   "metadata": {},
   "outputs": [
    {
     "data": {
      "text/plain": [
       "'C:\\\\Users\\\\A_MAN\\\\Desktop'"
      ]
     },
     "execution_count": 10,
     "metadata": {},
     "output_type": "execute_result"
    }
   ],
   "source": [
    "os.getcwd()"
   ]
  },
  {
   "cell_type": "code",
   "execution_count": 15,
   "id": "2a9f5c06",
   "metadata": {},
   "outputs": [
    {
     "data": {
      "text/plain": [
       "True"
      ]
     },
     "execution_count": 15,
     "metadata": {},
     "output_type": "execute_result"
    }
   ],
   "source": [
    "os.path.exists('C:\\\\Users\\\\A_MAN\\\\Desktop\\\\Python & Django Full stack\\\\') #check path is exist or not"
   ]
  },
  {
   "cell_type": "code",
   "execution_count": 20,
   "id": "7e612c2f",
   "metadata": {},
   "outputs": [
    {
     "data": {
      "text/plain": [
       "'C:\\\\Users\\\\A_MAN\\\\Desktop\\\\Python & Django Full stack\\\\Users\\\\A_MAN\\\\Desktop\\\\Github clone projects'"
      ]
     },
     "execution_count": 20,
     "metadata": {},
     "output_type": "execute_result"
    }
   ],
   "source": [
    "os.path.join()#method in Python join one or more path components intelligently. \n",
    "# This method concatenates various path components with exactly one directory separator (‘/’) \n",
    "# following each non-empty part except the last path component.\n",
    "# If the last path component to be joined is empty then a directory seperator (‘/’) is put at the end.\n",
    "# If a path component represents an absolute path, then all previous components joined are discarded \n",
    "# and joining continues from the absolute path component."
   ]
  },
  {
   "cell_type": "code",
   "execution_count": 21,
   "id": "7e6e257e",
   "metadata": {},
   "outputs": [
    {
     "data": {
      "text/plain": [
       "False"
      ]
     },
     "execution_count": 21,
     "metadata": {},
     "output_type": "execute_result"
    }
   ],
   "source": [
    "os.path.exists('C:\\\\Users\\\\A_MAN\\\\Desktop\\\\Python & Django Full stack\\\\Users\\\\A_MAN\\\\Desktop\\\\Github clone projects')"
   ]
  },
  {
   "cell_type": "code",
   "execution_count": 22,
   "id": "5d5e0af3",
   "metadata": {},
   "outputs": [],
   "source": [
    "# os.path (common pathname manipulation.)"
   ]
  },
  {
   "cell_type": "code",
   "execution_count": 23,
   "id": "f7eecf37",
   "metadata": {},
   "outputs": [
    {
     "data": {
      "text/plain": [
       "('C:\\\\Users\\\\A_MAN\\\\Desktop\\\\Python & Django Full stack\\\\Users\\\\A_MAN\\\\Desktop',\n",
       " 'Github clone projects')"
      ]
     },
     "execution_count": 23,
     "metadata": {},
     "output_type": "execute_result"
    }
   ],
   "source": [
    "os.path.split('C:\\\\Users\\\\A_MAN\\\\Desktop\\\\Python & Django Full stack\\\\Users\\\\A_MAN\\\\Desktop\\\\Github clone projects')"
   ]
  },
  {
   "cell_type": "code",
   "execution_count": 24,
   "id": "0d535ca7",
   "metadata": {},
   "outputs": [
    {
     "data": {
      "text/plain": [
       "('C:\\\\Users\\\\A_MAN\\\\Desktop\\\\Python & Django Full stack\\\\Users\\\\A_MAN\\\\Desktop',\n",
       " '')"
      ]
     },
     "execution_count": 24,
     "metadata": {},
     "output_type": "execute_result"
    }
   ],
   "source": [
    "os.path.split('C:\\\\Users\\\\A_MAN\\\\Desktop\\\\Python & Django Full stack\\\\Users\\\\A_MAN\\\\Desktop\\\\')"
   ]
  },
  {
   "cell_type": "code",
   "execution_count": 25,
   "id": "95fc145a",
   "metadata": {},
   "outputs": [],
   "source": [
    "# os.path.split()method in Python is used to Split the path name into a pair head and tail. \n",
    "# Here, tail is the last path name component and head is everything leading up to that."
   ]
  },
  {
   "cell_type": "code",
   "execution_count": 27,
   "id": "3751a374",
   "metadata": {},
   "outputs": [],
   "source": [
    "os.mkdir('C:\\\\Users\\\\A_MAN\\\\Desktop\\\\Python & Django Full stack\\\\1')"
   ]
  },
  {
   "cell_type": "code",
   "execution_count": 30,
   "id": "5cd3adff",
   "metadata": {},
   "outputs": [
    {
     "data": {
      "text/plain": [
       "'C:\\\\Users\\\\A_MAN\\\\Desktop\\\\Python & Django Full stack'"
      ]
     },
     "execution_count": 30,
     "metadata": {},
     "output_type": "execute_result"
    }
   ],
   "source": [
    "os.getcwd()"
   ]
  },
  {
   "cell_type": "code",
   "execution_count": 29,
   "id": "151b67b4",
   "metadata": {},
   "outputs": [],
   "source": [
    "os.chdir('C:\\\\Users\\\\A_MAN\\\\Desktop\\\\Python & Django Full stack')"
   ]
  },
  {
   "cell_type": "code",
   "execution_count": 31,
   "id": "5815ee5b",
   "metadata": {},
   "outputs": [],
   "source": [
    "os.rmdir('C:\\\\Users\\\\A_MAN\\\\Desktop\\\\Python & Django Full stack\\\\1')"
   ]
  },
  {
   "cell_type": "code",
   "execution_count": 33,
   "id": "2ea40784",
   "metadata": {},
   "outputs": [
    {
     "ename": "FileNotFoundError",
     "evalue": "[WinError 2] The system cannot find the file specified: 'C:\\\\Users\\\\A_MAN\\\\Desktop\\\\Python & Django Full stack\\\\New Text Document.txt'",
     "output_type": "error",
     "traceback": [
      "\u001b[1;31m---------------------------------------------------------------------------\u001b[0m",
      "\u001b[1;31mFileNotFoundError\u001b[0m                         Traceback (most recent call last)",
      "\u001b[1;32m<ipython-input-33-d99c54d31f1d>\u001b[0m in \u001b[0;36m<module>\u001b[1;34m\u001b[0m\n\u001b[1;32m----> 1\u001b[1;33m \u001b[0mos\u001b[0m\u001b[1;33m.\u001b[0m\u001b[0mremove\u001b[0m\u001b[1;33m(\u001b[0m\u001b[1;34m'C:\\\\Users\\\\A_MAN\\\\Desktop\\\\Python & Django Full stack\\\\New Text Document.txt'\u001b[0m\u001b[1;33m)\u001b[0m\u001b[1;33m\u001b[0m\u001b[1;33m\u001b[0m\u001b[0m\n\u001b[0m",
      "\u001b[1;31mFileNotFoundError\u001b[0m: [WinError 2] The system cannot find the file specified: 'C:\\\\Users\\\\A_MAN\\\\Desktop\\\\Python & Django Full stack\\\\New Text Document.txt'"
     ]
    }
   ],
   "source": [
    "os.remove('C:\\\\Users\\\\A_MAN\\\\Desktop\\\\Python & Django Full stack\\\\New Text Document.txt')"
   ]
  },
  {
   "cell_type": "code",
   "execution_count": 34,
   "id": "5644e600",
   "metadata": {},
   "outputs": [],
   "source": [
    "os.rename('C:\\\\Users\\\\A_MAN\\\\Desktop\\\\Python & Django Full stack\\\\Untitled.ipynb','C:\\\\Users\\\\A_MAN\\\\Desktop\\\\Python & Django Full stack\\\\assignment.ipynb')"
   ]
  },
  {
   "cell_type": "code",
   "execution_count": 37,
   "id": "839d5cbc",
   "metadata": {},
   "outputs": [],
   "source": [
    "# os.access('C:\\\\Users\\\\A_MAN\\\\Desktop\\\\Python & Django Full stack\\\\Asking Smart Programming Questions.docx')"
   ]
  },
  {
   "cell_type": "code",
   "execution_count": 39,
   "id": "cf79f301",
   "metadata": {},
   "outputs": [
    {
     "data": {
      "text/plain": [
       "10856"
      ]
     },
     "execution_count": 39,
     "metadata": {},
     "output_type": "execute_result"
    }
   ],
   "source": [
    "os.getpid()"
   ]
  },
  {
   "cell_type": "code",
   "execution_count": 40,
   "id": "772a79cf",
   "metadata": {},
   "outputs": [
    {
     "ename": "AttributeError",
     "evalue": "module 'os' has no attribute 'getgid'",
     "output_type": "error",
     "traceback": [
      "\u001b[1;31m---------------------------------------------------------------------------\u001b[0m",
      "\u001b[1;31mAttributeError\u001b[0m                            Traceback (most recent call last)",
      "\u001b[1;32m<ipython-input-40-f45ffe06acf0>\u001b[0m in \u001b[0;36m<module>\u001b[1;34m\u001b[0m\n\u001b[1;32m----> 1\u001b[1;33m \u001b[0mos\u001b[0m\u001b[1;33m.\u001b[0m\u001b[0mgetgid\u001b[0m\u001b[1;33m(\u001b[0m\u001b[1;33m)\u001b[0m\u001b[1;33m\u001b[0m\u001b[1;33m\u001b[0m\u001b[0m\n\u001b[0m",
      "\u001b[1;31mAttributeError\u001b[0m: module 'os' has no attribute 'getgid'"
     ]
    }
   ],
   "source": [
    "os.getgid()"
   ]
  },
  {
   "cell_type": "code",
   "execution_count": 49,
   "id": "9264786a",
   "metadata": {},
   "outputs": [],
   "source": [
    "# os.uname()#this only used in wsl2 the subset of unix"
   ]
  },
  {
   "cell_type": "code",
   "execution_count": 52,
   "id": "0011d2ce",
   "metadata": {},
   "outputs": [
    {
     "data": {
      "text/plain": [
       "0.00054931640625"
      ]
     },
     "execution_count": 52,
     "metadata": {},
     "output_type": "execute_result"
    }
   ],
   "source": [
    "os.path.getsize('C:\\\\Users\\\\A_MAN\\\\Desktop\\\\Python & Django Full stack\\\\assignment.ipynb')/1024/1024"
   ]
  },
  {
   "cell_type": "code",
   "execution_count": 54,
   "id": "c033bd1b",
   "metadata": {},
   "outputs": [
    {
     "data": {
      "text/plain": [
       "os.stat_result(st_mode=33206, st_ino=21392098230014780, st_dev=2488476337, st_nlink=1, st_uid=0, st_gid=0, st_size=576, st_atime=1622356624, st_mtime=1622356624, st_ctime=1622356501)"
      ]
     },
     "execution_count": 54,
     "metadata": {},
     "output_type": "execute_result"
    }
   ],
   "source": [
    "os.stat('C:\\\\Users\\\\A_MAN\\\\Desktop\\\\Python & Django Full stack\\\\assignment.ipynb')"
   ]
  },
  {
   "cell_type": "code",
   "execution_count": 55,
   "id": "7a47fd37",
   "metadata": {},
   "outputs": [],
   "source": [
    "m_time=1622356624"
   ]
  },
  {
   "cell_type": "code",
   "execution_count": 56,
   "id": "59d734fe",
   "metadata": {},
   "outputs": [],
   "source": [
    "import time"
   ]
  },
  {
   "cell_type": "code",
   "execution_count": 57,
   "id": "18d83805",
   "metadata": {},
   "outputs": [
    {
     "name": "stdout",
     "output_type": "stream",
     "text": [
      "Sun May 30 12:07:04 2021\n"
     ]
    }
   ],
   "source": [
    "print(time.ctime(m_time))"
   ]
  },
  {
   "cell_type": "code",
   "execution_count": null,
   "id": "083d8f70",
   "metadata": {},
   "outputs": [],
   "source": []
  }
 ],
 "metadata": {
  "kernelspec": {
   "display_name": "Python 3",
   "language": "python",
   "name": "python3"
  },
  "language_info": {
   "codemirror_mode": {
    "name": "ipython",
    "version": 3
   },
   "file_extension": ".py",
   "mimetype": "text/x-python",
   "name": "python",
   "nbconvert_exporter": "python",
   "pygments_lexer": "ipython3",
   "version": "3.9.1"
  }
 },
 "nbformat": 4,
 "nbformat_minor": 5
}
