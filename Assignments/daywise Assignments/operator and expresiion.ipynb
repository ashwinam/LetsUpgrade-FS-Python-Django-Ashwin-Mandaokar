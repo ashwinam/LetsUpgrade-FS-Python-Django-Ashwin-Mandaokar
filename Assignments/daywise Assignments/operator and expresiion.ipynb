{
 "cells": [
  {
   "cell_type": "markdown",
   "id": "016db8d2",
   "metadata": {},
   "source": [
    "# Operator's and Expression"
   ]
  },
  {
   "cell_type": "code",
   "execution_count": 23,
   "id": "0949660c",
   "metadata": {},
   "outputs": [
    {
     "name": "stdout",
     "output_type": "stream",
     "text": [
      "5\n"
     ]
    }
   ],
   "source": [
    "#Unary AND Bibary Operator's\n",
    "a=5\n",
    "+a\n",
    "print(a) # this is a unary operator"
   ]
  },
  {
   "cell_type": "code",
   "execution_count": 8,
   "id": "279c5a71",
   "metadata": {},
   "outputs": [
    {
     "name": "stdout",
     "output_type": "stream",
     "text": [
      "6\n"
     ]
    }
   ],
   "source": [
    "a=5\n",
    "a=a+1\n",
    "print(a)#this is a binary operator"
   ]
  },
  {
   "cell_type": "code",
   "execution_count": 26,
   "id": "718f9994",
   "metadata": {},
   "outputs": [],
   "source": [
    "a=11\n",
    "b=5\n",
    "print(a+b)\n",
    "print('the subtraction of a&b is %s'%(a-b))\n",
    "print(f'the multiplication of {a} & {b} is {a*b}')\n",
    "print(\"The Division of A & B is {}\".format(a/b))\n",
    "# print(\"The floor division of a & b is\"+\" \"+str(int(a//b)))\n",
    "print(\"The floor division of a & b is\"+\" \"+str(a//b))\n",
    "print(a**b)\n",
    "print(a**2)"
   ]
  },
  {
   "cell_type": "code",
   "execution_count": 27,
   "id": "99ad95c7",
   "metadata": {},
   "outputs": [
    {
     "data": {
      "text/plain": [
       "False"
      ]
     },
     "execution_count": 27,
     "metadata": {},
     "output_type": "execute_result"
    }
   ],
   "source": [
    "#comparison operator\n",
    "a==b\n",
    "a==11 #equal to\n",
    "\n",
    "a!=b #Not equal to\n",
    "\n",
    "a>b #greater than\n",
    "\n",
    "a>=b #greater than equal to\n",
    "\n",
    "a<b  #less than\n",
    "\n",
    "a<=b #less than equal to\n",
    "\n",
    "b>a #greater than\n",
    "\n",
    "b>=a #greater than equal to\n",
    "\n",
    "b<a #less than\n",
    "\n",
    "b<=a #less than equal to\n",
    "\n",
    "a!=b #not equal to"
   ]
  },
  {
   "cell_type": "code",
   "execution_count": 32,
   "id": "1cc505ab",
   "metadata": {},
   "outputs": [
    {
     "data": {
      "text/plain": [
       "True"
      ]
     },
     "execution_count": 32,
     "metadata": {},
     "output_type": "execute_result"
    }
   ],
   "source": [
    "#Logical Operator\n",
    "(a==b)and(b==a)\n",
    "(a>=b)and(b<=a)"
   ]
  },
  {
   "cell_type": "code",
   "execution_count": 30,
   "id": "8ea19a9b",
   "metadata": {},
   "outputs": [
    {
     "data": {
      "text/plain": [
       "True"
      ]
     },
     "execution_count": 30,
     "metadata": {},
     "output_type": "execute_result"
    }
   ],
   "source": [
    "(a>=b)or(b>=a)"
   ]
  },
  {
   "cell_type": "code",
   "execution_count": 33,
   "id": "fc15467d",
   "metadata": {},
   "outputs": [
    {
     "data": {
      "text/plain": [
       "True"
      ]
     },
     "execution_count": 33,
     "metadata": {},
     "output_type": "execute_result"
    }
   ],
   "source": [
    "not (a==b)"
   ]
  },
  {
   "cell_type": "code",
   "execution_count": 34,
   "id": "1eeb248a",
   "metadata": {},
   "outputs": [
    {
     "data": {
      "text/plain": [
       "False"
      ]
     },
     "execution_count": 34,
     "metadata": {},
     "output_type": "execute_result"
    }
   ],
   "source": [
    "not True\n"
   ]
  },
  {
   "cell_type": "code",
   "execution_count": 35,
   "id": "934f320b",
   "metadata": {},
   "outputs": [
    {
     "data": {
      "text/plain": [
       "True"
      ]
     },
     "execution_count": 35,
     "metadata": {},
     "output_type": "execute_result"
    }
   ],
   "source": [
    "not False\n",
    "\n"
   ]
  },
  {
   "cell_type": "code",
   "execution_count": 36,
   "id": "dc59bed6",
   "metadata": {},
   "outputs": [
    {
     "data": {
      "text/plain": [
       "True"
      ]
     },
     "execution_count": 36,
     "metadata": {},
     "output_type": "execute_result"
    }
   ],
   "source": [
    "not not True"
   ]
  },
  {
   "cell_type": "code",
   "execution_count": 37,
   "id": "3fcf5dd3",
   "metadata": {},
   "outputs": [
    {
     "data": {
      "text/plain": [
       "False"
      ]
     },
     "execution_count": 37,
     "metadata": {},
     "output_type": "execute_result"
    }
   ],
   "source": [
    "not not False"
   ]
  },
  {
   "cell_type": "code",
   "execution_count": null,
   "id": "4c9e826b",
   "metadata": {},
   "outputs": [],
   "source": []
  }
 ],
 "metadata": {
  "kernelspec": {
   "display_name": "Python 3",
   "language": "python",
   "name": "python3"
  },
  "language_info": {
   "codemirror_mode": {
    "name": "ipython",
    "version": 3
   },
   "file_extension": ".py",
   "mimetype": "text/x-python",
   "name": "python",
   "nbconvert_exporter": "python",
   "pygments_lexer": "ipython3",
   "version": "3.9.1"
  }
 },
 "nbformat": 4,
 "nbformat_minor": 5
}
