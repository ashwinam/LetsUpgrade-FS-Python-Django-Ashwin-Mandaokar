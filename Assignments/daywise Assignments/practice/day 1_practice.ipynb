{
 "cells": [
  {
   "cell_type": "code",
   "execution_count": 3,
   "id": "21c031b4",
   "metadata": {},
   "outputs": [],
   "source": [
    "spam=[1,2,3,4,5,6,7,8,9]"
   ]
  },
  {
   "cell_type": "code",
   "execution_count": 4,
   "id": "0f18dca7",
   "metadata": {},
   "outputs": [
    {
     "data": {
      "text/plain": [
       "[1, 2, 3, 4, 5, 6, 7, 8, 9]"
      ]
     },
     "execution_count": 4,
     "metadata": {},
     "output_type": "execute_result"
    }
   ],
   "source": [
    "spam"
   ]
  },
  {
   "cell_type": "code",
   "execution_count": 5,
   "id": "4dee414c",
   "metadata": {},
   "outputs": [
    {
     "data": {
      "text/plain": [
       "[9, 8, 7, 6, 5, 4, 3, 2, 1]"
      ]
     },
     "execution_count": 5,
     "metadata": {},
     "output_type": "execute_result"
    }
   ],
   "source": [
    "spam[::-1]"
   ]
  },
  {
   "cell_type": "code",
   "execution_count": 1,
   "id": "6b42b595",
   "metadata": {},
   "outputs": [
    {
     "name": "stdout",
     "output_type": "stream",
     "text": [
      "Hello,World!\n"
     ]
    }
   ],
   "source": [
    "print('Hello,World!')"
   ]
  },
  {
   "cell_type": "code",
   "execution_count": 3,
   "id": "f80ca0dc",
   "metadata": {},
   "outputs": [
    {
     "name": "stdout",
     "output_type": "stream",
     "text": [
      "Hello World!\n"
     ]
    }
   ],
   "source": [
    "print('Hello'+' '+'World!')"
   ]
  },
  {
   "cell_type": "code",
   "execution_count": 4,
   "id": "6bdc33b4",
   "metadata": {},
   "outputs": [
    {
     "name": "stdout",
     "output_type": "stream",
     "text": [
      "Hello World!\n"
     ]
    }
   ],
   "source": [
    "print('%s'%('Hello World!'))"
   ]
  },
  {
   "cell_type": "code",
   "execution_count": 6,
   "id": "714bbdb1",
   "metadata": {},
   "outputs": [
    {
     "name": "stdout",
     "output_type": "stream",
     "text": [
      "Hello World!\n"
     ]
    }
   ],
   "source": [
    "print('{}'.format('Hello World!'))"
   ]
  },
  {
   "cell_type": "code",
   "execution_count": 8,
   "id": "beded536",
   "metadata": {},
   "outputs": [
    {
     "name": "stdout",
     "output_type": "stream",
     "text": [
      "Hello World!\n"
     ]
    }
   ],
   "source": [
    "print(f\"Hello World!\")"
   ]
  },
  {
   "cell_type": "code",
   "execution_count": 9,
   "id": "57e425f1",
   "metadata": {},
   "outputs": [],
   "source": [
    "firstName='Ashwin'"
   ]
  },
  {
   "cell_type": "code",
   "execution_count": 10,
   "id": "9c9eb46c",
   "metadata": {},
   "outputs": [],
   "source": [
    "lastName='Mandaokar'"
   ]
  },
  {
   "cell_type": "code",
   "execution_count": 11,
   "id": "afeb6648",
   "metadata": {},
   "outputs": [],
   "source": [
    "age=26"
   ]
  },
  {
   "cell_type": "code",
   "execution_count": 12,
   "id": "d595c3b0",
   "metadata": {},
   "outputs": [],
   "source": [
    "salary =700000"
   ]
  },
  {
   "cell_type": "code",
   "execution_count": 19,
   "id": "add03870",
   "metadata": {},
   "outputs": [
    {
     "name": "stdout",
     "output_type": "stream",
     "text": [
      "My name is Ashwin Mandaokar,I m a 26 Year old,And my per annum package is 700000\n"
     ]
    }
   ],
   "source": [
    "print('My name is'+' '+firstName+' '+lastName+','+'I m a'+' '+str(age)+' '+'Year old,And my per annum package is'+' '+str(salary))"
   ]
  },
  {
   "cell_type": "code",
   "execution_count": 26,
   "id": "c4210e6d",
   "metadata": {},
   "outputs": [
    {
     "name": "stdout",
     "output_type": "stream",
     "text": [
      "My name is Ashwin Mandaokar,I m a 26 year old and my per annum package is 700000.\n"
     ]
    }
   ],
   "source": [
    "print('My name is %s %s,I m a %s year old and my per annum package is %s.'%(firstName,lastName,age,salary))"
   ]
  },
  {
   "cell_type": "code",
   "execution_count": 27,
   "id": "1cf5c63b",
   "metadata": {},
   "outputs": [
    {
     "name": "stdout",
     "output_type": "stream",
     "text": [
      "My name is Ashwin Mandaokar,I m a 26 year old and my per annum package is 700000.\n"
     ]
    }
   ],
   "source": [
    "print('My name is %s %s,I m a %.0f year old and my per annum package is %d.'%(firstName,lastName,age,salary))"
   ]
  },
  {
   "cell_type": "code",
   "execution_count": 29,
   "id": "3aa235a1",
   "metadata": {},
   "outputs": [
    {
     "name": "stdout",
     "output_type": "stream",
     "text": [
      "My name is Ashwin Mandaokar,I m a 26 year old And my per annum package is 700000.\n"
     ]
    }
   ],
   "source": [
    "print('My name is {} {},I m a {} year old And my per annum package is {}.'.format(firstName,lastName,age,salary))"
   ]
  },
  {
   "cell_type": "code",
   "execution_count": 30,
   "id": "35f608aa",
   "metadata": {},
   "outputs": [
    {
     "name": "stdout",
     "output_type": "stream",
     "text": [
      "My name is Ashwin Mandaokar,I m a 26 year old And my per annum package is 700000.\n"
     ]
    }
   ],
   "source": [
    "print('My name is {0} {1},I m a {2} year old And my per annum package is {3}.'.format(firstName,lastName,age,salary))"
   ]
  },
  {
   "cell_type": "code",
   "execution_count": 32,
   "id": "33d790dd",
   "metadata": {},
   "outputs": [
    {
     "name": "stdout",
     "output_type": "stream",
     "text": [
      "My name is Mandaokar 26,I m a Ashwin year old And my per annum package is 700000.\n"
     ]
    }
   ],
   "source": [
    "print('My name is {1} {2},I m a {0} year old And my per annum package is {3}.'.format(firstName,lastName,age,salary))"
   ]
  },
  {
   "cell_type": "code",
   "execution_count": 33,
   "id": "36352098",
   "metadata": {},
   "outputs": [
    {
     "name": "stdout",
     "output_type": "stream",
     "text": [
      "My name is Ashwin Mandaokar,I m a 26 year old and my yearly salary is 700000.\n"
     ]
    }
   ],
   "source": [
    "print(f'My name is {firstName} {lastName},I m a {age} year old and my yearly salary is {salary}.')"
   ]
  },
  {
   "cell_type": "code",
   "execution_count": 34,
   "id": "357c16f9",
   "metadata": {},
   "outputs": [
    {
     "data": {
      "text/plain": [
       "['__add__',\n",
       " '__class__',\n",
       " '__contains__',\n",
       " '__delattr__',\n",
       " '__dir__',\n",
       " '__doc__',\n",
       " '__eq__',\n",
       " '__format__',\n",
       " '__ge__',\n",
       " '__getattribute__',\n",
       " '__getitem__',\n",
       " '__getnewargs__',\n",
       " '__gt__',\n",
       " '__hash__',\n",
       " '__init__',\n",
       " '__init_subclass__',\n",
       " '__iter__',\n",
       " '__le__',\n",
       " '__len__',\n",
       " '__lt__',\n",
       " '__mod__',\n",
       " '__mul__',\n",
       " '__ne__',\n",
       " '__new__',\n",
       " '__reduce__',\n",
       " '__reduce_ex__',\n",
       " '__repr__',\n",
       " '__rmod__',\n",
       " '__rmul__',\n",
       " '__setattr__',\n",
       " '__sizeof__',\n",
       " '__str__',\n",
       " '__subclasshook__',\n",
       " 'capitalize',\n",
       " 'casefold',\n",
       " 'center',\n",
       " 'count',\n",
       " 'encode',\n",
       " 'endswith',\n",
       " 'expandtabs',\n",
       " 'find',\n",
       " 'format',\n",
       " 'format_map',\n",
       " 'index',\n",
       " 'isalnum',\n",
       " 'isalpha',\n",
       " 'isascii',\n",
       " 'isdecimal',\n",
       " 'isdigit',\n",
       " 'isidentifier',\n",
       " 'islower',\n",
       " 'isnumeric',\n",
       " 'isprintable',\n",
       " 'isspace',\n",
       " 'istitle',\n",
       " 'isupper',\n",
       " 'join',\n",
       " 'ljust',\n",
       " 'lower',\n",
       " 'lstrip',\n",
       " 'maketrans',\n",
       " 'partition',\n",
       " 'removeprefix',\n",
       " 'removesuffix',\n",
       " 'replace',\n",
       " 'rfind',\n",
       " 'rindex',\n",
       " 'rjust',\n",
       " 'rpartition',\n",
       " 'rsplit',\n",
       " 'rstrip',\n",
       " 'split',\n",
       " 'splitlines',\n",
       " 'startswith',\n",
       " 'strip',\n",
       " 'swapcase',\n",
       " 'title',\n",
       " 'translate',\n",
       " 'upper',\n",
       " 'zfill']"
      ]
     },
     "execution_count": 34,
     "metadata": {},
     "output_type": "execute_result"
    }
   ],
   "source": [
    "dir(firstName)"
   ]
  },
  {
   "cell_type": "code",
   "execution_count": 36,
   "id": "5ea02962",
   "metadata": {},
   "outputs": [
    {
     "data": {
      "text/plain": [
       "['A', 's', 'h', 'w', 'i', 'n']"
      ]
     },
     "execution_count": 36,
     "metadata": {},
     "output_type": "execute_result"
    }
   ],
   "source": [
    "list(firstName)"
   ]
  },
  {
   "cell_type": "code",
   "execution_count": 38,
   "id": "40d21aa2",
   "metadata": {},
   "outputs": [
    {
     "name": "stdout",
     "output_type": "stream",
     "text": [
      "A\n",
      "s\n",
      "h\n",
      "w\n",
      "i\n",
      "n\n"
     ]
    }
   ],
   "source": [
    "for i in firstName:\n",
    "    print(i)"
   ]
  },
  {
   "cell_type": "code",
   "execution_count": 39,
   "id": "eff36589",
   "metadata": {},
   "outputs": [
    {
     "data": {
      "text/plain": [
       "'Ashwin'"
      ]
     },
     "execution_count": 39,
     "metadata": {},
     "output_type": "execute_result"
    }
   ],
   "source": [
    "firstName"
   ]
  },
  {
   "cell_type": "code",
   "execution_count": 40,
   "id": "074b4c9c",
   "metadata": {},
   "outputs": [
    {
     "data": {
      "text/plain": [
       "'n'"
      ]
     },
     "execution_count": 40,
     "metadata": {},
     "output_type": "execute_result"
    }
   ],
   "source": [
    "i"
   ]
  },
  {
   "cell_type": "code",
   "execution_count": 55,
   "id": "530e8300",
   "metadata": {},
   "outputs": [
    {
     "data": {
      "text/plain": [
       "['Ash', 'n']"
      ]
     },
     "execution_count": 55,
     "metadata": {},
     "output_type": "execute_result"
    }
   ],
   "source": [
    "firstName.split('wi')"
   ]
  },
  {
   "cell_type": "code",
   "execution_count": 57,
   "id": "195c1004",
   "metadata": {},
   "outputs": [
    {
     "data": {
      "text/plain": [
       "'niwhsA'"
      ]
     },
     "execution_count": 57,
     "metadata": {},
     "output_type": "execute_result"
    }
   ],
   "source": [
    "firstName[::-1]"
   ]
  },
  {
   "cell_type": "code",
   "execution_count": 58,
   "id": "edd8f3f4",
   "metadata": {},
   "outputs": [
    {
     "data": {
      "text/plain": [
       "'Ashwin'"
      ]
     },
     "execution_count": 58,
     "metadata": {},
     "output_type": "execute_result"
    }
   ],
   "source": [
    "firstName"
   ]
  },
  {
   "cell_type": "code",
   "execution_count": 59,
   "id": "fe6d3e06",
   "metadata": {},
   "outputs": [
    {
     "ename": "AttributeError",
     "evalue": "'str' object has no attribute 'sort'",
     "output_type": "error",
     "traceback": [
      "\u001b[1;31m---------------------------------------------------------------------------\u001b[0m",
      "\u001b[1;31mAttributeError\u001b[0m                            Traceback (most recent call last)",
      "\u001b[1;32m<ipython-input-59-4728a24629b0>\u001b[0m in \u001b[0;36m<module>\u001b[1;34m\u001b[0m\n\u001b[1;32m----> 1\u001b[1;33m \u001b[0mfirstName\u001b[0m\u001b[1;33m.\u001b[0m\u001b[0msort\u001b[0m\u001b[1;33m(\u001b[0m\u001b[1;33m)\u001b[0m\u001b[1;33m\u001b[0m\u001b[1;33m\u001b[0m\u001b[0m\n\u001b[0m",
      "\u001b[1;31mAttributeError\u001b[0m: 'str' object has no attribute 'sort'"
     ]
    }
   ],
   "source": [
    "firstName.sort()"
   ]
  },
  {
   "cell_type": "code",
   "execution_count": 60,
   "id": "07dd0be7",
   "metadata": {},
   "outputs": [
    {
     "data": {
      "text/plain": [
       "'ASHWIN'"
      ]
     },
     "execution_count": 60,
     "metadata": {},
     "output_type": "execute_result"
    }
   ],
   "source": [
    "firstName.upper()"
   ]
  },
  {
   "cell_type": "code",
   "execution_count": 62,
   "id": "f3276071",
   "metadata": {},
   "outputs": [
    {
     "data": {
      "text/plain": [
       "'ashwin'"
      ]
     },
     "execution_count": 62,
     "metadata": {},
     "output_type": "execute_result"
    }
   ],
   "source": [
    "firstName.lower()"
   ]
  },
  {
   "cell_type": "code",
   "execution_count": 63,
   "id": "1e34e725",
   "metadata": {},
   "outputs": [],
   "source": [
    "item=[]"
   ]
  },
  {
   "cell_type": "code",
   "execution_count": 64,
   "id": "0b49a541",
   "metadata": {},
   "outputs": [
    {
     "data": {
      "text/plain": [
       "list"
      ]
     },
     "execution_count": 64,
     "metadata": {},
     "output_type": "execute_result"
    }
   ],
   "source": [
    "type(item)"
   ]
  },
  {
   "cell_type": "code",
   "execution_count": 65,
   "id": "6f5d892b",
   "metadata": {},
   "outputs": [
    {
     "data": {
      "text/plain": [
       "['__add__',\n",
       " '__class__',\n",
       " '__class_getitem__',\n",
       " '__contains__',\n",
       " '__delattr__',\n",
       " '__delitem__',\n",
       " '__dir__',\n",
       " '__doc__',\n",
       " '__eq__',\n",
       " '__format__',\n",
       " '__ge__',\n",
       " '__getattribute__',\n",
       " '__getitem__',\n",
       " '__gt__',\n",
       " '__hash__',\n",
       " '__iadd__',\n",
       " '__imul__',\n",
       " '__init__',\n",
       " '__init_subclass__',\n",
       " '__iter__',\n",
       " '__le__',\n",
       " '__len__',\n",
       " '__lt__',\n",
       " '__mul__',\n",
       " '__ne__',\n",
       " '__new__',\n",
       " '__reduce__',\n",
       " '__reduce_ex__',\n",
       " '__repr__',\n",
       " '__reversed__',\n",
       " '__rmul__',\n",
       " '__setattr__',\n",
       " '__setitem__',\n",
       " '__sizeof__',\n",
       " '__str__',\n",
       " '__subclasshook__',\n",
       " 'append',\n",
       " 'clear',\n",
       " 'copy',\n",
       " 'count',\n",
       " 'extend',\n",
       " 'index',\n",
       " 'insert',\n",
       " 'pop',\n",
       " 'remove',\n",
       " 'reverse',\n",
       " 'sort']"
      ]
     },
     "execution_count": 65,
     "metadata": {},
     "output_type": "execute_result"
    }
   ],
   "source": [
    "dir(item)"
   ]
  },
  {
   "cell_type": "code",
   "execution_count": 66,
   "id": "461876fa",
   "metadata": {},
   "outputs": [],
   "source": [
    "item.append('mango')"
   ]
  },
  {
   "cell_type": "code",
   "execution_count": 67,
   "id": "b901914e",
   "metadata": {},
   "outputs": [
    {
     "data": {
      "text/plain": [
       "['mango']"
      ]
     },
     "execution_count": 67,
     "metadata": {},
     "output_type": "execute_result"
    }
   ],
   "source": [
    "item"
   ]
  },
  {
   "cell_type": "code",
   "execution_count": 68,
   "id": "e50b5a7f",
   "metadata": {},
   "outputs": [
    {
     "ename": "TypeError",
     "evalue": "list.append() takes exactly one argument (3 given)",
     "output_type": "error",
     "traceback": [
      "\u001b[1;31m---------------------------------------------------------------------------\u001b[0m",
      "\u001b[1;31mTypeError\u001b[0m                                 Traceback (most recent call last)",
      "\u001b[1;32m<ipython-input-68-3c1e19e94982>\u001b[0m in \u001b[0;36m<module>\u001b[1;34m\u001b[0m\n\u001b[1;32m----> 1\u001b[1;33m \u001b[0mitem\u001b[0m\u001b[1;33m.\u001b[0m\u001b[0mappend\u001b[0m\u001b[1;33m(\u001b[0m\u001b[1;34m'mango'\u001b[0m\u001b[1;33m,\u001b[0m\u001b[1;34m'apple'\u001b[0m\u001b[1;33m,\u001b[0m\u001b[1;34m'kiwi'\u001b[0m\u001b[1;33m)\u001b[0m\u001b[1;33m\u001b[0m\u001b[1;33m\u001b[0m\u001b[0m\n\u001b[0m",
      "\u001b[1;31mTypeError\u001b[0m: list.append() takes exactly one argument (3 given)"
     ]
    }
   ],
   "source": [
    "item.append('mango','apple','kiwi')"
   ]
  },
  {
   "cell_type": "code",
   "execution_count": 69,
   "id": "2e2da9c8",
   "metadata": {},
   "outputs": [],
   "source": [
    "item.append('apple')"
   ]
  },
  {
   "cell_type": "code",
   "execution_count": 70,
   "id": "e94c5f47",
   "metadata": {},
   "outputs": [],
   "source": [
    "item.append('banana')"
   ]
  },
  {
   "cell_type": "code",
   "execution_count": 71,
   "id": "04b78060",
   "metadata": {},
   "outputs": [],
   "source": [
    "item.append('muskmelon')"
   ]
  },
  {
   "cell_type": "code",
   "execution_count": 72,
   "id": "a4a80b06",
   "metadata": {},
   "outputs": [],
   "source": [
    "item.append('guava')"
   ]
  },
  {
   "cell_type": "code",
   "execution_count": 73,
   "id": "1a92a90e",
   "metadata": {},
   "outputs": [
    {
     "data": {
      "text/plain": [
       "['mango', 'apple', 'banana', 'muskmelon', 'guava']"
      ]
     },
     "execution_count": 73,
     "metadata": {},
     "output_type": "execute_result"
    }
   ],
   "source": [
    "item"
   ]
  },
  {
   "cell_type": "code",
   "execution_count": 76,
   "id": "a0c488eb",
   "metadata": {},
   "outputs": [],
   "source": [
    "item.sort() #inplace is true"
   ]
  },
  {
   "cell_type": "code",
   "execution_count": 75,
   "id": "cab39069",
   "metadata": {},
   "outputs": [
    {
     "data": {
      "text/plain": [
       "['apple', 'banana', 'guava', 'mango', 'muskmelon']"
      ]
     },
     "execution_count": 75,
     "metadata": {},
     "output_type": "execute_result"
    }
   ],
   "source": [
    "item"
   ]
  },
  {
   "cell_type": "code",
   "execution_count": 77,
   "id": "0beb4040",
   "metadata": {},
   "outputs": [
    {
     "data": {
      "text/plain": [
       "'muskmelon'"
      ]
     },
     "execution_count": 77,
     "metadata": {},
     "output_type": "execute_result"
    }
   ],
   "source": [
    "item.pop()"
   ]
  },
  {
   "cell_type": "code",
   "execution_count": 79,
   "id": "950a3b1f",
   "metadata": {},
   "outputs": [],
   "source": [
    "item.remove('guava')"
   ]
  },
  {
   "cell_type": "code",
   "execution_count": 80,
   "id": "99c4bc73",
   "metadata": {},
   "outputs": [
    {
     "data": {
      "text/plain": [
       "['apple', 'banana', 'mango']"
      ]
     },
     "execution_count": 80,
     "metadata": {},
     "output_type": "execute_result"
    }
   ],
   "source": [
    "item"
   ]
  },
  {
   "cell_type": "code",
   "execution_count": 81,
   "id": "315886c8",
   "metadata": {},
   "outputs": [],
   "source": [
    "num=[1,2,3,4,5]"
   ]
  },
  {
   "cell_type": "code",
   "execution_count": 82,
   "id": "27532e6d",
   "metadata": {},
   "outputs": [],
   "source": [
    "item.extend('num')"
   ]
  },
  {
   "cell_type": "code",
   "execution_count": 83,
   "id": "fdcb81ad",
   "metadata": {},
   "outputs": [
    {
     "data": {
      "text/plain": [
       "['apple', 'banana', 'mango', 'n', 'u', 'm']"
      ]
     },
     "execution_count": 83,
     "metadata": {},
     "output_type": "execute_result"
    }
   ],
   "source": [
    "item"
   ]
  },
  {
   "cell_type": "code",
   "execution_count": 84,
   "id": "2bf5b6f2",
   "metadata": {},
   "outputs": [],
   "source": [
    "item.extend(num)"
   ]
  },
  {
   "cell_type": "code",
   "execution_count": 85,
   "id": "734ef731",
   "metadata": {},
   "outputs": [
    {
     "data": {
      "text/plain": [
       "['apple', 'banana', 'mango', 'n', 'u', 'm', 1, 2, 3, 4, 5]"
      ]
     },
     "execution_count": 85,
     "metadata": {},
     "output_type": "execute_result"
    }
   ],
   "source": [
    "item"
   ]
  },
  {
   "cell_type": "code",
   "execution_count": null,
   "id": "d290f56e",
   "metadata": {},
   "outputs": [],
   "source": []
  }
 ],
 "metadata": {
  "kernelspec": {
   "display_name": "Python 3",
   "language": "python",
   "name": "python3"
  },
  "language_info": {
   "codemirror_mode": {
    "name": "ipython",
    "version": 3
   },
   "file_extension": ".py",
   "mimetype": "text/x-python",
   "name": "python",
   "nbconvert_exporter": "python",
   "pygments_lexer": "ipython3",
   "version": "3.9.1"
  }
 },
 "nbformat": 4,
 "nbformat_minor": 5
}
