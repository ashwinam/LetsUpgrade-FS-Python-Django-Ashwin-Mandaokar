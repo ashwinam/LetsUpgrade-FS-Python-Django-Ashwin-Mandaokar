{
 "cells": [
  {
   "cell_type": "code",
   "execution_count": 1,
   "id": "479289b6",
   "metadata": {},
   "outputs": [],
   "source": [
    "import os"
   ]
  },
  {
   "cell_type": "code",
   "execution_count": 3,
   "id": "c4d84d2c",
   "metadata": {},
   "outputs": [
    {
     "data": {
      "text/plain": [
       "'C:\\\\Users\\\\A_MAN\\\\Desktop\\\\Python & Django Full stack'"
      ]
     },
     "execution_count": 3,
     "metadata": {},
     "output_type": "execute_result"
    }
   ],
   "source": [
    "os.getcwd()"
   ]
  },
  {
   "cell_type": "code",
   "execution_count": 10,
   "id": "d83be2a6",
   "metadata": {},
   "outputs": [],
   "source": [
    "os.chdir('C:\\\\Users\\\\A_MAN\\\\Desktop\\\\')"
   ]
  },
  {
   "cell_type": "code",
   "execution_count": 5,
   "id": "dcb99ba8",
   "metadata": {},
   "outputs": [
    {
     "data": {
      "text/plain": [
       "'C:\\\\Users\\\\A_MAN\\\\Desktop'"
      ]
     },
     "execution_count": 5,
     "metadata": {},
     "output_type": "execute_result"
    }
   ],
   "source": [
    "os.getcwd()"
   ]
  },
  {
   "cell_type": "code",
   "execution_count": 6,
   "id": "174171e7",
   "metadata": {},
   "outputs": [],
   "source": [
    "os.mkdir('C:\\\\Users\\\\A_MAN\\\\Desktop\\\\123')"
   ]
  },
  {
   "cell_type": "code",
   "execution_count": 13,
   "id": "34b6e7bc",
   "metadata": {},
   "outputs": [
    {
     "data": {
      "text/plain": [
       "['c pro',\n",
       " 'cakeshake.pdf',\n",
       " 'desktop.ini',\n",
       " 'Github clone projects',\n",
       " 'knowledge-is-learning-something-new.png',\n",
       " 'Microsoft Teams.lnk',\n",
       " 'Notion.lnk',\n",
       " 'Python & Django Full stack',\n",
       " 'python course',\n",
       " '~$cret keeper_password manager.docx',\n",
       " 'जब हिम्मत हार जाओ तो इस तस्वीर को देख लेना ).jpg']"
      ]
     },
     "execution_count": 13,
     "metadata": {},
     "output_type": "execute_result"
    }
   ],
   "source": [
    "os.listdir()"
   ]
  },
  {
   "cell_type": "code",
   "execution_count": 8,
   "id": "d65fb196",
   "metadata": {},
   "outputs": [],
   "source": [
    "os.chdir('C:\\\\Users\\\\A_MAN\\\\Desktop\\\\123')"
   ]
  },
  {
   "cell_type": "code",
   "execution_count": 9,
   "id": "86e146e9",
   "metadata": {},
   "outputs": [
    {
     "data": {
      "text/plain": [
       "'C:\\\\Users\\\\A_MAN\\\\Desktop\\\\123'"
      ]
     },
     "execution_count": 9,
     "metadata": {},
     "output_type": "execute_result"
    }
   ],
   "source": [
    "os.getcwd()"
   ]
  },
  {
   "cell_type": "code",
   "execution_count": 11,
   "id": "2b83269c",
   "metadata": {},
   "outputs": [
    {
     "data": {
      "text/plain": [
       "'C:\\\\Users\\\\A_MAN\\\\Desktop'"
      ]
     },
     "execution_count": 11,
     "metadata": {},
     "output_type": "execute_result"
    }
   ],
   "source": [
    "os.getcwd()"
   ]
  },
  {
   "cell_type": "code",
   "execution_count": 12,
   "id": "a6fdd5a2",
   "metadata": {},
   "outputs": [],
   "source": [
    "os.rmdir('C:\\\\Users\\\\A_MAN\\\\Desktop\\\\123')"
   ]
  },
  {
   "cell_type": "code",
   "execution_count": 14,
   "id": "6424689b",
   "metadata": {},
   "outputs": [
    {
     "data": {
      "text/plain": [
       "False"
      ]
     },
     "execution_count": 14,
     "metadata": {},
     "output_type": "execute_result"
    }
   ],
   "source": [
    "os.path.exists('C:\\\\Users\\\\A_MAN\\\\Desktop\\\\123')"
   ]
  },
  {
   "cell_type": "code",
   "execution_count": 15,
   "id": "77d192bb",
   "metadata": {},
   "outputs": [
    {
     "data": {
      "text/plain": [
       "'abc\\\\def'"
      ]
     },
     "execution_count": 15,
     "metadata": {},
     "output_type": "execute_result"
    }
   ],
   "source": [
    "os.path.join('abc','def')"
   ]
  },
  {
   "cell_type": "code",
   "execution_count": 16,
   "id": "3acfd22a",
   "metadata": {},
   "outputs": [
    {
     "data": {
      "text/plain": [
       "('C:\\\\Users\\\\A_MAN\\\\Desktop', '123')"
      ]
     },
     "execution_count": 16,
     "metadata": {},
     "output_type": "execute_result"
    }
   ],
   "source": [
    "os.path.split('C:\\\\Users\\\\A_MAN\\\\Desktop\\\\123')"
   ]
  },
  {
   "cell_type": "code",
   "execution_count": 19,
   "id": "348dcab1",
   "metadata": {},
   "outputs": [],
   "source": [
    "os.remove('file1.txt')"
   ]
  },
  {
   "cell_type": "code",
   "execution_count": 18,
   "id": "f6b615f0",
   "metadata": {},
   "outputs": [],
   "source": [
    "os.rename('c://Users/A_MAN/Desktop/New Text Document.txt','c://Users/A_MAN/Desktop/file1.txt')"
   ]
  },
  {
   "cell_type": "code",
   "execution_count": 21,
   "id": "ecd977c7",
   "metadata": {},
   "outputs": [
    {
     "data": {
      "text/plain": [
       "16140"
      ]
     },
     "execution_count": 21,
     "metadata": {},
     "output_type": "execute_result"
    }
   ],
   "source": [
    "os.getpid()"
   ]
  },
  {
   "cell_type": "code",
   "execution_count": 23,
   "id": "3d584cb1",
   "metadata": {},
   "outputs": [
    {
     "data": {
      "text/plain": [
       "False"
      ]
     },
     "execution_count": 23,
     "metadata": {},
     "output_type": "execute_result"
    }
   ],
   "source": [
    "os.path.isdir('c://Users/A_MAN/Desktop/New Text Document.txt')"
   ]
  },
  {
   "cell_type": "code",
   "execution_count": 24,
   "id": "c12ea743",
   "metadata": {},
   "outputs": [
    {
     "data": {
      "text/plain": [
       "True"
      ]
     },
     "execution_count": 24,
     "metadata": {},
     "output_type": "execute_result"
    }
   ],
   "source": [
    "os.path.isdir('c://Users/A_MAN/Desktop/')"
   ]
  },
  {
   "cell_type": "code",
   "execution_count": 26,
   "id": "15e60ed6",
   "metadata": {},
   "outputs": [
    {
     "data": {
      "text/plain": [
       "True"
      ]
     },
     "execution_count": 26,
     "metadata": {},
     "output_type": "execute_result"
    }
   ],
   "source": [
    "os.path.isfile('c://Users/A_MAN/Desktop/cakeshake.pdf')"
   ]
  },
  {
   "cell_type": "code",
   "execution_count": 31,
   "id": "b98ab70c",
   "metadata": {},
   "outputs": [
    {
     "data": {
      "text/plain": [
       "905.40234375"
      ]
     },
     "execution_count": 31,
     "metadata": {},
     "output_type": "execute_result"
    }
   ],
   "source": [
    "os.path.getsize('c://Users/A_MAN/Desktop/cakeshake.pdf')/1024"
   ]
  },
  {
   "cell_type": "code",
   "execution_count": 33,
   "id": "6218f495",
   "metadata": {},
   "outputs": [
    {
     "data": {
      "text/plain": [
       "os.stat_result(st_mode=33206, st_ino=9007199254887529, st_dev=2488476337, st_nlink=1, st_uid=0, st_gid=0, st_size=927132, st_atime=1610264114, st_mtime=1610264114, st_ctime=1610264109)"
      ]
     },
     "execution_count": 33,
     "metadata": {},
     "output_type": "execute_result"
    }
   ],
   "source": [
    "os.stat('c://Users/A_MAN/Desktop/cakeshake.pdf')"
   ]
  },
  {
   "cell_type": "code",
   "execution_count": 37,
   "id": "0ee44a98",
   "metadata": {},
   "outputs": [],
   "source": [
    "mtime=1610264109"
   ]
  },
  {
   "cell_type": "code",
   "execution_count": 35,
   "id": "ca9f6f32",
   "metadata": {},
   "outputs": [],
   "source": [
    "import time"
   ]
  },
  {
   "cell_type": "code",
   "execution_count": 38,
   "id": "556a0d04",
   "metadata": {},
   "outputs": [
    {
     "name": "stdout",
     "output_type": "stream",
     "text": [
      "Sun Jan 10 13:05:09 2021\n"
     ]
    }
   ],
   "source": [
    "print(time.ctime(mtime))"
   ]
  },
  {
   "cell_type": "code",
   "execution_count": null,
   "id": "3673ec97",
   "metadata": {},
   "outputs": [],
   "source": []
  },
  {
   "cell_type": "code",
   "execution_count": 1,
   "id": "b3574cfc",
   "metadata": {},
   "outputs": [],
   "source": [
    "def Print():\n",
    "    print('Hello world!')"
   ]
  },
  {
   "cell_type": "code",
   "execution_count": 2,
   "id": "e8249042",
   "metadata": {},
   "outputs": [
    {
     "name": "stdout",
     "output_type": "stream",
     "text": [
      "Hello world!\n"
     ]
    }
   ],
   "source": [
    "Print()"
   ]
  },
  {
   "cell_type": "code",
   "execution_count": 5,
   "id": "08c5bbbe",
   "metadata": {},
   "outputs": [],
   "source": [
    "def mobile(voice):\n",
    "    print(f'Hello, {voice}')"
   ]
  },
  {
   "cell_type": "code",
   "execution_count": 6,
   "id": "3edbf58e",
   "metadata": {},
   "outputs": [
    {
     "name": "stdout",
     "output_type": "stream",
     "text": [
      "ashwin\n",
      "Hello, ashwin\n"
     ]
    }
   ],
   "source": [
    "mobile(input())"
   ]
  },
  {
   "cell_type": "code",
   "execution_count": 3,
   "id": "70d12755",
   "metadata": {},
   "outputs": [],
   "source": [
    "def Info(Name,Age,Place,Contact):\n",
    "    print(f'Hello,{Name}')\n",
    "    print(f'Your age is:,{Age}')\n",
    "    print(f'Your Address is:,{Place}')\n",
    "    print(f'and Your Contact is:,{Contact}')"
   ]
  },
  {
   "cell_type": "code",
   "execution_count": 4,
   "id": "130ea425",
   "metadata": {},
   "outputs": [
    {
     "name": "stdout",
     "output_type": "stream",
     "text": [
      "ashwin\n",
      "26\n",
      "chandrapur\n",
      "9356896210\n",
      "Hello,ashwin\n",
      "Your age is:,26\n",
      "Your Address is:,chandrapur\n",
      "and Your Contact is:,9356896210\n"
     ]
    }
   ],
   "source": [
    "Info(input(),int(input()),input(),int(input()))"
   ]
  },
  {
   "cell_type": "code",
   "execution_count": 6,
   "id": "b9d49424",
   "metadata": {},
   "outputs": [],
   "source": [
    "def Info(Name,Age,Place,Contact):\n",
    "    print(f'Hello,{input(Name)}')\n",
    "    print(f'Your age is:,{input(Age)}')\n",
    "    print(f'Your Address is:,{input(Place}')\n",
    "    print(f'and Your Contact is:,{Contact}')"
   ]
  },
  {
   "cell_type": "code",
   "execution_count": 7,
   "id": "f914c908",
   "metadata": {},
   "outputs": [
    {
     "ename": "NameError",
     "evalue": "name 'name' is not defined",
     "output_type": "error",
     "traceback": [
      "\u001b[1;31m---------------------------------------------------------------------------\u001b[0m",
      "\u001b[1;31mNameError\u001b[0m                                 Traceback (most recent call last)",
      "\u001b[1;32m<ipython-input-7-3584ec4303e7>\u001b[0m in \u001b[0;36m<module>\u001b[1;34m\u001b[0m\n\u001b[1;32m----> 1\u001b[1;33m \u001b[0mInfo\u001b[0m\u001b[1;33m(\u001b[0m\u001b[0mname\u001b[0m\u001b[1;33m,\u001b[0m\u001b[0mage\u001b[0m\u001b[1;33m,\u001b[0m\u001b[0mplace\u001b[0m\u001b[1;33m,\u001b[0m\u001b[0mcontact\u001b[0m\u001b[1;33m)\u001b[0m\u001b[1;33m\u001b[0m\u001b[1;33m\u001b[0m\u001b[0m\n\u001b[0m",
      "\u001b[1;31mNameError\u001b[0m: name 'name' is not defined"
     ]
    }
   ],
   "source": [
    "Info(name,age,place,contact)"
   ]
  },
  {
   "cell_type": "code",
   "execution_count": 8,
   "id": "303cc445",
   "metadata": {},
   "outputs": [],
   "source": [
    "stri='ashwin'"
   ]
  },
  {
   "cell_type": "code",
   "execution_count": 9,
   "id": "83a3d3d2",
   "metadata": {},
   "outputs": [
    {
     "data": {
      "text/plain": [
       "['__add__',\n",
       " '__class__',\n",
       " '__contains__',\n",
       " '__delattr__',\n",
       " '__dir__',\n",
       " '__doc__',\n",
       " '__eq__',\n",
       " '__format__',\n",
       " '__ge__',\n",
       " '__getattribute__',\n",
       " '__getitem__',\n",
       " '__getnewargs__',\n",
       " '__gt__',\n",
       " '__hash__',\n",
       " '__init__',\n",
       " '__init_subclass__',\n",
       " '__iter__',\n",
       " '__le__',\n",
       " '__len__',\n",
       " '__lt__',\n",
       " '__mod__',\n",
       " '__mul__',\n",
       " '__ne__',\n",
       " '__new__',\n",
       " '__reduce__',\n",
       " '__reduce_ex__',\n",
       " '__repr__',\n",
       " '__rmod__',\n",
       " '__rmul__',\n",
       " '__setattr__',\n",
       " '__sizeof__',\n",
       " '__str__',\n",
       " '__subclasshook__',\n",
       " 'capitalize',\n",
       " 'casefold',\n",
       " 'center',\n",
       " 'count',\n",
       " 'encode',\n",
       " 'endswith',\n",
       " 'expandtabs',\n",
       " 'find',\n",
       " 'format',\n",
       " 'format_map',\n",
       " 'index',\n",
       " 'isalnum',\n",
       " 'isalpha',\n",
       " 'isascii',\n",
       " 'isdecimal',\n",
       " 'isdigit',\n",
       " 'isidentifier',\n",
       " 'islower',\n",
       " 'isnumeric',\n",
       " 'isprintable',\n",
       " 'isspace',\n",
       " 'istitle',\n",
       " 'isupper',\n",
       " 'join',\n",
       " 'ljust',\n",
       " 'lower',\n",
       " 'lstrip',\n",
       " 'maketrans',\n",
       " 'partition',\n",
       " 'removeprefix',\n",
       " 'removesuffix',\n",
       " 'replace',\n",
       " 'rfind',\n",
       " 'rindex',\n",
       " 'rjust',\n",
       " 'rpartition',\n",
       " 'rsplit',\n",
       " 'rstrip',\n",
       " 'split',\n",
       " 'splitlines',\n",
       " 'startswith',\n",
       " 'strip',\n",
       " 'swapcase',\n",
       " 'title',\n",
       " 'translate',\n",
       " 'upper',\n",
       " 'zfill']"
      ]
     },
     "execution_count": 9,
     "metadata": {},
     "output_type": "execute_result"
    }
   ],
   "source": [
    "dir(stri)"
   ]
  },
  {
   "cell_type": "code",
   "execution_count": 17,
   "id": "4d87b3ce",
   "metadata": {},
   "outputs": [
    {
     "ename": "TypeError",
     "evalue": "object of type 'bool' has no len()",
     "output_type": "error",
     "traceback": [
      "\u001b[1;31m---------------------------------------------------------------------------\u001b[0m",
      "\u001b[1;31mTypeError\u001b[0m                                 Traceback (most recent call last)",
      "\u001b[1;32m<ipython-input-17-a555892fee26>\u001b[0m in \u001b[0;36m<module>\u001b[1;34m\u001b[0m\n\u001b[1;32m----> 1\u001b[1;33m \u001b[0mlen\u001b[0m\u001b[1;33m(\u001b[0m\u001b[0mstri\u001b[0m\u001b[1;33m.\u001b[0m\u001b[0mislower\u001b[0m\u001b[1;33m(\u001b[0m\u001b[1;33m)\u001b[0m\u001b[1;33m)\u001b[0m\u001b[1;33m\u001b[0m\u001b[1;33m\u001b[0m\u001b[0m\n\u001b[0m",
      "\u001b[1;31mTypeError\u001b[0m: object of type 'bool' has no len()"
     ]
    }
   ],
   "source": [
    "len(stri.islower())"
   ]
  },
  {
   "cell_type": "code",
   "execution_count": 12,
   "id": "5104ae79",
   "metadata": {},
   "outputs": [
    {
     "data": {
      "text/plain": [
       "6"
      ]
     },
     "execution_count": 12,
     "metadata": {},
     "output_type": "execute_result"
    }
   ],
   "source": [
    "len(stri)"
   ]
  },
  {
   "cell_type": "code",
   "execution_count": 15,
   "id": "e365e9a7",
   "metadata": {},
   "outputs": [
    {
     "ename": "SyntaxError",
     "evalue": "invalid syntax (<ipython-input-15-3b0235f97381>, line 2)",
     "output_type": "error",
     "traceback": [
      "\u001b[1;36m  File \u001b[1;32m\"<ipython-input-15-3b0235f97381>\"\u001b[1;36m, line \u001b[1;32m2\u001b[0m\n\u001b[1;33m    def evennum(list(num):\u001b[0m\n\u001b[1;37m                    ^\u001b[0m\n\u001b[1;31mSyntaxError\u001b[0m\u001b[1;31m:\u001b[0m invalid syntax\n"
     ]
    }
   ],
   "source": [
    "#  Write a Python program to print the even numbers from a given list.\n",
    "def evennum(list(num):\n",
    "    if num%2==0:\n",
    "        print(num)"
   ]
  },
  {
   "cell_type": "code",
   "execution_count": 14,
   "id": "58cf2adb",
   "metadata": {},
   "outputs": [
    {
     "ename": "TypeError",
     "evalue": "unsupported operand type(s) for %: 'list' and 'int'",
     "output_type": "error",
     "traceback": [
      "\u001b[1;31m---------------------------------------------------------------------------\u001b[0m",
      "\u001b[1;31mTypeError\u001b[0m                                 Traceback (most recent call last)",
      "\u001b[1;32m<ipython-input-14-2dc0f817b261>\u001b[0m in \u001b[0;36m<module>\u001b[1;34m\u001b[0m\n\u001b[1;32m----> 1\u001b[1;33m \u001b[0mevennum\u001b[0m\u001b[1;33m(\u001b[0m\u001b[1;33m[\u001b[0m\u001b[1;36m1\u001b[0m\u001b[1;33m,\u001b[0m\u001b[1;36m2\u001b[0m\u001b[1;33m,\u001b[0m\u001b[1;36m3\u001b[0m\u001b[1;33m,\u001b[0m\u001b[1;36m4\u001b[0m\u001b[1;33m,\u001b[0m\u001b[1;36m5\u001b[0m\u001b[1;33m,\u001b[0m\u001b[1;36m6\u001b[0m\u001b[1;33m,\u001b[0m\u001b[1;36m7\u001b[0m\u001b[1;33m,\u001b[0m\u001b[1;36m8\u001b[0m\u001b[1;33m,\u001b[0m\u001b[1;36m9\u001b[0m\u001b[1;33m,\u001b[0m\u001b[1;36m10\u001b[0m\u001b[1;33m]\u001b[0m\u001b[1;33m)\u001b[0m\u001b[1;33m\u001b[0m\u001b[1;33m\u001b[0m\u001b[0m\n\u001b[0m",
      "\u001b[1;32m<ipython-input-13-b24f6c1f3b18>\u001b[0m in \u001b[0;36mevennum\u001b[1;34m(num)\u001b[0m\n\u001b[0;32m      1\u001b[0m \u001b[1;31m#  Write a Python program to print the even numbers from a given list.\u001b[0m\u001b[1;33m\u001b[0m\u001b[1;33m\u001b[0m\u001b[1;33m\u001b[0m\u001b[0m\n\u001b[0;32m      2\u001b[0m \u001b[1;32mdef\u001b[0m \u001b[0mevennum\u001b[0m\u001b[1;33m(\u001b[0m\u001b[0mnum\u001b[0m\u001b[1;33m)\u001b[0m\u001b[1;33m:\u001b[0m\u001b[1;33m\u001b[0m\u001b[1;33m\u001b[0m\u001b[0m\n\u001b[1;32m----> 3\u001b[1;33m     \u001b[1;32mif\u001b[0m \u001b[0mnum\u001b[0m\u001b[1;33m%\u001b[0m\u001b[1;36m2\u001b[0m\u001b[1;33m==\u001b[0m\u001b[1;36m0\u001b[0m\u001b[1;33m:\u001b[0m\u001b[1;33m\u001b[0m\u001b[1;33m\u001b[0m\u001b[0m\n\u001b[0m\u001b[0;32m      4\u001b[0m         \u001b[0mprint\u001b[0m\u001b[1;33m(\u001b[0m\u001b[0mnum\u001b[0m\u001b[1;33m)\u001b[0m\u001b[1;33m\u001b[0m\u001b[1;33m\u001b[0m\u001b[0m\n",
      "\u001b[1;31mTypeError\u001b[0m: unsupported operand type(s) for %: 'list' and 'int'"
     ]
    }
   ],
   "source": [
    "evennum([1,2,3,4,5,6,7,8,9,10])"
   ]
  },
  {
   "cell_type": "code",
   "execution_count": null,
   "id": "86ffe792",
   "metadata": {},
   "outputs": [],
   "source": []
  }
 ],
 "metadata": {
  "kernelspec": {
   "display_name": "Python 3",
   "language": "python",
   "name": "python3"
  },
  "language_info": {
   "codemirror_mode": {
    "name": "ipython",
    "version": 3
   },
   "file_extension": ".py",
   "mimetype": "text/x-python",
   "name": "python",
   "nbconvert_exporter": "python",
   "pygments_lexer": "ipython3",
   "version": "3.9.1"
  }
 },
 "nbformat": 4,
 "nbformat_minor": 5
}
