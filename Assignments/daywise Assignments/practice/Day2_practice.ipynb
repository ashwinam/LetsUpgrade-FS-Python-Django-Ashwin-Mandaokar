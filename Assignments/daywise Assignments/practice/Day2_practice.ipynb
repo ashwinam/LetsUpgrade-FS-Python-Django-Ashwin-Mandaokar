{
 "cells": [
  {
   "cell_type": "markdown",
   "id": "6946d2b3",
   "metadata": {},
   "source": [
    "# Operators & expression"
   ]
  },
  {
   "cell_type": "code",
   "execution_count": 9,
   "id": "74bc4f56",
   "metadata": {},
   "outputs": [
    {
     "data": {
      "text/plain": [
       "5"
      ]
     },
     "execution_count": 9,
     "metadata": {},
     "output_type": "execute_result"
    }
   ],
   "source": [
    "a=15\n",
    "b=10\n",
    "# arithmatic operator\n",
    "a+b\n",
    "a-b\n",
    "a*b\n",
    "a/b\n",
    "a//b\n",
    "a**b\n",
    "a**2\n",
    "a//2\n",
    "a%b"
   ]
  },
  {
   "cell_type": "code",
   "execution_count": 16,
   "id": "248243d1",
   "metadata": {},
   "outputs": [
    {
     "data": {
      "text/plain": [
       "True"
      ]
     },
     "execution_count": 16,
     "metadata": {},
     "output_type": "execute_result"
    }
   ],
   "source": [
    "#Comparison operator & logical\n",
    "(a!=b)and(a>b)\n",
    "(a<10)or(a>b)\n",
    "not a==10\n"
   ]
  },
  {
   "cell_type": "code",
   "execution_count": 17,
   "id": "c7239397",
   "metadata": {},
   "outputs": [],
   "source": [
    "items=['mango','cherry','banana','apple','guava']"
   ]
  },
  {
   "cell_type": "code",
   "execution_count": 18,
   "id": "5443e428",
   "metadata": {},
   "outputs": [],
   "source": [
    "items.sort()"
   ]
  },
  {
   "cell_type": "code",
   "execution_count": 19,
   "id": "c4d1efb1",
   "metadata": {},
   "outputs": [
    {
     "data": {
      "text/plain": [
       "['apple', 'banana', 'cherry', 'guava', 'mango']"
      ]
     },
     "execution_count": 19,
     "metadata": {},
     "output_type": "execute_result"
    }
   ],
   "source": [
    "items"
   ]
  },
  {
   "cell_type": "code",
   "execution_count": 21,
   "id": "8988db48",
   "metadata": {},
   "outputs": [
    {
     "name": "stdout",
     "output_type": "stream",
     "text": [
      "The available Fruits are as Follows:\n",
      "apple\n",
      "banana\n",
      "cherry\n",
      "guava\n",
      "mango\n"
     ]
    }
   ],
   "source": [
    "print('The available Fruits are as Follows:')\n",
    "for eachFruit in items:\n",
    "    print(eachFruit)"
   ]
  },
  {
   "cell_type": "code",
   "execution_count": 24,
   "id": "e41a8ba7",
   "metadata": {},
   "outputs": [
    {
     "data": {
      "text/plain": [
       "[0, 1, 2, 3, 4, 5, 6, 7, 8, 9, 10]"
      ]
     },
     "execution_count": 24,
     "metadata": {},
     "output_type": "execute_result"
    }
   ],
   "source": [
    "list(range(10+1))"
   ]
  },
  {
   "cell_type": "code",
   "execution_count": 36,
   "id": "eb82ab8a",
   "metadata": {},
   "outputs": [
    {
     "name": "stdout",
     "output_type": "stream",
     "text": [
      "3\n",
      "6\n",
      "9\n",
      "12\n",
      "15\n",
      "18\n",
      "21\n",
      "24\n",
      "27\n",
      "30\n"
     ]
    }
   ],
   "source": [
    "for i in range(1,31):\n",
    "    if i%3==0:\n",
    "        print(i)"
   ]
  },
  {
   "cell_type": "code",
   "execution_count": 46,
   "id": "a6bac3ed",
   "metadata": {},
   "outputs": [
    {
     "name": "stdout",
     "output_type": "stream",
     "text": [
      "4\n",
      "8\n",
      "12\n",
      "16\n",
      "20\n",
      "24\n",
      "28\n",
      "32\n",
      "36\n",
      "40\n"
     ]
    }
   ],
   "source": [
    "for i in range(4,41,4):\n",
    "    print(i)"
   ]
  },
  {
   "cell_type": "code",
   "execution_count": 47,
   "id": "e13ffe92",
   "metadata": {},
   "outputs": [
    {
     "name": "stdout",
     "output_type": "stream",
     "text": [
      "40\n",
      "36\n",
      "32\n",
      "28\n",
      "24\n",
      "20\n",
      "16\n",
      "12\n",
      "8\n",
      "4\n"
     ]
    }
   ],
   "source": [
    "for i in range(4,41,4)[::-1]:\n",
    "    print(i)"
   ]
  },
  {
   "cell_type": "code",
   "execution_count": 48,
   "id": "76c42a20",
   "metadata": {},
   "outputs": [
    {
     "name": "stdout",
     "output_type": "stream",
     "text": [
      "40\n",
      "36\n",
      "32\n",
      "28\n",
      "24\n",
      "20\n",
      "16\n",
      "12\n",
      "8\n",
      "4\n"
     ]
    }
   ],
   "source": [
    "for i in range(40,3,-4):\n",
    "    print(i)"
   ]
  },
  {
   "cell_type": "code",
   "execution_count": 49,
   "id": "8723da55",
   "metadata": {},
   "outputs": [],
   "source": [
    "name='letsupgrade'"
   ]
  },
  {
   "cell_type": "code",
   "execution_count": 50,
   "id": "19ed4d8b",
   "metadata": {},
   "outputs": [
    {
     "data": {
      "text/plain": [
       "'letsupgrade'"
      ]
     },
     "execution_count": 50,
     "metadata": {},
     "output_type": "execute_result"
    }
   ],
   "source": [
    "name"
   ]
  },
  {
   "cell_type": "code",
   "execution_count": 51,
   "id": "3b76b5a0",
   "metadata": {},
   "outputs": [
    {
     "name": "stdout",
     "output_type": "stream",
     "text": [
      "l\n",
      "e\n",
      "t\n",
      "s\n",
      "u\n",
      "p\n",
      "g\n",
      "r\n",
      "a\n",
      "d\n",
      "e\n"
     ]
    }
   ],
   "source": [
    "for i in name:\n",
    "    print(i)"
   ]
  },
  {
   "cell_type": "code",
   "execution_count": 58,
   "id": "18252209",
   "metadata": {},
   "outputs": [],
   "source": [
    "className=\"\""
   ]
  },
  {
   "cell_type": "code",
   "execution_count": 53,
   "id": "e0146098",
   "metadata": {},
   "outputs": [
    {
     "data": {
      "text/plain": [
       "''"
      ]
     },
     "execution_count": 53,
     "metadata": {},
     "output_type": "execute_result"
    }
   ],
   "source": [
    "className"
   ]
  },
  {
   "cell_type": "code",
   "execution_count": 60,
   "id": "1c8a25f0",
   "metadata": {},
   "outputs": [],
   "source": [
    "for i in name:\n",
    "    className=className+i"
   ]
  },
  {
   "cell_type": "code",
   "execution_count": 61,
   "id": "1364705b",
   "metadata": {},
   "outputs": [
    {
     "data": {
      "text/plain": [
       "'letsupgrade'"
      ]
     },
     "execution_count": 61,
     "metadata": {},
     "output_type": "execute_result"
    }
   ],
   "source": [
    "className"
   ]
  },
  {
   "cell_type": "code",
   "execution_count": 66,
   "id": "2854ed97",
   "metadata": {},
   "outputs": [],
   "source": [
    "for a in name:\n",
    "    i+=a"
   ]
  },
  {
   "cell_type": "code",
   "execution_count": 67,
   "id": "580760a4",
   "metadata": {},
   "outputs": [
    {
     "data": {
      "text/plain": [
       "'eeletsupgrade'"
      ]
     },
     "execution_count": 67,
     "metadata": {},
     "output_type": "execute_result"
    }
   ],
   "source": [
    "i"
   ]
  },
  {
   "cell_type": "code",
   "execution_count": 80,
   "id": "66ed713b",
   "metadata": {},
   "outputs": [],
   "source": [
    "items2=['a','b','c','d','e','f']"
   ]
  },
  {
   "cell_type": "code",
   "execution_count": 81,
   "id": "a1d0ba96",
   "metadata": {},
   "outputs": [
    {
     "name": "stdout",
     "output_type": "stream",
     "text": [
      "a\n",
      "b\n",
      "c\n",
      "d\n",
      "e\n",
      "f\n"
     ]
    }
   ],
   "source": [
    "for i in items2:\n",
    "    print(i)"
   ]
  },
  {
   "cell_type": "code",
   "execution_count": 82,
   "id": "30cb42ba",
   "metadata": {},
   "outputs": [],
   "source": [
    "item3=[]"
   ]
  },
  {
   "cell_type": "code",
   "execution_count": 83,
   "id": "849c6f0a",
   "metadata": {},
   "outputs": [],
   "source": [
    "for i in items2:\n",
    "    item3+=i"
   ]
  },
  {
   "cell_type": "code",
   "execution_count": 84,
   "id": "fc261e38",
   "metadata": {},
   "outputs": [
    {
     "data": {
      "text/plain": [
       "['a', 'b', 'c', 'd', 'e', 'f']"
      ]
     },
     "execution_count": 84,
     "metadata": {},
     "output_type": "execute_result"
    }
   ],
   "source": [
    "item3"
   ]
  },
  {
   "cell_type": "code",
   "execution_count": null,
   "id": "219f968b",
   "metadata": {},
   "outputs": [],
   "source": []
  },
  {
   "cell_type": "code",
   "execution_count": 85,
   "id": "46c61c4d",
   "metadata": {},
   "outputs": [],
   "source": [
    "items2=['1','2','3','4','5','6']"
   ]
  },
  {
   "cell_type": "code",
   "execution_count": 86,
   "id": "8dfdb165",
   "metadata": {},
   "outputs": [
    {
     "name": "stdout",
     "output_type": "stream",
     "text": [
      "1\n",
      "2\n",
      "3\n",
      "4\n",
      "5\n",
      "6\n"
     ]
    }
   ],
   "source": [
    "for i in items2:\n",
    "    print(i)"
   ]
  },
  {
   "cell_type": "code",
   "execution_count": 87,
   "id": "22d06cf7",
   "metadata": {},
   "outputs": [],
   "source": [
    "item3=[]"
   ]
  },
  {
   "cell_type": "code",
   "execution_count": 88,
   "id": "f46c9d51",
   "metadata": {},
   "outputs": [],
   "source": [
    "for i in items2:\n",
    "    item3+=i"
   ]
  },
  {
   "cell_type": "code",
   "execution_count": 89,
   "id": "62172db1",
   "metadata": {},
   "outputs": [
    {
     "data": {
      "text/plain": [
       "['1', '2', '3', '4', '5', '6']"
      ]
     },
     "execution_count": 89,
     "metadata": {},
     "output_type": "execute_result"
    }
   ],
   "source": [
    "item3"
   ]
  },
  {
   "cell_type": "code",
   "execution_count": 90,
   "id": "3a515841",
   "metadata": {},
   "outputs": [
    {
     "ename": "TypeError",
     "evalue": "int() argument must be a string, a bytes-like object or a number, not 'list'",
     "output_type": "error",
     "traceback": [
      "\u001b[1;31m---------------------------------------------------------------------------\u001b[0m",
      "\u001b[1;31mTypeError\u001b[0m                                 Traceback (most recent call last)",
      "\u001b[1;32m<ipython-input-90-012cc13d33a1>\u001b[0m in \u001b[0;36m<module>\u001b[1;34m\u001b[0m\n\u001b[1;32m----> 1\u001b[1;33m \u001b[0mint\u001b[0m\u001b[1;33m(\u001b[0m\u001b[0mitem3\u001b[0m\u001b[1;33m)\u001b[0m\u001b[1;33m\u001b[0m\u001b[1;33m\u001b[0m\u001b[0m\n\u001b[0m",
      "\u001b[1;31mTypeError\u001b[0m: int() argument must be a string, a bytes-like object or a number, not 'list'"
     ]
    }
   ],
   "source": [
    "int(item3)"
   ]
  },
  {
   "cell_type": "code",
   "execution_count": 2,
   "id": "b6e5651d",
   "metadata": {},
   "outputs": [],
   "source": [
    "name='lets Upgrade'"
   ]
  },
  {
   "cell_type": "code",
   "execution_count": 3,
   "id": "1d28c7a0",
   "metadata": {},
   "outputs": [
    {
     "data": {
      "text/plain": [
       "'lets Upgrade'"
      ]
     },
     "execution_count": 3,
     "metadata": {},
     "output_type": "execute_result"
    }
   ],
   "source": [
    "name"
   ]
  },
  {
   "cell_type": "code",
   "execution_count": 4,
   "id": "02c6b81f",
   "metadata": {},
   "outputs": [
    {
     "data": {
      "text/plain": [
       "'l'"
      ]
     },
     "execution_count": 4,
     "metadata": {},
     "output_type": "execute_result"
    }
   ],
   "source": [
    "name[0]"
   ]
  },
  {
   "cell_type": "code",
   "execution_count": 5,
   "id": "abae244e",
   "metadata": {},
   "outputs": [
    {
     "data": {
      "text/plain": [
       "'e'"
      ]
     },
     "execution_count": 5,
     "metadata": {},
     "output_type": "execute_result"
    }
   ],
   "source": [
    "name[-1]"
   ]
  },
  {
   "cell_type": "code",
   "execution_count": 6,
   "id": "dfc5a16b",
   "metadata": {},
   "outputs": [
    {
     "data": {
      "text/plain": [
       "'lets Upgrad'"
      ]
     },
     "execution_count": 6,
     "metadata": {},
     "output_type": "execute_result"
    }
   ],
   "source": [
    "name[:-1]"
   ]
  },
  {
   "cell_type": "code",
   "execution_count": 7,
   "id": "21460d11",
   "metadata": {},
   "outputs": [
    {
     "data": {
      "text/plain": [
       "12"
      ]
     },
     "execution_count": 7,
     "metadata": {},
     "output_type": "execute_result"
    }
   ],
   "source": [
    "len(name)"
   ]
  },
  {
   "cell_type": "code",
   "execution_count": 8,
   "id": "6279ea5f",
   "metadata": {},
   "outputs": [
    {
     "data": {
      "text/plain": [
       "'lets Upgrad'"
      ]
     },
     "execution_count": 8,
     "metadata": {},
     "output_type": "execute_result"
    }
   ],
   "source": [
    "name[-12:-1]"
   ]
  },
  {
   "cell_type": "code",
   "execution_count": 11,
   "id": "fc03d5c9",
   "metadata": {},
   "outputs": [
    {
     "data": {
      "text/plain": [
       "'lets Upgrade'"
      ]
     },
     "execution_count": 11,
     "metadata": {},
     "output_type": "execute_result"
    }
   ],
   "source": [
    "name[-12:]"
   ]
  },
  {
   "cell_type": "code",
   "execution_count": 12,
   "id": "7cb83454",
   "metadata": {},
   "outputs": [
    {
     "data": {
      "text/plain": [
       "'lets Upgrade'"
      ]
     },
     "execution_count": 12,
     "metadata": {},
     "output_type": "execute_result"
    }
   ],
   "source": [
    "name[0:]"
   ]
  },
  {
   "cell_type": "code",
   "execution_count": 15,
   "id": "6fd21edf",
   "metadata": {},
   "outputs": [
    {
     "data": {
      "text/plain": [
       "' '"
      ]
     },
     "execution_count": 15,
     "metadata": {},
     "output_type": "execute_result"
    }
   ],
   "source": [
    "name[4]"
   ]
  },
  {
   "cell_type": "code",
   "execution_count": 16,
   "id": "29084023",
   "metadata": {},
   "outputs": [
    {
     "data": {
      "text/plain": [
       "'lets Upgrade'"
      ]
     },
     "execution_count": 16,
     "metadata": {},
     "output_type": "execute_result"
    }
   ],
   "source": [
    "name[::]"
   ]
  },
  {
   "cell_type": "code",
   "execution_count": 19,
   "id": "b3e084f6",
   "metadata": {},
   "outputs": [
    {
     "data": {
      "text/plain": [
       "'lt prd'"
      ]
     },
     "execution_count": 19,
     "metadata": {},
     "output_type": "execute_result"
    }
   ],
   "source": [
    "name[0::2]"
   ]
  },
  {
   "cell_type": "code",
   "execution_count": 21,
   "id": "636586ce",
   "metadata": {},
   "outputs": [
    {
     "data": {
      "text/plain": [
       "'eagUse'"
      ]
     },
     "execution_count": 21,
     "metadata": {},
     "output_type": "execute_result"
    }
   ],
   "source": [
    "name[::-2]"
   ]
  },
  {
   "cell_type": "code",
   "execution_count": 25,
   "id": "d047710b",
   "metadata": {},
   "outputs": [
    {
     "name": "stdout",
     "output_type": "stream",
     "text": [
      "The original string is : \n",
      " I love geeksforgeeks \n",
      "\n",
      "The center aligned string is : \n",
      "          I love geeksforgeeks           \n",
      "\n",
      "Center aligned string with fillchr: \n",
      "########################################I love geeksforgeeks########################################\n"
     ]
    }
   ],
   "source": [
    "# Python3 code to demonstrate\n",
    "# the working of center()\n",
    "\n",
    "cstr = \"I love geeksforgeeks\"\n",
    "\n",
    "# Printing the original string\n",
    "print (\"The original string is : \\n\", cstr, \"\\n\")\n",
    "\n",
    "# Printing the center aligned string\n",
    "print (\"The center aligned string is : \")\n",
    "print (cstr.center(40), \"\\n\")\n",
    "\n",
    "# Printing the center aligned\n",
    "# string with fillchr\n",
    "print (\"Center aligned string with fillchr: \")\n",
    "print (cstr.center(100, '#'))\n"
   ]
  },
  {
   "cell_type": "code",
   "execution_count": 26,
   "id": "61e78e30",
   "metadata": {},
   "outputs": [
    {
     "name": "stdout",
     "output_type": "stream",
     "text": [
      "0\n",
      "1\n",
      "2\n",
      "3\n",
      "4\n",
      "5\n",
      "6\n",
      "7\n",
      "8\n",
      "9\n",
      "10\n",
      "11\n",
      "12\n",
      "13\n",
      "14\n"
     ]
    }
   ],
   "source": [
    "for i in range(15):\n",
    "    print(i)"
   ]
  },
  {
   "cell_type": "code",
   "execution_count": 28,
   "id": "1e62e649",
   "metadata": {},
   "outputs": [
    {
     "data": {
      "text/plain": [
       "[0, 1, 2, 3, 4, 5, 6, 7, 8, 9, 10, 11, 12, 13, 14]"
      ]
     },
     "execution_count": 28,
     "metadata": {},
     "output_type": "execute_result"
    }
   ],
   "source": [
    "[i for i in range(15)]"
   ]
  },
  {
   "cell_type": "code",
   "execution_count": 29,
   "id": "69a1aed2",
   "metadata": {},
   "outputs": [
    {
     "data": {
      "text/plain": [
       "[2, 4, 6, 8, 10, 12, 14, 16, 18, 20]"
      ]
     },
     "execution_count": 29,
     "metadata": {},
     "output_type": "execute_result"
    }
   ],
   "source": [
    "# list comprehension/list iteration using if\n",
    "[i for i in range(1,21) if i%2==0]"
   ]
  },
  {
   "cell_type": "code",
   "execution_count": 31,
   "id": "cfee508e",
   "metadata": {},
   "outputs": [],
   "source": [
    "fruits.append('apple')"
   ]
  },
  {
   "cell_type": "code",
   "execution_count": 32,
   "id": "8da0d1ac",
   "metadata": {},
   "outputs": [
    {
     "data": {
      "text/plain": [
       "['apple']"
      ]
     },
     "execution_count": 32,
     "metadata": {},
     "output_type": "execute_result"
    }
   ],
   "source": [
    "fruits"
   ]
  },
  {
   "cell_type": "code",
   "execution_count": 33,
   "id": "80ff743c",
   "metadata": {},
   "outputs": [],
   "source": [
    "fruits.append('mango')"
   ]
  },
  {
   "cell_type": "code",
   "execution_count": 34,
   "id": "bcbeac37",
   "metadata": {},
   "outputs": [],
   "source": [
    "fruits.append('cherry')"
   ]
  },
  {
   "cell_type": "code",
   "execution_count": 35,
   "id": "1da56c71",
   "metadata": {},
   "outputs": [],
   "source": [
    "fruits.append('banana')"
   ]
  },
  {
   "cell_type": "code",
   "execution_count": 36,
   "id": "0b049feb",
   "metadata": {},
   "outputs": [],
   "source": [
    "fruits.append('muskmelon')"
   ]
  },
  {
   "cell_type": "code",
   "execution_count": 37,
   "id": "3a3e0738",
   "metadata": {},
   "outputs": [],
   "source": [
    "fruits.append('kiwi')"
   ]
  },
  {
   "cell_type": "code",
   "execution_count": 38,
   "id": "0aa59c06",
   "metadata": {},
   "outputs": [
    {
     "data": {
      "text/plain": [
       "['apple', 'mango', 'cherry', 'banana', 'muskmelon', 'kiwi']"
      ]
     },
     "execution_count": 38,
     "metadata": {},
     "output_type": "execute_result"
    }
   ],
   "source": [
    "fruits"
   ]
  },
  {
   "cell_type": "code",
   "execution_count": 55,
   "id": "6cde5f3e",
   "metadata": {},
   "outputs": [
    {
     "name": "stdout",
     "output_type": "stream",
     "text": [
      "apple\n",
      "mango\n",
      "banana\n"
     ]
    }
   ],
   "source": [
    "newList=[]\n",
    "for x in fruits:\n",
    "    if 'a' in x:\n",
    "        print(x)"
   ]
  },
  {
   "cell_type": "code",
   "execution_count": 50,
   "id": "8c2a84ba",
   "metadata": {},
   "outputs": [
    {
     "name": "stdout",
     "output_type": "stream",
     "text": [
      "['apple', 'mango', 'banana']\n"
     ]
    }
   ],
   "source": [
    "print(newList)"
   ]
  },
  {
   "cell_type": "code",
   "execution_count": 58,
   "id": "4603f36b",
   "metadata": {},
   "outputs": [],
   "source": [
    "newList=[x for x in fruits if 'a' in x]"
   ]
  },
  {
   "cell_type": "code",
   "execution_count": 59,
   "id": "e37ed14b",
   "metadata": {},
   "outputs": [
    {
     "data": {
      "text/plain": [
       "['apple', 'mango', 'banana']"
      ]
     },
     "execution_count": 59,
     "metadata": {},
     "output_type": "execute_result"
    }
   ],
   "source": [
    "newList"
   ]
  },
  {
   "cell_type": "code",
   "execution_count": 60,
   "id": "3ee29a51",
   "metadata": {},
   "outputs": [
    {
     "data": {
      "text/plain": [
       "['apple', 'mango', 'banana']"
      ]
     },
     "execution_count": 60,
     "metadata": {},
     "output_type": "execute_result"
    }
   ],
   "source": [
    "newList"
   ]
  },
  {
   "cell_type": "code",
   "execution_count": 65,
   "id": "144fa616",
   "metadata": {},
   "outputs": [
    {
     "name": "stdout",
     "output_type": "stream",
     "text": [
      "0 apple\n",
      "1 mango\n",
      "2 banana\n"
     ]
    }
   ],
   "source": [
    "for i in range(0,len(newList)):\n",
    "    print(i,newList[i])"
   ]
  },
  {
   "cell_type": "code",
   "execution_count": 67,
   "id": "c360507c",
   "metadata": {},
   "outputs": [
    {
     "data": {
      "text/plain": [
       "{'details': {'name': {'first': {'total': 'No Value'}}}}"
      ]
     },
     "execution_count": 67,
     "metadata": {},
     "output_type": "execute_result"
    }
   ],
   "source": [
    "{\n",
    "    'details':{\n",
    "        'name':{\n",
    "            'first':{\n",
    "                'total':'No Value'\n",
    "            }\n",
    "        }\n",
    "    }\n",
    "}"
   ]
  },
  {
   "cell_type": "code",
   "execution_count": 74,
   "id": "aecd7963",
   "metadata": {},
   "outputs": [],
   "source": [
    "items={}"
   ]
  },
  {
   "cell_type": "code",
   "execution_count": 72,
   "id": "e4e87a6c",
   "metadata": {},
   "outputs": [
    {
     "data": {
      "text/plain": [
       "{}"
      ]
     },
     "execution_count": 72,
     "metadata": {},
     "output_type": "execute_result"
    }
   ],
   "source": [
    "items"
   ]
  },
  {
   "cell_type": "code",
   "execution_count": 73,
   "id": "893f31dc",
   "metadata": {},
   "outputs": [
    {
     "data": {
      "text/plain": [
       "dict"
      ]
     },
     "execution_count": 73,
     "metadata": {},
     "output_type": "execute_result"
    }
   ],
   "source": [
    "type(items)"
   ]
  },
  {
   "cell_type": "code",
   "execution_count": 76,
   "id": "9e07c169",
   "metadata": {},
   "outputs": [],
   "source": [
    "items['name']=['ashwin']"
   ]
  },
  {
   "cell_type": "code",
   "execution_count": 77,
   "id": "6bd68e0d",
   "metadata": {},
   "outputs": [
    {
     "data": {
      "text/plain": [
       "{'name': ['ashwin']}"
      ]
     },
     "execution_count": 77,
     "metadata": {},
     "output_type": "execute_result"
    }
   ],
   "source": [
    "items"
   ]
  },
  {
   "cell_type": "code",
   "execution_count": 79,
   "id": "0628e7fd",
   "metadata": {},
   "outputs": [],
   "source": [
    "items['name'].append('rahul')"
   ]
  },
  {
   "cell_type": "code",
   "execution_count": 80,
   "id": "f303c3d2",
   "metadata": {},
   "outputs": [
    {
     "data": {
      "text/plain": [
       "{'name': ['ashwin', 'rahul']}"
      ]
     },
     "execution_count": 80,
     "metadata": {},
     "output_type": "execute_result"
    }
   ],
   "source": [
    "items"
   ]
  },
  {
   "cell_type": "code",
   "execution_count": 81,
   "id": "7dd00339",
   "metadata": {},
   "outputs": [],
   "source": [
    "items['name'].append('shubham')"
   ]
  },
  {
   "cell_type": "code",
   "execution_count": 82,
   "id": "5bfb5fb8",
   "metadata": {},
   "outputs": [],
   "source": [
    "items['name'].append('ashish')"
   ]
  },
  {
   "cell_type": "code",
   "execution_count": 83,
   "id": "a9413365",
   "metadata": {},
   "outputs": [
    {
     "data": {
      "text/plain": [
       "{'name': ['ashwin', 'rahul', 'shubham', 'ashish']}"
      ]
     },
     "execution_count": 83,
     "metadata": {},
     "output_type": "execute_result"
    }
   ],
   "source": [
    "items"
   ]
  },
  {
   "cell_type": "code",
   "execution_count": 84,
   "id": "517dfb0a",
   "metadata": {},
   "outputs": [],
   "source": [
    "items['company']=[]"
   ]
  },
  {
   "cell_type": "code",
   "execution_count": 85,
   "id": "9b421a06",
   "metadata": {},
   "outputs": [
    {
     "data": {
      "text/plain": [
       "{'name': ['ashwin', 'rahul', 'shubham', 'ashish'], 'company': []}"
      ]
     },
     "execution_count": 85,
     "metadata": {},
     "output_type": "execute_result"
    }
   ],
   "source": [
    "items"
   ]
  },
  {
   "cell_type": "code",
   "execution_count": 88,
   "id": "3dd33203",
   "metadata": {},
   "outputs": [],
   "source": [
    "items['company'].append('Google')"
   ]
  },
  {
   "cell_type": "code",
   "execution_count": 89,
   "id": "e55dab1e",
   "metadata": {},
   "outputs": [],
   "source": [
    "items['company'].append('Amazon')"
   ]
  },
  {
   "cell_type": "code",
   "execution_count": 90,
   "id": "8295b11a",
   "metadata": {},
   "outputs": [],
   "source": [
    "items['company'].append('pwc')"
   ]
  },
  {
   "cell_type": "code",
   "execution_count": 91,
   "id": "885e8303",
   "metadata": {},
   "outputs": [],
   "source": [
    "items['company'].append('govt')"
   ]
  },
  {
   "cell_type": "code",
   "execution_count": 92,
   "id": "97abbebc",
   "metadata": {},
   "outputs": [
    {
     "data": {
      "text/plain": [
       "{'name': ['ashwin', 'rahul', 'shubham', 'ashish'],\n",
       " 'company': ['Google', 'Amazon', 'pwc', 'govt']}"
      ]
     },
     "execution_count": 92,
     "metadata": {},
     "output_type": "execute_result"
    }
   ],
   "source": [
    "items"
   ]
  },
  {
   "cell_type": "code",
   "execution_count": 114,
   "id": "5ab42b54",
   "metadata": {},
   "outputs": [
    {
     "name": "stdout",
     "output_type": "stream",
     "text": [
      "ashwin Google "
     ]
    }
   ],
   "source": [
    "for n,c,a,b in items.values():\n",
    "    print(n,end=' ')"
   ]
  },
  {
   "cell_type": "code",
   "execution_count": 118,
   "id": "9a173d44",
   "metadata": {},
   "outputs": [],
   "source": [
    "workDetails={}"
   ]
  },
  {
   "cell_type": "code",
   "execution_count": 122,
   "id": "921960d1",
   "metadata": {},
   "outputs": [],
   "source": [
    "workDetails['ashwin']=('Google')"
   ]
  },
  {
   "cell_type": "code",
   "execution_count": 123,
   "id": "780a625d",
   "metadata": {},
   "outputs": [
    {
     "data": {
      "text/plain": [
       "{'ashwin': 'Google'}"
      ]
     },
     "execution_count": 123,
     "metadata": {},
     "output_type": "execute_result"
    }
   ],
   "source": [
    "workDetails"
   ]
  },
  {
   "cell_type": "code",
   "execution_count": 125,
   "id": "06bbbe57",
   "metadata": {},
   "outputs": [],
   "source": [
    "workDetails['rahul']=('Amazon')"
   ]
  },
  {
   "cell_type": "code",
   "execution_count": 126,
   "id": "74c38939",
   "metadata": {},
   "outputs": [],
   "source": [
    "workDetails['shubham']=('pwc')"
   ]
  },
  {
   "cell_type": "code",
   "execution_count": 127,
   "id": "006450f4",
   "metadata": {},
   "outputs": [],
   "source": [
    "workDetails['ashish']=('govt')"
   ]
  },
  {
   "cell_type": "code",
   "execution_count": 128,
   "id": "0a2f5ed8",
   "metadata": {},
   "outputs": [
    {
     "data": {
      "text/plain": [
       "{'ashwin': 'Google', 'rahul': 'Amazon', 'shubham': 'pwc', 'ashish': 'govt'}"
      ]
     },
     "execution_count": 128,
     "metadata": {},
     "output_type": "execute_result"
    }
   ],
   "source": [
    "workDetails"
   ]
  },
  {
   "cell_type": "code",
   "execution_count": 138,
   "id": "e491c9ea",
   "metadata": {},
   "outputs": [
    {
     "name": "stdout",
     "output_type": "stream",
     "text": [
      "{ \n",
      "\t'ashwin' : 'Google,\n",
      "\t'rahul' : 'Amazon,\n",
      "\t'shubham' : 'pwc,\n",
      "\t'ashish' : 'govt,\n",
      "}\n"
     ]
    }
   ],
   "source": [
    "print('{ ')\n",
    "for i,j in workDetails.items():\n",
    "    print(f\"\\t'{i}' : '{j},\")\n",
    "print('}')"
   ]
  },
  {
   "cell_type": "code",
   "execution_count": 4,
   "id": "f8d84f1b",
   "metadata": {},
   "outputs": [
    {
     "name": "stdout",
     "output_type": "stream",
     "text": [
      "0\n",
      "1\n",
      "2\n",
      "3\n",
      "4\n",
      "5\n",
      "6\n",
      "7\n",
      "8\n",
      "9\n",
      "10\n"
     ]
    }
   ],
   "source": [
    "num=0\n",
    "while num<11:\n",
    "    print(num)\n",
    "    num+=1"
   ]
  },
  {
   "cell_type": "code",
   "execution_count": null,
   "id": "515ef9e1",
   "metadata": {},
   "outputs": [],
   "source": [
    "# controlled infinite while loop\n",
    "user_inputs =list()\n",
    "# current = input('Write Something :')\n",
    "while current !='quit':\n",
    "    user_inputs.append(current)\n",
    "    current = input('Write Something :')"
   ]
  },
  {
   "cell_type": "code",
   "execution_count": null,
   "id": "4cb40224",
   "metadata": {},
   "outputs": [],
   "source": [
    "print(user_inputs)"
   ]
  },
  {
   "cell_type": "code",
   "execution_count": null,
   "id": "a709e7af",
   "metadata": {},
   "outputs": [],
   "source": []
  }
 ],
 "metadata": {
  "kernelspec": {
   "display_name": "Python 3",
   "language": "python",
   "name": "python3"
  },
  "language_info": {
   "codemirror_mode": {
    "name": "ipython",
    "version": 3
   },
   "file_extension": ".py",
   "mimetype": "text/x-python",
   "name": "python",
   "nbconvert_exporter": "python",
   "pygments_lexer": "ipython3",
   "version": "3.9.1"
  }
 },
 "nbformat": 4,
 "nbformat_minor": 5
}
