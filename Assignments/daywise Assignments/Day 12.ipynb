{
 "cells": [
  {
   "cell_type": "markdown",
   "id": "6fbe9197",
   "metadata": {},
   "source": [
    "# Inheritance"
   ]
  },
  {
   "cell_type": "code",
   "execution_count": 53,
   "id": "5659f43c",
   "metadata": {},
   "outputs": [],
   "source": [
    "class Employee:\n",
    "    num_of_employees=0\n",
    "    raise_amount=1.05\n",
    "    def __init__(self,first,last,pay):\n",
    "        self.first=first\n",
    "        self.last=last\n",
    "        self.email=first+'.'+last+'@ea.com'\n",
    "        self.pay=pay\n",
    "        Employee.num_of_employees +=1\n",
    "    def fullIntro(self):\n",
    "        return f'{self.first} {self.last}'\n",
    "    \n",
    "    def apply_raise(self):\n",
    "        self.pay=int(self.pay*self.raise_amount) \n",
    "        \n",
    "    def __repr__(self):\n",
    "        return self.fullIntro()"
   ]
  },
  {
   "cell_type": "code",
   "execution_count": 54,
   "id": "ec97b63c",
   "metadata": {},
   "outputs": [],
   "source": [
    "class Developer(Employee):\n",
    "    raise_amount=1.10\n",
    "    def __init__(self,first,last,pay,prog_lang):\n",
    "        super().__init__(first,last,pay)\n",
    "        self.prog_lang=prog_lang"
   ]
  },
  {
   "cell_type": "code",
   "execution_count": 55,
   "id": "e376cd26",
   "metadata": {},
   "outputs": [],
   "source": [
    "class Manager(Employee):\n",
    "    def __init__(self,first,last,pay,employees=None):\n",
    "        super().__init__(first,last,pay)\n",
    "        if employees is None:\n",
    "            self.employees=()\n",
    "        else:\n",
    "            self.employees=employees\n",
    "        \n",
    "    def addEmployee(self,emp):\n",
    "        if emp not in self.employees:\n",
    "            self.employees.append(emp)\n",
    "            \n",
    "    def removeEmployee(self,emp):\n",
    "        if emp in self.employees:\n",
    "            self.employees.remove(emp)\n",
    "            \n",
    "    def print_employees(self):\n",
    "        for emp in self.employees:\n",
    "            print(f' ==> {emp.fullIntro()}')"
   ]
  },
  {
   "cell_type": "code",
   "execution_count": 31,
   "id": "9a7356a9",
   "metadata": {},
   "outputs": [],
   "source": [
    "dev_1=Developer('ashwin','mandaokar',250000,'Python')\n",
    "dev_2=Developer('meet','singh',300000,'C++')"
   ]
  },
  {
   "cell_type": "code",
   "execution_count": 32,
   "id": "aa489680",
   "metadata": {},
   "outputs": [],
   "source": [
    "mgr_1=Manager('Julius','Burens',1000000,[dev_1])"
   ]
  },
  {
   "cell_type": "code",
   "execution_count": 33,
   "id": "262a1de6",
   "metadata": {},
   "outputs": [
    {
     "name": "stdout",
     "output_type": "stream",
     "text": [
      "Julius.Burens@ea.com\n",
      " ==> ashwin mandaokar\n",
      "None\n"
     ]
    }
   ],
   "source": [
    "print(mgr_1.email)\n",
    "print(mgr_1.print_employees())"
   ]
  },
  {
   "cell_type": "code",
   "execution_count": 34,
   "id": "ee56251b",
   "metadata": {},
   "outputs": [],
   "source": [
    "mgr_1.addEmployee(dev_2)"
   ]
  },
  {
   "cell_type": "code",
   "execution_count": 45,
   "id": "bd106fee",
   "metadata": {},
   "outputs": [
    {
     "name": "stdout",
     "output_type": "stream",
     "text": [
      " ==> Geeta Godi\n",
      " ==> Geeta Godi\n",
      " ==> Geeta Godi\n",
      "None\n"
     ]
    }
   ],
   "source": [
    "print(mgr_1.print_employees())"
   ]
  },
  {
   "cell_type": "code",
   "execution_count": 40,
   "id": "3ae9b485",
   "metadata": {},
   "outputs": [],
   "source": [
    "mgr_1.addEmployee(Developer('Geeta','Godi',250000,'JS'))"
   ]
  },
  {
   "cell_type": "code",
   "execution_count": 44,
   "id": "92539695",
   "metadata": {},
   "outputs": [],
   "source": [
    "mgr_1.removeEmployee(dev_1)"
   ]
  },
  {
   "cell_type": "markdown",
   "id": "dc80e35c",
   "metadata": {},
   "source": [
    "### IsInstance IsSubclass"
   ]
  },
  {
   "cell_type": "code",
   "execution_count": 46,
   "id": "70c39190",
   "metadata": {},
   "outputs": [
    {
     "data": {
      "text/plain": [
       "True"
      ]
     },
     "execution_count": 46,
     "metadata": {},
     "output_type": "execute_result"
    }
   ],
   "source": [
    "isinstance(mgr_1,Manager)"
   ]
  },
  {
   "cell_type": "code",
   "execution_count": 47,
   "id": "b53512ab",
   "metadata": {},
   "outputs": [
    {
     "data": {
      "text/plain": [
       "True"
      ]
     },
     "execution_count": 47,
     "metadata": {},
     "output_type": "execute_result"
    }
   ],
   "source": [
    "isinstance(mgr_1,Employee)"
   ]
  },
  {
   "cell_type": "code",
   "execution_count": 48,
   "id": "6fe148ad",
   "metadata": {},
   "outputs": [
    {
     "data": {
      "text/plain": [
       "False"
      ]
     },
     "execution_count": 48,
     "metadata": {},
     "output_type": "execute_result"
    }
   ],
   "source": [
    "isinstance(mgr_1,Developer)"
   ]
  },
  {
   "cell_type": "code",
   "execution_count": 49,
   "id": "46a0814b",
   "metadata": {},
   "outputs": [
    {
     "data": {
      "text/plain": [
       "True"
      ]
     },
     "execution_count": 49,
     "metadata": {},
     "output_type": "execute_result"
    }
   ],
   "source": [
    "issubclass(Developer,Employee)"
   ]
  },
  {
   "cell_type": "code",
   "execution_count": 50,
   "id": "a3a07da7",
   "metadata": {},
   "outputs": [
    {
     "data": {
      "text/plain": [
       "True"
      ]
     },
     "execution_count": 50,
     "metadata": {},
     "output_type": "execute_result"
    }
   ],
   "source": [
    "issubclass(Manager,Employee)"
   ]
  },
  {
   "cell_type": "code",
   "execution_count": 51,
   "id": "94e2c408",
   "metadata": {},
   "outputs": [
    {
     "data": {
      "text/plain": [
       "True"
      ]
     },
     "execution_count": 51,
     "metadata": {},
     "output_type": "execute_result"
    }
   ],
   "source": [
    "issubclass(Employee,Employee)"
   ]
  },
  {
   "cell_type": "code",
   "execution_count": 52,
   "id": "398574e3",
   "metadata": {},
   "outputs": [
    {
     "data": {
      "text/plain": [
       "False"
      ]
     },
     "execution_count": 52,
     "metadata": {},
     "output_type": "execute_result"
    }
   ],
   "source": [
    "issubclass(Employee,Developer)"
   ]
  },
  {
   "cell_type": "markdown",
   "id": "d4c6e845",
   "metadata": {},
   "source": [
    "### Special Magic/Dunder Methods"
   ]
  },
  {
   "cell_type": "code",
   "execution_count": 112,
   "id": "88d624ea",
   "metadata": {},
   "outputs": [],
   "source": [
    "class Employee:\n",
    "    num_of_employees=0\n",
    "    raise_amount=1.05\n",
    "    def __init__(self,first,last,pay):\n",
    "        self.first=first\n",
    "        self.last=last\n",
    "        self.email=first+'.'+last+'@ea.com'\n",
    "        self.pay=pay\n",
    "        Employee.num_of_employees +=1\n",
    "    def fullIntro(self):\n",
    "        return f'{self.first} {self.last}'\n",
    "    \n",
    "    def apply_raise(self):\n",
    "        self.pay=int(self.pay*self.raise_amount) \n",
    "        \n",
    "    def __repr__(self):\n",
    "#         return f'{self.first} {self.last} {self.email} {self.pay}' Or\n",
    "          return f\"Employee('{self.first} {self.last}' {self.pay} '{self.email}' )\"\n",
    "    def __str__(self):\n",
    "        return f'{self.first}'\n",
    "    def __add__(self,other):\n",
    "        return self.pay+other.pay\n",
    "    def __len__(self):\n",
    "        return len(self.fullIntro())"
   ]
  },
  {
   "cell_type": "code",
   "execution_count": 113,
   "id": "3b5ad419",
   "metadata": {},
   "outputs": [],
   "source": [
    "emp_1=Employee('Ashwin','Mandaokar',250000)\n",
    "emp_2=Employee('ashish','sing',25000)"
   ]
  },
  {
   "cell_type": "code",
   "execution_count": 114,
   "id": "dddac46b",
   "metadata": {},
   "outputs": [
    {
     "data": {
      "text/plain": [
       "'Ashwin'"
      ]
     },
     "execution_count": 114,
     "metadata": {},
     "output_type": "execute_result"
    }
   ],
   "source": [
    "str(emp_1)"
   ]
  },
  {
   "cell_type": "code",
   "execution_count": 115,
   "id": "06390e8c",
   "metadata": {},
   "outputs": [
    {
     "data": {
      "text/plain": [
       "275000"
      ]
     },
     "execution_count": 115,
     "metadata": {},
     "output_type": "execute_result"
    }
   ],
   "source": [
    "(emp_1+emp_2)"
   ]
  },
  {
   "cell_type": "code",
   "execution_count": 116,
   "id": "72ac193b",
   "metadata": {},
   "outputs": [
    {
     "ename": "NameError",
     "evalue": "name 'add' is not defined",
     "output_type": "error",
     "traceback": [
      "\u001b[1;31m---------------------------------------------------------------------------\u001b[0m",
      "\u001b[1;31mNameError\u001b[0m                                 Traceback (most recent call last)",
      "\u001b[1;32m<ipython-input-116-4818b71da413>\u001b[0m in \u001b[0;36m<module>\u001b[1;34m\u001b[0m\n\u001b[1;32m----> 1\u001b[1;33m \u001b[0madd\u001b[0m\u001b[1;33m(\u001b[0m\u001b[0memp_1\u001b[0m\u001b[1;33m,\u001b[0m\u001b[0memp_2\u001b[0m\u001b[1;33m)\u001b[0m\u001b[1;33m\u001b[0m\u001b[1;33m\u001b[0m\u001b[0m\n\u001b[0m",
      "\u001b[1;31mNameError\u001b[0m: name 'add' is not defined"
     ]
    }
   ],
   "source": [
    "add(emp_1,emp_2)"
   ]
  },
  {
   "cell_type": "code",
   "execution_count": 117,
   "id": "83f9ae05",
   "metadata": {},
   "outputs": [
    {
     "data": {
      "text/plain": [
       "16"
      ]
     },
     "execution_count": 117,
     "metadata": {},
     "output_type": "execute_result"
    }
   ],
   "source": [
    "len(emp_1)"
   ]
  },
  {
   "cell_type": "code",
   "execution_count": 118,
   "id": "981e0534",
   "metadata": {},
   "outputs": [
    {
     "data": {
      "text/plain": [
       "Employee('Ashwin Mandaokar' 250000 'Ashwin.Mandaokar@ea.com' )"
      ]
     },
     "execution_count": 118,
     "metadata": {},
     "output_type": "execute_result"
    }
   ],
   "source": [
    "emp_1"
   ]
  },
  {
   "cell_type": "code",
   "execution_count": 119,
   "id": "40ca608a",
   "metadata": {},
   "outputs": [
    {
     "name": "stdout",
     "output_type": "stream",
     "text": [
      "16\n"
     ]
    }
   ],
   "source": [
    "print(len(emp_1))"
   ]
  },
  {
   "cell_type": "code",
   "execution_count": null,
   "id": "b37e7652",
   "metadata": {},
   "outputs": [],
   "source": []
  }
 ],
 "metadata": {
  "kernelspec": {
   "display_name": "Python 3",
   "language": "python",
   "name": "python3"
  },
  "language_info": {
   "codemirror_mode": {
    "name": "ipython",
    "version": 3
   },
   "file_extension": ".py",
   "mimetype": "text/x-python",
   "name": "python",
   "nbconvert_exporter": "python",
   "pygments_lexer": "ipython3",
   "version": "3.9.1"
  }
 },
 "nbformat": 4,
 "nbformat_minor": 5
}
