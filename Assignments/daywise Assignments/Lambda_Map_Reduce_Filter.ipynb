{
 "cells": [
  {
   "cell_type": "code",
   "execution_count": 3,
   "id": "dc71cc0f",
   "metadata": {},
   "outputs": [
    {
     "name": "stdout",
     "output_type": "stream",
     "text": [
      "22\n"
     ]
    }
   ],
   "source": [
    "def myfunc(n):\n",
    "  return lambda a : a * n\n",
    "\n",
    "mydoubler = myfunc(2)\n",
    "\n",
    "print(mydoubler(11))\n"
   ]
  },
  {
   "cell_type": "code",
   "execution_count": 13,
   "id": "06d8037b",
   "metadata": {},
   "outputs": [
    {
     "data": {
      "text/plain": [
       "45"
      ]
     },
     "execution_count": 13,
     "metadata": {},
     "output_type": "execute_result"
    }
   ],
   "source": [
    "def myfun(n):\n",
    "    return abc(15,3)\n",
    "def abc(a,n):\n",
    "    return a*n\n",
    "myfun(3)"
   ]
  },
  {
   "cell_type": "code",
   "execution_count": 14,
   "id": "e16f016e",
   "metadata": {},
   "outputs": [
    {
     "ename": "SyntaxError",
     "evalue": "invalid syntax (<ipython-input-14-4d2eccf0a6f0>, line 2)",
     "output_type": "error",
     "traceback": [
      "\u001b[1;36m  File \u001b[1;32m\"<ipython-input-14-4d2eccf0a6f0>\"\u001b[1;36m, line \u001b[1;32m2\u001b[0m\n\u001b[1;33m    return def abc(a):\u001b[0m\n\u001b[1;37m           ^\u001b[0m\n\u001b[1;31mSyntaxError\u001b[0m\u001b[1;31m:\u001b[0m invalid syntax\n"
     ]
    }
   ],
   "source": [
    "def myfunc(n):\n",
    "  return def abc(a):\n",
    "            return a*n\n"
   ]
  },
  {
   "cell_type": "code",
   "execution_count": 20,
   "id": "1c914d98",
   "metadata": {},
   "outputs": [
    {
     "name": "stdout",
     "output_type": "stream",
     "text": [
      "1\n",
      "11\n",
      "111\n",
      "****\n"
     ]
    }
   ],
   "source": [
    "print('1')\n",
    "print('1'*2)\n",
    "print('1'*3)\n",
    "print('*'*4)\n",
    "\n"
   ]
  },
  {
   "cell_type": "markdown",
   "id": "7c837dba",
   "metadata": {},
   "source": [
    "# Lambda"
   ]
  },
  {
   "cell_type": "code",
   "execution_count": 21,
   "id": "a0c3f7f0",
   "metadata": {},
   "outputs": [],
   "source": [
    "def add_me(x,y):\n",
    "    return x+y"
   ]
  },
  {
   "cell_type": "code",
   "execution_count": 22,
   "id": "9cb81496",
   "metadata": {},
   "outputs": [
    {
     "data": {
      "text/plain": [
       "8"
      ]
     },
     "execution_count": 22,
     "metadata": {},
     "output_type": "execute_result"
    }
   ],
   "source": [
    "add_me(3,5)"
   ]
  },
  {
   "cell_type": "code",
   "execution_count": 24,
   "id": "0f8677f7",
   "metadata": {},
   "outputs": [],
   "source": [
    "#using lamda\n",
    "add_me_too=lambda x,y:x+y"
   ]
  },
  {
   "cell_type": "code",
   "execution_count": 25,
   "id": "6d9057fa",
   "metadata": {},
   "outputs": [
    {
     "data": {
      "text/plain": [
       "3"
      ]
     },
     "execution_count": 25,
     "metadata": {},
     "output_type": "execute_result"
    }
   ],
   "source": [
    "add_me_too(1,2)"
   ]
  },
  {
   "cell_type": "code",
   "execution_count": 26,
   "id": "c42b7622",
   "metadata": {},
   "outputs": [],
   "source": [
    "def myfun(n):\n",
    "    return lambda a:a*n"
   ]
  },
  {
   "cell_type": "code",
   "execution_count": 27,
   "id": "bc24519e",
   "metadata": {},
   "outputs": [],
   "source": [
    "Doubled=myfun(5)"
   ]
  },
  {
   "cell_type": "code",
   "execution_count": 29,
   "id": "a5dc38e8",
   "metadata": {},
   "outputs": [
    {
     "data": {
      "text/plain": [
       "60"
      ]
     },
     "execution_count": 29,
     "metadata": {},
     "output_type": "execute_result"
    }
   ],
   "source": [
    "Doubled(12)"
   ]
  },
  {
   "cell_type": "markdown",
   "id": "e3a1a762",
   "metadata": {},
   "source": []
  },
  {
   "cell_type": "code",
   "execution_count": 30,
   "id": "60748d38",
   "metadata": {},
   "outputs": [],
   "source": [
    "# def multiply_me(a,b):\n",
    "#     return a*b\n",
    "# equivalent\n",
    "multiply_me=lambda a,b:a*b"
   ]
  },
  {
   "cell_type": "code",
   "execution_count": 31,
   "id": "3433e1f1",
   "metadata": {},
   "outputs": [
    {
     "data": {
      "text/plain": [
       "81"
      ]
     },
     "execution_count": 31,
     "metadata": {},
     "output_type": "execute_result"
    }
   ],
   "source": [
    "multiply_me(9,9)"
   ]
  },
  {
   "cell_type": "code",
   "execution_count": 5,
   "id": "c17478b1",
   "metadata": {},
   "outputs": [],
   "source": [
    "# def subtract_me(a,b):\n",
    "#     return a-b\n",
    "# equivalent\n",
    "subtract_me=lambda a,b:a-b"
   ]
  },
  {
   "cell_type": "code",
   "execution_count": 6,
   "id": "976ad9e7",
   "metadata": {},
   "outputs": [
    {
     "data": {
      "text/plain": [
       "1"
      ]
     },
     "execution_count": 6,
     "metadata": {},
     "output_type": "execute_result"
    }
   ],
   "source": [
    "subtract_me(9,8)"
   ]
  },
  {
   "cell_type": "code",
   "execution_count": null,
   "id": "08c99cd7",
   "metadata": {},
   "outputs": [],
   "source": []
  },
  {
   "cell_type": "code",
   "execution_count": null,
   "id": "c382feed",
   "metadata": {},
   "outputs": [],
   "source": []
  },
  {
   "cell_type": "markdown",
   "id": "f6dd745d",
   "metadata": {},
   "source": [
    "# List Comprehension"
   ]
  },
  {
   "cell_type": "code",
   "execution_count": 35,
   "id": "dc881be7",
   "metadata": {},
   "outputs": [],
   "source": [
    "items=[1,2,3,4,5,6,7,8,9,10]"
   ]
  },
  {
   "cell_type": "code",
   "execution_count": 38,
   "id": "d7bf0775",
   "metadata": {},
   "outputs": [
    {
     "name": "stdout",
     "output_type": "stream",
     "text": [
      "1\n",
      "2\n",
      "3\n",
      "4\n",
      "5\n",
      "6\n",
      "7\n",
      "8\n",
      "9\n",
      "10\n"
     ]
    }
   ],
   "source": [
    "for i in items:\n",
    "    print(i)"
   ]
  },
  {
   "cell_type": "code",
   "execution_count": 40,
   "id": "41db9c01",
   "metadata": {},
   "outputs": [
    {
     "data": {
      "text/plain": [
       "['the no is:1',\n",
       " 'the no is:2',\n",
       " 'the no is:3',\n",
       " 'the no is:4',\n",
       " 'the no is:5',\n",
       " 'the no is:6',\n",
       " 'the no is:7',\n",
       " 'the no is:8',\n",
       " 'the no is:9',\n",
       " 'the no is:10']"
      ]
     },
     "execution_count": 40,
     "metadata": {},
     "output_type": "execute_result"
    }
   ],
   "source": [
    "[f\"the no is:{i}\" for i in items]"
   ]
  },
  {
   "cell_type": "code",
   "execution_count": 41,
   "id": "fd18cfe5",
   "metadata": {},
   "outputs": [
    {
     "name": "stdout",
     "output_type": "stream",
     "text": [
      "The no is:\n"
     ]
    },
    {
     "data": {
      "text/plain": [
       "[1, 2, 3, 4, 5, 6, 7, 8, 9, 10]"
      ]
     },
     "execution_count": 41,
     "metadata": {},
     "output_type": "execute_result"
    }
   ],
   "source": [
    "print('The no is:')\n",
    "[i for i in items]"
   ]
  },
  {
   "cell_type": "code",
   "execution_count": 42,
   "id": "6e25e25f",
   "metadata": {},
   "outputs": [
    {
     "name": "stdout",
     "output_type": "stream",
     "text": [
      "3\n",
      "4\n",
      "5\n",
      "6\n",
      "7\n",
      "8\n",
      "9\n",
      "10\n"
     ]
    }
   ],
   "source": [
    "for i in items:\n",
    "    if i>2:\n",
    "        print(i)"
   ]
  },
  {
   "cell_type": "code",
   "execution_count": 43,
   "id": "7333b7f2",
   "metadata": {},
   "outputs": [
    {
     "data": {
      "text/plain": [
       "[3, 4, 5, 6, 7, 8, 9, 10]"
      ]
     },
     "execution_count": 43,
     "metadata": {},
     "output_type": "execute_result"
    }
   ],
   "source": [
    "[i for i in items if i>2]"
   ]
  },
  {
   "cell_type": "code",
   "execution_count": 47,
   "id": "22ff9b90",
   "metadata": {},
   "outputs": [
    {
     "name": "stdout",
     "output_type": "stream",
     "text": [
      "i <2\n",
      "i <2\n",
      "i>>>>>>2\n",
      "i>>>>>>2\n",
      "i>>>>>>2\n",
      "i>>>>>>2\n",
      "i>>>>>>2\n",
      "i>>>>>>2\n",
      "i>>>>>>2\n",
      "i>>>>>>2\n"
     ]
    }
   ],
   "source": [
    "for i in items:\n",
    "    if i>2:\n",
    "        print(\"i>>>>>>2\")\n",
    "    else:\n",
    "        print(\"i <2\")"
   ]
  },
  {
   "cell_type": "code",
   "execution_count": 49,
   "id": "2f511733",
   "metadata": {},
   "outputs": [
    {
     "data": {
      "text/plain": [
       "['i<2',\n",
       " 'i<2',\n",
       " 'i>>>2',\n",
       " 'i>>>2',\n",
       " 'i>>>2',\n",
       " 'i>>>2',\n",
       " 'i>>>2',\n",
       " 'i>>>2',\n",
       " 'i>>>2',\n",
       " 'i>>>2']"
      ]
     },
     "execution_count": 49,
     "metadata": {},
     "output_type": "execute_result"
    }
   ],
   "source": [
    "[\"i>>>2\" if i>2 else \"i<2\" for i in items]"
   ]
  },
  {
   "cell_type": "markdown",
   "id": "c2f60b63",
   "metadata": {},
   "source": [
    "# Filter"
   ]
  },
  {
   "cell_type": "code",
   "execution_count": 8,
   "id": "1f0a23e8",
   "metadata": {},
   "outputs": [
    {
     "data": {
      "text/plain": [
       "[2, 4, 6, 8, 10]"
      ]
     },
     "execution_count": 8,
     "metadata": {},
     "output_type": "execute_result"
    }
   ],
   "source": [
    "# filter function only works on the function that print true or false\n",
    "findOddNo=lambda x:x%2!=0\n",
    "findEvenNo=lambda x:x%2==0\n",
    "\n",
    "\n",
    "list2=[1,2,3,4,5,6,7,8,9,10]\n",
    "list(filter(findEvenNo,list2))"
   ]
  },
  {
   "cell_type": "markdown",
   "id": "bf7401e6",
   "metadata": {},
   "source": [
    "# Reduce"
   ]
  },
  {
   "cell_type": "code",
   "execution_count": 2,
   "id": "e8d81ffb",
   "metadata": {},
   "outputs": [],
   "source": [
    "from functools import reduce"
   ]
  },
  {
   "cell_type": "code",
   "execution_count": 57,
   "id": "72e0f087",
   "metadata": {},
   "outputs": [
    {
     "data": {
      "text/plain": [
       "55"
      ]
     },
     "execution_count": 57,
     "metadata": {},
     "output_type": "execute_result"
    }
   ],
   "source": [
    "reduce(add_me_too,list2)"
   ]
  },
  {
   "cell_type": "code",
   "execution_count": 9,
   "id": "2fbe349c",
   "metadata": {},
   "outputs": [
    {
     "data": {
      "text/plain": [
       "-53"
      ]
     },
     "execution_count": 9,
     "metadata": {},
     "output_type": "execute_result"
    }
   ],
   "source": [
    "reduce(subtract_me,list2)"
   ]
  },
  {
   "cell_type": "code",
   "execution_count": null,
   "id": "7ec2fa95",
   "metadata": {},
   "outputs": [],
   "source": [
    "reduce(multiply)"
   ]
  }
 ],
 "metadata": {
  "kernelspec": {
   "display_name": "Python 3",
   "language": "python",
   "name": "python3"
  },
  "language_info": {
   "codemirror_mode": {
    "name": "ipython",
    "version": 3
   },
   "file_extension": ".py",
   "mimetype": "text/x-python",
   "name": "python",
   "nbconvert_exporter": "python",
   "pygments_lexer": "ipython3",
   "version": "3.9.1"
  }
 },
 "nbformat": 4,
 "nbformat_minor": 5
}
